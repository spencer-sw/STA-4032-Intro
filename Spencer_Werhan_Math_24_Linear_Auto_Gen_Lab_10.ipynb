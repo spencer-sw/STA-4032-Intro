{
  "nbformat": 4,
  "nbformat_minor": 0,
  "metadata": {
    "colab": {
      "provenance": []
    },
    "kernelspec": {
      "name": "python3",
      "display_name": "Python 3"
    },
    "language_info": {
      "name": "python"
    },
    "accelerator": "GPU"
  },
  "cells": [
    {
      "cell_type": "markdown",
      "source": [
        "## Setup"
      ],
      "metadata": {
        "id": "PQsLStfxfRrO"
      }
    },
    {
      "cell_type": "markdown",
      "source": [
        "Classify\n",
        "\n",
        "See a picture and code it\n",
        "\n",
        "Auto Encoder\n",
        "\n",
        "Make smaller\n",
        "\n",
        "Generator"
      ],
      "metadata": {
        "id": "-hrELX-hxPIw"
      }
    },
    {
      "cell_type": "markdown",
      "source": [
        "### Imports"
      ],
      "metadata": {
        "id": "X2noEVRFmHTi"
      }
    },
    {
      "cell_type": "code",
      "source": [
        "import numpy as np\n",
        "\n",
        "# numpy is a fundamental package for numerical computation in Python.\n",
        "# It provides support for large, multi-dimensional arrays and matrices, along with a large collection of high-level mathematical functions to operate on these arrays.\n",
        "\n",
        "import matplotlib.pyplot as plt\n",
        "\n",
        "# matplotlib.pyplot is a plotting library used for creating static, interactive, and animated visualizations in Python. It's very useful for graphing data.\n",
        "\n",
        "import urllib.request\n",
        "\n",
        "# This module is used to open URLs, primarily HTTP, which can be used to fetch data over the Internet.\n",
        "\n",
        "from PIL import Image\n",
        "\n",
        "# Part of the Python Imaging Library (now known as Pillow), this module provides extensive file format support, an efficient internal representation, and fairly powerful image processing capabilities.\n",
        "\n",
        "from imageio import *\n",
        "\n",
        "# imageio is a library that provides an easy interface to read and write a wide range of image data, including animated images, video, and volumetric data.\n",
        "\n",
        "import torch\n",
        "\n",
        "# torch is a popular open-source machine learning library based on the Torch library, used for applications such as computer vision and natural language processing, primarily developed by Facebook's AI Research lab.\n",
        "\n",
        "from skimage.transform import resize\n",
        "\n",
        "# Part of the scikit-image library, this function is used for resizing images. It's a handy utility for image processing tasks.\n",
        "\n",
        "from mpl_toolkits.axes_grid1.axes_rgb import make_rgb_axes, RGBAxes\n",
        "\n",
        "# These tools from matplotlib help in creating RGB composite images, useful for more complex visualizations involving color images.\n",
        "\n",
        "from torchvision.models import *\n",
        "\n",
        "# This submodule of torchvision provides pre-trained models for popular deep learning architectures like ResNets, VGG, etc., which can be used directly for classification, or modified for other similar tasks.\n",
        "\n",
        "from torchvision.datasets import MNIST,KMNIST,FashionMNIST\n",
        "\n",
        "# These are datasets provided by torchvision for use in machine learning models.\n",
        "# MNIST is a dataset of handwritten digits, KMNIST is a dataset of handwritten Japanese characters, and FashionMNIST is a dataset of fashion articles, each used for training models in computer vision tasks.\n",
        "\n",
        "from skimage.util import montage\n",
        "\n",
        "# This function creates a montage (composite image) from a given set of images, which is useful for displaying multiple images in a single figure.\n"
      ],
      "metadata": {
        "id": "aGu2hYn5VgKS"
      },
      "execution_count": 40,
      "outputs": []
    },
    {
      "cell_type": "code",
      "source": [
        "!pip install wandb\n",
        "\n",
        "# This line is a command often used in Jupyter notebooks and similar environments to install Python packages.\n",
        "# pip is the Python package installer, and this command installs the wandb library, which stands for \"Weights & Biases\".\n",
        "\n",
        "import wandb as wb\n",
        "\n",
        "# This line imports the wandb library into the Python script, and it is aliased as wb to make it easier to refer to in the code."
      ],
      "metadata": {
        "id": "O1xRGxv7AfoZ",
        "colab": {
          "base_uri": "https://localhost:8080/"
        },
        "outputId": "215abed2-9203-4515-ec57-a6efc4806b51"
      },
      "execution_count": 41,
      "outputs": [
        {
          "output_type": "stream",
          "name": "stdout",
          "text": [
            "Requirement already satisfied: wandb in /usr/local/lib/python3.10/dist-packages (0.16.6)\n",
            "Requirement already satisfied: Click!=8.0.0,>=7.1 in /usr/local/lib/python3.10/dist-packages (from wandb) (8.1.7)\n",
            "Requirement already satisfied: GitPython!=3.1.29,>=1.0.0 in /usr/local/lib/python3.10/dist-packages (from wandb) (3.1.43)\n",
            "Requirement already satisfied: requests<3,>=2.0.0 in /usr/local/lib/python3.10/dist-packages (from wandb) (2.31.0)\n",
            "Requirement already satisfied: psutil>=5.0.0 in /usr/local/lib/python3.10/dist-packages (from wandb) (5.9.5)\n",
            "Requirement already satisfied: sentry-sdk>=1.0.0 in /usr/local/lib/python3.10/dist-packages (from wandb) (1.45.0)\n",
            "Requirement already satisfied: docker-pycreds>=0.4.0 in /usr/local/lib/python3.10/dist-packages (from wandb) (0.4.0)\n",
            "Requirement already satisfied: PyYAML in /usr/local/lib/python3.10/dist-packages (from wandb) (6.0.1)\n",
            "Requirement already satisfied: setproctitle in /usr/local/lib/python3.10/dist-packages (from wandb) (1.3.3)\n",
            "Requirement already satisfied: setuptools in /usr/local/lib/python3.10/dist-packages (from wandb) (67.7.2)\n",
            "Requirement already satisfied: appdirs>=1.4.3 in /usr/local/lib/python3.10/dist-packages (from wandb) (1.4.4)\n",
            "Requirement already satisfied: protobuf!=4.21.0,<5,>=3.19.0 in /usr/local/lib/python3.10/dist-packages (from wandb) (3.20.3)\n",
            "Requirement already satisfied: six>=1.4.0 in /usr/local/lib/python3.10/dist-packages (from docker-pycreds>=0.4.0->wandb) (1.16.0)\n",
            "Requirement already satisfied: gitdb<5,>=4.0.1 in /usr/local/lib/python3.10/dist-packages (from GitPython!=3.1.29,>=1.0.0->wandb) (4.0.11)\n",
            "Requirement already satisfied: charset-normalizer<4,>=2 in /usr/local/lib/python3.10/dist-packages (from requests<3,>=2.0.0->wandb) (3.3.2)\n",
            "Requirement already satisfied: idna<4,>=2.5 in /usr/local/lib/python3.10/dist-packages (from requests<3,>=2.0.0->wandb) (3.7)\n",
            "Requirement already satisfied: urllib3<3,>=1.21.1 in /usr/local/lib/python3.10/dist-packages (from requests<3,>=2.0.0->wandb) (2.0.7)\n",
            "Requirement already satisfied: certifi>=2017.4.17 in /usr/local/lib/python3.10/dist-packages (from requests<3,>=2.0.0->wandb) (2024.2.2)\n",
            "Requirement already satisfied: smmap<6,>=3.0.1 in /usr/local/lib/python3.10/dist-packages (from gitdb<5,>=4.0.1->GitPython!=3.1.29,>=1.0.0->wandb) (5.0.1)\n"
          ]
        }
      ]
    },
    {
      "cell_type": "markdown",
      "source": [
        "Weights & Biases (wandb) is a tool designed for tracking experiments, visualizing data, and organizing ML projects. It provides a suite of machine learning tools to improve the performance of models by enabling developers to track and visualize their experiments, compare between them, and easily share findings with colleagues. Using wandb, developers can log model training metrics, system metrics, and even output media like plots or model predictions, all in a centralized and collaborative dashboard.\n",
        "\n",
        "This tool is particularly useful in machine learning projects for:\n",
        "\n",
        "Experiment tracking: Log experiments and automatically capture inputs, hyperparameters, outputs, and logs.\n",
        "\n",
        "Model optimization: Visualize and compare model performance to efficiently fine-tune parameters.\n",
        "\n",
        "Collaboration: Share results with your team and reproduce experiments from logged data.\n",
        "\n",
        "By incorporating wandb in a script, you can enhance the manageability and reproducibility of machine learning experiments, making it easier to optimize and scale ML models effectively."
      ],
      "metadata": {
        "id": "NB_Lvld7D8QV"
      }
    },
    {
      "cell_type": "markdown",
      "source": [
        "## Plot\n",
        "\n",
        "This function is designed to visualize data, particularly for arrays or tensors:\n",
        "\n",
        "Input Check (if type(x) == torch.Tensor): It checks if the input x is a PyTorch tensor. If true, it converts the tensor to a NumPy array. This conversion ensures compatibility with matplotlib, as it plots arrays. The tensor is moved to CPU memory if it's not already (useful when working with CUDA tensors), and detach() is called to remove it from the computation graph, ensuring no gradients are computed for this operation.\n",
        "\n",
        "Plotting: The function creates a figure and an axes object using plt.subplots(). It then displays the image on these axes with the imshow() function, using a grayscale color map. The axes are turned off with ax.axis('off') to ensure no axis ticks or labels are shown. The size of the figure is set to 5x5 inches, and plt.show() is called to display the plot."
      ],
      "metadata": {
        "id": "AYQY4zJ0EOuK"
      }
    },
    {
      "cell_type": "code",
      "metadata": {
        "id": "6DQxxGNl1E1o"
      },
      "source": [
        "def plot(x):\n",
        "    if type(x) == torch.Tensor :\n",
        "        x = x.cpu().detach().numpy()\n",
        "\n",
        "    fig, ax = plt.subplots()\n",
        "    im = ax.imshow(x, cmap = 'gray')\n",
        "    ax.axis('off')\n",
        "    fig.set_size_inches(5, 5)\n",
        "    plt.show()"
      ],
      "execution_count": 42,
      "outputs": []
    },
    {
      "cell_type": "markdown",
      "source": [
        "## Montage Plot\n",
        "\n",
        "This function creates a montage (a composite image) of the input images:\n",
        "\n",
        "Padding: It pads the input array x with zeros on all sides of each image in the array. This is often done to separate the images visually in the montage.\n",
        "Montage Creation: The montage() function from skimage.util is used to create a single image array from the padded images. The result is then passed to the plot() function to visualize the montage.\n"
      ],
      "metadata": {
        "id": "Ac0s2qVfEVWJ"
      }
    },
    {
      "cell_type": "code",
      "metadata": {
        "id": "wLcWTt76COK2"
      },
      "source": [
        "def montage_plot(x):\n",
        "    x = np.pad(x, pad_width=((0, 0), (1, 1), (1, 1)), mode='constant', constant_values=0)\n",
        "    plot(montage(x))"
      ],
      "execution_count": 43,
      "outputs": []
    },
    {
      "cell_type": "markdown",
      "source": [
        "This function retrieves a batch of data for training or testing:\n",
        "\n",
        "Input: It accepts a mode ('train' or 'test') to decide from which dataset to fetch the data.\n",
        "\n",
        "Data Fetching:\n",
        "\n",
        "  \n",
        "\n",
        "  \n",
        "\n",
        "*   Train Mode: If mode is \"train\", it randomly selects a start index r for the batch from the training dataset X and corresponding labels Y, using the global batch size b. It then slices X and Y to get a batch of inputs and labels.\n",
        "*   Test Mode: Similarly, if mode is \"test\", it does the same operation but using the test datasets X_test and Y_test.\n",
        "\n",
        "\n",
        "\n",
        "Return: The function returns the batch of input data x and labels y."
      ],
      "metadata": {
        "id": "MmnGLt38ElaE"
      }
    },
    {
      "cell_type": "code",
      "source": [
        "b = 1000\n",
        "\n",
        "# This sets a global variable b with the value 1000, which is used as the batch size in the next function.\n",
        "\n",
        "def get_batch(mode):\n",
        "    if mode == \"train\":\n",
        "        r = np.random.randint(X.shape[0]-b)\n",
        "        x = X[r:r+b,:]\n",
        "        y = Y[r:r+b]\n",
        "    elif mode == \"test\":\n",
        "        r = np.random.randint(X_test.shape[0]-b)\n",
        "        x = X_test[r:r+b,:]\n",
        "        y = Y_test[r:r+b]\n",
        "    return x,y"
      ],
      "metadata": {
        "id": "NZaGcRW6Igar"
      },
      "execution_count": 44,
      "outputs": []
    },
    {
      "cell_type": "markdown",
      "source": [
        "## MNIST\n",
        "\n",
        "The script supports loading three different datasets: MNIST, KMNIST, and FashionMNIST. Each dataset can be toggled by commenting or uncommenting the respective lines. These datasets are popular for training image classification models:\n",
        "\n",
        "MNIST: Handwritten digits.\n",
        "\n",
        "KMNIST: Handwritten Japanese characters.\n",
        "\n",
        "Fashion MNIST: Zalando's article images representing fashion items.\n",
        "\n",
        "These datasets are loaded from the torchvision library, which conveniently provides functionality to download and cache the datasets. The train parameter determines whether the training set (True) or test set (False) is loaded. All images and labels are then converted to NumPy arrays."
      ],
      "metadata": {
        "id": "gkw9kmV4NyRo"
      }
    },
    {
      "cell_type": "markdown",
      "source": [
        "### Load Data"
      ],
      "metadata": {
        "id": "Dc8TF76WPY1e"
      }
    },
    {
      "cell_type": "code",
      "metadata": {
        "id": "mm7ZMYrVEdMX"
      },
      "source": [
        "# #MNIST\n",
        "train_set = MNIST('./data', train=True, download=True)\n",
        "test_set  = MNIST('./data', train=False, download=True)\n",
        "\n",
        "# train_set and test_set: These variables are assigned datasets from the MNIST database. The MNIST function is called with several parameters:\n",
        "# './data': The directory where the dataset will be stored or retrieved from if already downloaded.\n",
        "# train=True or train=False: Specifies whether to load the training dataset or the test dataset, respectively.\n",
        "# download=True: Instructs the function to download the dataset if it is not already present in the specified directory.\n",
        "\n",
        "#KMNIST\n",
        "# train_set = KMNIST('./data', train=True, download=True)\n",
        "# test_set =  KMNIST('./data', train=False, download=True)\n",
        "\n",
        "# Fashion MNIST\n",
        "# train_set = FashionMNIST('./data', train=True, download=True)\n",
        "# test_set =  FashionMNIST('./data', train=False, download=True)"
      ],
      "execution_count": 45,
      "outputs": []
    },
    {
      "cell_type": "code",
      "metadata": {
        "id": "Ols0HivADS6a"
      },
      "source": [
        "X = train_set.data.numpy()\n",
        "X_test = test_set.data.numpy()\n",
        "Y = train_set.targets.numpy()\n",
        "Y_test = test_set.targets.numpy()\n",
        "\n",
        "# Converts the dataset tensors (data for images and targets for labels) into NumPy arrays for further processing or analysis.\n",
        "# This is typical when performing operations that are more conveniently done in NumPy, or preparing the data for input to certain machine learning frameworks that expect NumPy arrays.\n",
        "\n",
        "X = X[:,None,:,:]/255\n",
        "X_test = X_test[:,None,:,:]/255\n",
        "\n",
        "# Reshaping and Normalizing:\n",
        "# [:,None,:,:]: Adds an extra dimension, making the shape from (N, 28, 28) to (N, 1, 28, 28). This is necessary for PyTorch, which expects batch data to have a channel dimension.\n",
        "# /255: Normalizes the pixel values to be between 0 and 1, improving model convergence during training."
      ],
      "execution_count": 46,
      "outputs": []
    },
    {
      "cell_type": "code",
      "metadata": {
        "colab": {
          "base_uri": "https://localhost:8080/"
        },
        "id": "gfAjr0UBjgfs",
        "outputId": "5b097a44-0311-4883-d591-b424da773254"
      },
      "source": [
        "X.shape\n",
        "\n",
        "# Displays the shape of X."
      ],
      "execution_count": 47,
      "outputs": [
        {
          "output_type": "execute_result",
          "data": {
            "text/plain": [
              "(60000, 1, 28, 28)"
            ]
          },
          "metadata": {},
          "execution_count": 47
        }
      ]
    },
    {
      "cell_type": "code",
      "source": [
        "Y[50000]\n",
        "\n",
        "# Retrieves and prints the label for the 50,000th image in the dataset, useful for verifying data correctness."
      ],
      "metadata": {
        "colab": {
          "base_uri": "https://localhost:8080/"
        },
        "id": "6pBalDqizkZw",
        "outputId": "b0749b6a-3e20-4a35-8496-f87bf477db16"
      },
      "execution_count": 48,
      "outputs": [
        {
          "output_type": "execute_result",
          "data": {
            "text/plain": [
              "3"
            ]
          },
          "metadata": {},
          "execution_count": 48
        }
      ]
    },
    {
      "cell_type": "code",
      "metadata": {
        "colab": {
          "base_uri": "https://localhost:8080/",
          "height": 422
        },
        "id": "Ye809_jCAAxr",
        "outputId": "18ef06a1-d521-44c5-e7f9-10da1b261771"
      },
      "source": [
        "plot(X[101,0,:,:])\n",
        "\n",
        "# Calls the plot function defined earlier to visualize the 102nd image in the dataset (index 101). The slice [0,:,:] adjusts the tensor to fit the expected input shape for plot."
      ],
      "execution_count": 49,
      "outputs": [
        {
          "output_type": "display_data",
          "data": {
            "text/plain": [
              "<Figure size 500x500 with 1 Axes>"
            ],
            "image/png": "[encoded data removed]"
          },
          "metadata": {}
        }
      ]
    },
    {
      "cell_type": "code",
      "metadata": {
        "id": "evX7gb0YBzpe",
        "colab": {
          "base_uri": "https://localhost:8080/"
        },
        "outputId": "348a1a2f-a411-4db7-8066-53e7212f220c"
      },
      "source": [
        "Y[100]\n",
        "\n",
        "# Label Display: Similar to Y[50000], this fetches and displays the label of the 101st image."
      ],
      "execution_count": 50,
      "outputs": [
        {
          "output_type": "execute_result",
          "data": {
            "text/plain": [
              "5"
            ]
          },
          "metadata": {},
          "execution_count": 50
        }
      ]
    },
    {
      "cell_type": "code",
      "metadata": {
        "id": "b1ExpQONSaC_",
        "colab": {
          "base_uri": "https://localhost:8080/"
        },
        "outputId": "0afaf0dd-eea8-4338-c7ab-7ecbdfd52387"
      },
      "source": [
        "X[0:25,0,:,:].shape\n",
        "\n",
        "# Batch Shape Inspection: Checks the shape of a slice of the dataset consisting of the first 25 images, confirming dimensions after the channel has been isolated."
      ],
      "execution_count": 51,
      "outputs": [
        {
          "output_type": "execute_result",
          "data": {
            "text/plain": [
              "(25, 28, 28)"
            ]
          },
          "metadata": {},
          "execution_count": 51
        }
      ]
    },
    {
      "cell_type": "code",
      "metadata": {
        "id": "CHoMXjA6pWoa",
        "colab": {
          "base_uri": "https://localhost:8080/",
          "height": 422
        },
        "outputId": "00da2dce-0fb8-408c-cf67-eae4ee84cda4"
      },
      "source": [
        "montage_plot(X[125:150,0,:,:])\n",
        "\n",
        "# 0 2nd input because only one color channel\n",
        "\n",
        "# Montage Plotting: Visualizes a composite image of 25 images (from index 125 to 149). Useful for examining a series of images together to verify data integrity or for presentation purposes."
      ],
      "execution_count": 52,
      "outputs": [
        {
          "output_type": "display_data",
          "data": {
            "text/plain": [
              "<Figure size 500x500 with 1 Axes>"
            ],
            "image/png": "[encoded data removed]"
          },
          "metadata": {}
        }
      ]
    },
    {
      "cell_type": "markdown",
      "source": [
        "\n",
        "```\n",
        "X.shape[0]\n",
        "X_test.shape\n",
        "X.shape[0]\n",
        "X_test.shape[0]\n",
        "```\n",
        "\n",
        "Data Size Queries:\n",
        "\n",
        " These lines (likely in an interactive setup) are used to check the total number of examples in the training and test datasets. X.shape[0] and X_test.shape[0] return the number of samples in each respective dataset."
      ],
      "metadata": {
        "id": "Eck2o9vWIZTl"
      }
    },
    {
      "cell_type": "code",
      "metadata": {
        "id": "fQPM_KQpD7Qd",
        "colab": {
          "base_uri": "https://localhost:8080/"
        },
        "outputId": "278e50a6-c724-4089-c3e1-4cbb5f1ae869"
      },
      "source": [
        "X.shape[0]"
      ],
      "execution_count": 53,
      "outputs": [
        {
          "output_type": "execute_result",
          "data": {
            "text/plain": [
              "60000"
            ]
          },
          "metadata": {},
          "execution_count": 53
        }
      ]
    },
    {
      "cell_type": "code",
      "metadata": {
        "id": "QFqBciL5EPgM",
        "colab": {
          "base_uri": "https://localhost:8080/"
        },
        "outputId": "a35063bd-9c72-495d-b56d-932f9e709f78"
      },
      "source": [
        "X_test.shape"
      ],
      "execution_count": 54,
      "outputs": [
        {
          "output_type": "execute_result",
          "data": {
            "text/plain": [
              "(10000, 1, 28, 28)"
            ]
          },
          "metadata": {},
          "execution_count": 54
        }
      ]
    },
    {
      "cell_type": "code",
      "metadata": {
        "id": "_eAq9FpWES_1",
        "colab": {
          "base_uri": "https://localhost:8080/"
        },
        "outputId": "cbd2de42-3649-4c05-d701-f64082d6d0cb"
      },
      "source": [
        "X.shape[0]"
      ],
      "execution_count": 55,
      "outputs": [
        {
          "output_type": "execute_result",
          "data": {
            "text/plain": [
              "60000"
            ]
          },
          "metadata": {},
          "execution_count": 55
        }
      ]
    },
    {
      "cell_type": "code",
      "metadata": {
        "id": "zjqCYVv7EX1d",
        "colab": {
          "base_uri": "https://localhost:8080/"
        },
        "outputId": "6a684219-3c15-4dd6-a52f-95492f1cac91"
      },
      "source": [
        "X_test.shape[0]"
      ],
      "execution_count": 56,
      "outputs": [
        {
          "output_type": "execute_result",
          "data": {
            "text/plain": [
              "10000"
            ]
          },
          "metadata": {},
          "execution_count": 56
        }
      ]
    },
    {
      "cell_type": "code",
      "source": [
        "def GPU(data):\n",
        "    return torch.tensor(data, requires_grad=True, dtype=torch.float, device=torch.device('cuda'))\n",
        "\n",
        "# Converts NumPy data to a PyTorch tensor suitable for gradient computations (useful during training), setting the tensor to use a GPU.\n",
        "\n",
        "def GPU_data(data):\n",
        "    return torch.tensor(data, requires_grad=False, dtype=torch.float, device=torch.device('cuda'))\n",
        "\n",
        "# Similar to GPU, but creates tensors without gradient computation requirements, suitable for data that doesn't require gradients like inputs or labels during inference."
      ],
      "metadata": {
        "id": "PyV8c4cyPAWp"
      },
      "execution_count": 57,
      "outputs": []
    },
    {
      "cell_type": "code",
      "metadata": {
        "id": "zBt4rsdIefV_",
        "colab": {
          "base_uri": "https://localhost:8080/",
          "height": 356
        },
        "outputId": "d72717f3-0ab8-4f72-861b-d7bef9128894"
      },
      "source": [
        "X = GPU_data(X)\n",
        "Y = GPU_data(Y)\n",
        "X_test = GPU_data(X_test)\n",
        "Y_test = GPU_data(Y_test)\n",
        "\n",
        "# Applies the GPU_data function to all data sets, transferring them to GPU and converting them into tensors."
      ],
      "execution_count": 58,
      "outputs": [
        {
          "output_type": "error",
          "ename": "RuntimeError",
          "evalue": "Found no NVIDIA driver on your system. Please check that you have an NVIDIA GPU and installed a driver from http://www.nvidia.com/Download/index.aspx",
          "traceback": [
            "\u001b[0;31m---------------------------------------------------------------------------\u001b[0m",
            "\u001b[0;31mRuntimeError\u001b[0m                              Traceback (most recent call last)",
            "\u001b[0;32m<ipython-input-58-25f8fa510d1a>\u001b[0m in \u001b[0;36m<cell line: 1>\u001b[0;34m()\u001b[0m\n\u001b[0;32m----> 1\u001b[0;31m \u001b[0mX\u001b[0m \u001b[0;34m=\u001b[0m \u001b[0mGPU_data\u001b[0m\u001b[0;34m(\u001b[0m\u001b[0mX\u001b[0m\u001b[0;34m)\u001b[0m\u001b[0;34m\u001b[0m\u001b[0;34m\u001b[0m\u001b[0m\n\u001b[0m\u001b[1;32m      2\u001b[0m \u001b[0mY\u001b[0m \u001b[0;34m=\u001b[0m \u001b[0mGPU_data\u001b[0m\u001b[0;34m(\u001b[0m\u001b[0mY\u001b[0m\u001b[0;34m)\u001b[0m\u001b[0;34m\u001b[0m\u001b[0;34m\u001b[0m\u001b[0m\n\u001b[1;32m      3\u001b[0m \u001b[0mX_test\u001b[0m \u001b[0;34m=\u001b[0m \u001b[0mGPU_data\u001b[0m\u001b[0;34m(\u001b[0m\u001b[0mX_test\u001b[0m\u001b[0;34m)\u001b[0m\u001b[0;34m\u001b[0m\u001b[0;34m\u001b[0m\u001b[0m\n\u001b[1;32m      4\u001b[0m \u001b[0mY_test\u001b[0m \u001b[0;34m=\u001b[0m \u001b[0mGPU_data\u001b[0m\u001b[0;34m(\u001b[0m\u001b[0mY_test\u001b[0m\u001b[0;34m)\u001b[0m\u001b[0;34m\u001b[0m\u001b[0;34m\u001b[0m\u001b[0m\n\u001b[1;32m      5\u001b[0m \u001b[0;34m\u001b[0m\u001b[0m\n",
            "\u001b[0;32m<ipython-input-57-8f19afc20d35>\u001b[0m in \u001b[0;36mGPU_data\u001b[0;34m(data)\u001b[0m\n\u001b[1;32m      5\u001b[0m \u001b[0;34m\u001b[0m\u001b[0m\n\u001b[1;32m      6\u001b[0m \u001b[0;32mdef\u001b[0m \u001b[0mGPU_data\u001b[0m\u001b[0;34m(\u001b[0m\u001b[0mdata\u001b[0m\u001b[0;34m)\u001b[0m\u001b[0;34m:\u001b[0m\u001b[0;34m\u001b[0m\u001b[0;34m\u001b[0m\u001b[0m\n\u001b[0;32m----> 7\u001b[0;31m     \u001b[0;32mreturn\u001b[0m \u001b[0mtorch\u001b[0m\u001b[0;34m.\u001b[0m\u001b[0mtensor\u001b[0m\u001b[0;34m(\u001b[0m\u001b[0mdata\u001b[0m\u001b[0;34m,\u001b[0m \u001b[0mrequires_grad\u001b[0m\u001b[0;34m=\u001b[0m\u001b[0;32mFalse\u001b[0m\u001b[0;34m,\u001b[0m \u001b[0mdtype\u001b[0m\u001b[0;34m=\u001b[0m\u001b[0mtorch\u001b[0m\u001b[0;34m.\u001b[0m\u001b[0mfloat\u001b[0m\u001b[0;34m,\u001b[0m \u001b[0mdevice\u001b[0m\u001b[0;34m=\u001b[0m\u001b[0mtorch\u001b[0m\u001b[0;34m.\u001b[0m\u001b[0mdevice\u001b[0m\u001b[0;34m(\u001b[0m\u001b[0;34m'cuda'\u001b[0m\u001b[0;34m)\u001b[0m\u001b[0;34m)\u001b[0m\u001b[0;34m\u001b[0m\u001b[0;34m\u001b[0m\u001b[0m\n\u001b[0m\u001b[1;32m      8\u001b[0m \u001b[0;34m\u001b[0m\u001b[0m\n\u001b[1;32m      9\u001b[0m \u001b[0;31m# Similar to GPU, but creates tensors without gradient computation requirements, suitable for data that doesn't require gradients like inputs or labels during inference.\u001b[0m\u001b[0;34m\u001b[0m\u001b[0;34m\u001b[0m\u001b[0m\n",
            "\u001b[0;32m/usr/local/lib/python3.10/dist-packages/torch/cuda/__init__.py\u001b[0m in \u001b[0;36m_lazy_init\u001b[0;34m()\u001b[0m\n\u001b[1;32m    300\u001b[0m         \u001b[0;32mif\u001b[0m \u001b[0;34m\"CUDA_MODULE_LOADING\"\u001b[0m \u001b[0;32mnot\u001b[0m \u001b[0;32min\u001b[0m \u001b[0mos\u001b[0m\u001b[0;34m.\u001b[0m\u001b[0menviron\u001b[0m\u001b[0;34m:\u001b[0m\u001b[0;34m\u001b[0m\u001b[0;34m\u001b[0m\u001b[0m\n\u001b[1;32m    301\u001b[0m             \u001b[0mos\u001b[0m\u001b[0;34m.\u001b[0m\u001b[0menviron\u001b[0m\u001b[0;34m[\u001b[0m\u001b[0;34m\"CUDA_MODULE_LOADING\"\u001b[0m\u001b[0;34m]\u001b[0m \u001b[0;34m=\u001b[0m \u001b[0;34m\"LAZY\"\u001b[0m\u001b[0;34m\u001b[0m\u001b[0;34m\u001b[0m\u001b[0m\n\u001b[0;32m--> 302\u001b[0;31m         \u001b[0mtorch\u001b[0m\u001b[0;34m.\u001b[0m\u001b[0m_C\u001b[0m\u001b[0;34m.\u001b[0m\u001b[0m_cuda_init\u001b[0m\u001b[0;34m(\u001b[0m\u001b[0;34m)\u001b[0m\u001b[0;34m\u001b[0m\u001b[0;34m\u001b[0m\u001b[0m\n\u001b[0m\u001b[1;32m    303\u001b[0m         \u001b[0;31m# Some of the queued calls may reentrantly call _lazy_init();\u001b[0m\u001b[0;34m\u001b[0m\u001b[0;34m\u001b[0m\u001b[0m\n\u001b[1;32m    304\u001b[0m         \u001b[0;31m# we need to just return without initializing in that case.\u001b[0m\u001b[0;34m\u001b[0m\u001b[0;34m\u001b[0m\u001b[0m\n",
            "\u001b[0;31mRuntimeError\u001b[0m: Found no NVIDIA driver on your system. Please check that you have an NVIDIA GPU and installed a driver from http://www.nvidia.com/Download/index.aspx"
          ]
        }
      ]
    },
    {
      "cell_type": "code",
      "source": [
        "X = X.reshape(X.shape[0],784)\n",
        "X_test = X_test.reshape(X_test.shape[0],784)\n",
        "\n",
        "# Reshapes the image tensors from (N, 1, 28, 28) to (N, 784), flattening the 28x28 images into single-dimensional vectors necessary for input into certain types of neural networks."
      ],
      "metadata": {
        "id": "qd6QY2wJ3DPk"
      },
      "execution_count": null,
      "outputs": []
    },
    {
      "cell_type": "code",
      "source": [
        "X.shape\n",
        "\n",
        "# Confirms the final shape of X after reshaping, ensuring it's ready for model training or inference."
      ],
      "metadata": {
        "id": "MKUw3_YO39T5"
      },
      "execution_count": null,
      "outputs": []
    },
    {
      "cell_type": "markdown",
      "source": [
        "\n",
        "### Classifier\n"
      ],
      "metadata": {
        "id": "aqdMV6v-2o3h"
      }
    },
    {
      "cell_type": "code",
      "metadata": {
        "id": "OqMKS4LqeBzy"
      },
      "source": [
        "x,y = get_batch('train')\n",
        "\n",
        "# Function Call: This line calls the get_batch function with the argument 'train' to fetch a batch of training data.\n",
        "# Variables x and y: These are the returned values where x holds the input images, and y holds the corresponding labels.\n",
        "# The batch size b was previously set globally to 1000, so x and y should both contain 1000 elements."
      ],
      "execution_count": 59,
      "outputs": []
    },
    {
      "cell_type": "code",
      "metadata": {
        "id": "NvewlRZCeB20",
        "colab": {
          "base_uri": "https://localhost:8080/"
        },
        "outputId": "b9563d33-7907-40cd-9496-ac98a5a5beb2"
      },
      "source": [
        "x.shape"
      ],
      "execution_count": 60,
      "outputs": [
        {
          "output_type": "execute_result",
          "data": {
            "text/plain": [
              "(1000, 1, 28, 28)"
            ]
          },
          "metadata": {},
          "execution_count": 60
        }
      ]
    },
    {
      "cell_type": "markdown",
      "source": [
        "\n",
        "\n",
        "```\n",
        "plot(x[0].reshape(28,28))\n",
        "plot(x[1].reshape(28,28))\n",
        "plot(x[2].reshape(28,28))\n",
        "\n",
        "```\n",
        "\n",
        "Visualization: These three lines plot the first three images of the batch. The reshape(28, 28) function call transforms each selected sample from a flattened or differently shaped form into a 28x28 image suitable for plotting. This reshaping is necessary because the plot function is designed to handle 2D images."
      ],
      "metadata": {
        "id": "34qc8J5lKFGx"
      }
    },
    {
      "cell_type": "code",
      "metadata": {
        "id": "Dfywj66KFh8Y",
        "colab": {
          "base_uri": "https://localhost:8080/",
          "height": 422
        },
        "outputId": "24aa5926-1ee6-4758-f4d6-81075d66cb7a"
      },
      "source": [
        "plot(x[0].reshape(28,28))"
      ],
      "execution_count": 61,
      "outputs": [
        {
          "output_type": "display_data",
          "data": {
            "text/plain": [
              "<Figure size 500x500 with 1 Axes>"
            ],
            "image/png": "[encoded data removed]"
          },
          "metadata": {}
        }
      ]
    },
    {
      "cell_type": "code",
      "metadata": {
        "id": "ZsAhw-64HNJX",
        "colab": {
          "base_uri": "https://localhost:8080/",
          "height": 422
        },
        "outputId": "2026f736-f091-42f2-add7-12092ec63d16"
      },
      "source": [
        "plot(x[1].reshape(28,28))"
      ],
      "execution_count": 62,
      "outputs": [
        {
          "output_type": "display_data",
          "data": {
            "text/plain": [
              "<Figure size 500x500 with 1 Axes>"
            ],
            "image/png": "[encoded data removed]"
          },
          "metadata": {}
        }
      ]
    },
    {
      "cell_type": "code",
      "metadata": {
        "id": "JfIkv97VHRaH",
        "colab": {
          "base_uri": "https://localhost:8080/",
          "height": 422
        },
        "outputId": "b12347da-54a2-4d88-fdf6-9f7cc86bf3e9"
      },
      "source": [
        "plot(x[2].reshape(28,28))"
      ],
      "execution_count": 63,
      "outputs": [
        {
          "output_type": "display_data",
          "data": {
            "text/plain": [
              "<Figure size 500x500 with 1 Axes>"
            ],
            "image/png": "[encoded data removed]"
          },
          "metadata": {}
        }
      ]
    },
    {
      "cell_type": "code",
      "metadata": {
        "id": "hTYYsbmzGZzq",
        "colab": {
          "base_uri": "https://localhost:8080/"
        },
        "outputId": "91e1bec6-28a8-40fc-a70c-f139717bdfb4"
      },
      "source": [
        "y[:10]\n",
        "\n",
        "# Label Inspection: This would generally be used to display the first 10 labels of the batch, which helps\n",
        "# verify that the data fetching function is working correctly and allows you to understand the kinds\n",
        "# of labels that are being processed (e.g., in the context of MNIST, these would be digits from 0 to 9)."
      ],
      "execution_count": 64,
      "outputs": [
        {
          "output_type": "execute_result",
          "data": {
            "text/plain": [
              "array([2, 7, 5, 5, 1, 9, 7, 1, 1, 8])"
            ]
          },
          "metadata": {},
          "execution_count": 64
        }
      ]
    },
    {
      "cell_type": "markdown",
      "source": [
        "Weight Initialization:\n",
        "\n",
        "np.random.randn(784,10): This generates a 784x10 matrix of weights with random values drawn from a standard normal distribution. The dimensions suggest that this matrix is intended for a model where the input has 784 features (e.g., flattened MNIST images) and 10 output nodes (e.g., one for each digit class in MNIST).\n",
        "\n",
        "GPU(...): This function call moves the initialized weight matrix to the GPU and sets it up for gradient computation, preparing it for use in training a neural network. The use of GPU (not GPU_data) suggests that gradients are expected to be computed with respect to these weights, typically during the optimization process."
      ],
      "metadata": {
        "id": "5yOH_5P-KYMr"
      }
    },
    {
      "cell_type": "code",
      "source": [
        "W = GPU(np.random.randn(784,10))"
      ],
      "metadata": {
        "id": "G1MmJuRKC20Q",
        "colab": {
          "base_uri": "https://localhost:8080/",
          "height": 287
        },
        "outputId": "71666f08-fbc4-4e5b-9bf7-3f59438f9b27"
      },
      "execution_count": 65,
      "outputs": [
        {
          "output_type": "error",
          "ename": "RuntimeError",
          "evalue": "Found no NVIDIA driver on your system. Please check that you have an NVIDIA GPU and installed a driver from http://www.nvidia.com/Download/index.aspx",
          "traceback": [
            "\u001b[0;31m---------------------------------------------------------------------------\u001b[0m",
            "\u001b[0;31mRuntimeError\u001b[0m                              Traceback (most recent call last)",
            "\u001b[0;32m<ipython-input-65-dd25f8b82e71>\u001b[0m in \u001b[0;36m<cell line: 1>\u001b[0;34m()\u001b[0m\n\u001b[0;32m----> 1\u001b[0;31m \u001b[0mW\u001b[0m \u001b[0;34m=\u001b[0m \u001b[0mGPU\u001b[0m\u001b[0;34m(\u001b[0m\u001b[0mnp\u001b[0m\u001b[0;34m.\u001b[0m\u001b[0mrandom\u001b[0m\u001b[0;34m.\u001b[0m\u001b[0mrandn\u001b[0m\u001b[0;34m(\u001b[0m\u001b[0;36m784\u001b[0m\u001b[0;34m,\u001b[0m\u001b[0;36m10\u001b[0m\u001b[0;34m)\u001b[0m\u001b[0;34m)\u001b[0m\u001b[0;34m\u001b[0m\u001b[0;34m\u001b[0m\u001b[0m\n\u001b[0m",
            "\u001b[0;32m<ipython-input-57-8f19afc20d35>\u001b[0m in \u001b[0;36mGPU\u001b[0;34m(data)\u001b[0m\n\u001b[1;32m      1\u001b[0m \u001b[0;32mdef\u001b[0m \u001b[0mGPU\u001b[0m\u001b[0;34m(\u001b[0m\u001b[0mdata\u001b[0m\u001b[0;34m)\u001b[0m\u001b[0;34m:\u001b[0m\u001b[0;34m\u001b[0m\u001b[0;34m\u001b[0m\u001b[0m\n\u001b[0;32m----> 2\u001b[0;31m     \u001b[0;32mreturn\u001b[0m \u001b[0mtorch\u001b[0m\u001b[0;34m.\u001b[0m\u001b[0mtensor\u001b[0m\u001b[0;34m(\u001b[0m\u001b[0mdata\u001b[0m\u001b[0;34m,\u001b[0m \u001b[0mrequires_grad\u001b[0m\u001b[0;34m=\u001b[0m\u001b[0;32mTrue\u001b[0m\u001b[0;34m,\u001b[0m \u001b[0mdtype\u001b[0m\u001b[0;34m=\u001b[0m\u001b[0mtorch\u001b[0m\u001b[0;34m.\u001b[0m\u001b[0mfloat\u001b[0m\u001b[0;34m,\u001b[0m \u001b[0mdevice\u001b[0m\u001b[0;34m=\u001b[0m\u001b[0mtorch\u001b[0m\u001b[0;34m.\u001b[0m\u001b[0mdevice\u001b[0m\u001b[0;34m(\u001b[0m\u001b[0;34m'cuda'\u001b[0m\u001b[0;34m)\u001b[0m\u001b[0;34m)\u001b[0m\u001b[0;34m\u001b[0m\u001b[0;34m\u001b[0m\u001b[0m\n\u001b[0m\u001b[1;32m      3\u001b[0m \u001b[0;34m\u001b[0m\u001b[0m\n\u001b[1;32m      4\u001b[0m \u001b[0;31m# Converts NumPy data to a PyTorch tensor suitable for gradient computations (useful during training), setting the tensor to use a GPU.\u001b[0m\u001b[0;34m\u001b[0m\u001b[0;34m\u001b[0m\u001b[0m\n\u001b[1;32m      5\u001b[0m \u001b[0;34m\u001b[0m\u001b[0m\n",
            "\u001b[0;32m/usr/local/lib/python3.10/dist-packages/torch/cuda/__init__.py\u001b[0m in \u001b[0;36m_lazy_init\u001b[0;34m()\u001b[0m\n\u001b[1;32m    300\u001b[0m         \u001b[0;32mif\u001b[0m \u001b[0;34m\"CUDA_MODULE_LOADING\"\u001b[0m \u001b[0;32mnot\u001b[0m \u001b[0;32min\u001b[0m \u001b[0mos\u001b[0m\u001b[0;34m.\u001b[0m\u001b[0menviron\u001b[0m\u001b[0;34m:\u001b[0m\u001b[0;34m\u001b[0m\u001b[0;34m\u001b[0m\u001b[0m\n\u001b[1;32m    301\u001b[0m             \u001b[0mos\u001b[0m\u001b[0;34m.\u001b[0m\u001b[0menviron\u001b[0m\u001b[0;34m[\u001b[0m\u001b[0;34m\"CUDA_MODULE_LOADING\"\u001b[0m\u001b[0;34m]\u001b[0m \u001b[0;34m=\u001b[0m \u001b[0;34m\"LAZY\"\u001b[0m\u001b[0;34m\u001b[0m\u001b[0;34m\u001b[0m\u001b[0m\n\u001b[0;32m--> 302\u001b[0;31m         \u001b[0mtorch\u001b[0m\u001b[0;34m.\u001b[0m\u001b[0m_C\u001b[0m\u001b[0;34m.\u001b[0m\u001b[0m_cuda_init\u001b[0m\u001b[0;34m(\u001b[0m\u001b[0;34m)\u001b[0m\u001b[0;34m\u001b[0m\u001b[0;34m\u001b[0m\u001b[0m\n\u001b[0m\u001b[1;32m    303\u001b[0m         \u001b[0;31m# Some of the queued calls may reentrantly call _lazy_init();\u001b[0m\u001b[0;34m\u001b[0m\u001b[0;34m\u001b[0m\u001b[0m\n\u001b[1;32m    304\u001b[0m         \u001b[0;31m# we need to just return without initializing in that case.\u001b[0m\u001b[0;34m\u001b[0m\u001b[0;34m\u001b[0m\u001b[0m\n",
            "\u001b[0;31mRuntimeError\u001b[0m: Found no NVIDIA driver on your system. Please check that you have an NVIDIA GPU and installed a driver from http://www.nvidia.com/Download/index.aspx"
          ]
        }
      ]
    },
    {
      "cell_type": "code",
      "source": [],
      "metadata": {
        "id": "lwMdXtr_4R0q"
      },
      "execution_count": null,
      "outputs": []
    },
    {
      "cell_type": "code",
      "metadata": {
        "id": "xNugjEScFiCC",
        "colab": {
          "base_uri": "https://localhost:8080/",
          "height": 141
        },
        "outputId": "ddac34f2-525c-43e9-ff71-870abc73eb0e"
      },
      "source": [
        "x.shape, W.shape\n",
        "\n",
        "# Displays shapes of x and W"
      ],
      "execution_count": 66,
      "outputs": [
        {
          "output_type": "error",
          "ename": "NameError",
          "evalue": "name 'W' is not defined",
          "traceback": [
            "\u001b[0;31m---------------------------------------------------------------------------\u001b[0m",
            "\u001b[0;31mNameError\u001b[0m                                 Traceback (most recent call last)",
            "\u001b[0;32m<ipython-input-66-aca4ad458bbd>\u001b[0m in \u001b[0;36m<cell line: 1>\u001b[0;34m()\u001b[0m\n\u001b[0;32m----> 1\u001b[0;31m \u001b[0mx\u001b[0m\u001b[0;34m.\u001b[0m\u001b[0mshape\u001b[0m\u001b[0;34m,\u001b[0m \u001b[0mW\u001b[0m\u001b[0;34m.\u001b[0m\u001b[0mshape\u001b[0m\u001b[0;34m\u001b[0m\u001b[0;34m\u001b[0m\u001b[0m\n\u001b[0m",
            "\u001b[0;31mNameError\u001b[0m: name 'W' is not defined"
          ]
        }
      ]
    },
    {
      "cell_type": "markdown",
      "source": [
        "\n",
        "\n",
        "```\n",
        "torch.matmul(x, W).shape\n",
        "\n",
        "```\n",
        "torch.matmul(x, W): This function multiplies the matrix x by the matrix W. The operation is a dot product between each row of x and each column of W.\n",
        ".shape: After the multiplication, this part of the code retrieves the shape of the resulting tensor.\n",
        "\n",
        "Contextual Understanding:\n",
        "Given the shapes of x and W from previous explanations:\n",
        "*   x typically would be a batch of input data. From your earlier setup, if x was reshaped right after being fetched and processed (flattened from images of 28x28 to vectors of length 784), and based on the typical batch size (b = 1000), its shape should be (1000, 784).\n",
        "*   W was initialized to have the shape (784, 10), where 784 corresponds to the number of input features (each pixel in a flattened MNIST image) and 10 corresponds to the output features (likely representing class scores for each digit 0-9 in MNIST).\n",
        "\n",
        "Resulting Shape:\n",
        "\n",
        "When you perform torch.matmul(x, W), you're essentially computing the following:\n",
        "\n",
        "\n",
        "*   For each of the 1000 examples in the batch (x), the 784 features are multiplied with the 784x10 weight matrix (W), resulting in 1000 vectors of size 10.\n",
        "*   Therefore, the resulting tensor will have the shape (1000, 10). This represents the scores for each of the 10 classes for each example in the batch.\n",
        "\n",
        "Practical Use:\n",
        "\n",
        "This operation is typically part of a forward pass in a neural network where x is the input to a fully connected layer and W is the weights of that layer. The result can then be passed to a softmax function or other activation function to convert these scores into probabilities, which are used for classification or further processing in the network.\n",
        "\n",
        "This way of matrix multiplication is fundamental in neural network operations, especially in layers like fully connected layers where the inputs and weights are combined linearly before applying non-linear transformations.\n"
      ],
      "metadata": {
        "id": "U6fwEVKxKwIp"
      }
    },
    {
      "cell_type": "code",
      "metadata": {
        "id": "2fKhesUrFrYo"
      },
      "source": [
        "torch.matmul(x,W).shape\n",
        "\n",
        "# One way of doing matrix multiplication"
      ],
      "execution_count": null,
      "outputs": []
    },
    {
      "cell_type": "markdown",
      "source": [
        "\n",
        "\n",
        "```\n",
        "(x@W).shape\n",
        "\n",
        "```\n",
        "\n",
        "\n",
        "\n",
        "x@W: This line uses the @ operator, which is syntactic sugar for matrix multiplication in Python, introduced in Python 3.5 via PEP 465. It serves the same function as torch.matmul(x, W) but in a more concise form.\n",
        "\n",
        ".shape: As before, this would print the shape of the resulting tensor, which should be (1000, 10), given x is (1000, 784) and W is (784, 10)."
      ],
      "metadata": {
        "id": "47VbcBN7Ljri"
      }
    },
    {
      "cell_type": "code",
      "metadata": {
        "id": "vXUJJil7VyS_"
      },
      "source": [
        "(x@W).shape\n",
        "\n",
        "# Another way of doing matrix multiplication"
      ],
      "execution_count": null,
      "outputs": []
    },
    {
      "cell_type": "markdown",
      "source": [
        "%%timeit: This is a magic command provided by IPython (and by extension, Jupyter and Colab notebooks) to measure the execution time of the subsequent statement. It runs the line multiple times to compute an average time, giving a good idea of how long the matrix multiplication takes. This is useful for performance analysis, especially when optimizing machine learning code."
      ],
      "metadata": {
        "id": "KwjVtEa1Lybx"
      }
    },
    {
      "cell_type": "code",
      "metadata": {
        "id": "CCUIYKR-Il3c"
      },
      "source": [
        "%%timeit\n",
        "x@W"
      ],
      "execution_count": null,
      "outputs": []
    },
    {
      "cell_type": "code",
      "metadata": {
        "id": "GlQwtdaSeB5S"
      },
      "source": [
        "x@W"
      ],
      "execution_count": null,
      "outputs": []
    },
    {
      "cell_type": "code",
      "metadata": {
        "id": "E2hgdUkmeB8W"
      },
      "source": [
        "y2 = x@W\n",
        "\n",
        "# W same as m in y=mx (weights)"
      ],
      "execution_count": null,
      "outputs": []
    },
    {
      "cell_type": "code",
      "metadata": {
        "id": "ZdZImnZFGeT6"
      },
      "source": [
        "plot(y2[:50])\n",
        "\n",
        "# This line calls the plot function to visualize the first 50 results in y2.\n",
        "# Given that y2 is a tensor with shape (1000, 10), attempting to visualize it directly as an image won't be meaningful without additional context or transformation since it's not in an image format.\n",
        "# If plot is designed to handle such data types effectively, this would typically mean visualizing some aspect of the matrix (perhaps as a heatmap)."
      ],
      "execution_count": null,
      "outputs": []
    },
    {
      "cell_type": "code",
      "metadata": {
        "id": "eQSssyK-GoB2"
      },
      "source": [
        "y\n",
        "\n",
        "# Displays y"
      ],
      "execution_count": null,
      "outputs": []
    },
    {
      "cell_type": "code",
      "source": [
        "y.shape\n",
        "\n",
        "# Displays y shape"
      ],
      "metadata": {
        "id": "asy5jw0oy_F7"
      },
      "execution_count": null,
      "outputs": []
    },
    {
      "cell_type": "markdown",
      "source": [
        "## One Hot\n",
        "\n",
        "Function Definition:This one_hot function converts a batch of label indices (e.g., for digit classes 0-9 in MNIST) into a one-hot encoded format.\n",
        "\n",
        "Tensor Initialization: torch.zeros((y.shape[0], 10)) creates a zero matrix on the GPU where each row represents a label in one-hot format.\n",
        "\n",
        "Filling the Matrix: The loop iterates through each label, setting the appropriate column to 1 based on the label index.\n",
        "\n",
        "Return: Outputs the one-hot encoded labels suitable for classification tasks in neural networks."
      ],
      "metadata": {
        "id": "eAPiPDSBMoCY"
      }
    },
    {
      "cell_type": "code",
      "source": [
        "def one_hot(y):\n",
        "    y2 = GPU_data(torch.zeros((y.shape[0],10)))\n",
        "    for i in range(y.shape[0]):\n",
        "        y2[i,int(y[i])] = 1\n",
        "    return y2"
      ],
      "metadata": {
        "id": "BEgs4-skzhTC"
      },
      "execution_count": null,
      "outputs": []
    },
    {
      "cell_type": "code",
      "metadata": {
        "id": "EB2kNOUHGpIw"
      },
      "source": [
        "one_hot(y)\n",
        "\n",
        "# Calls the one_hot function with the label tensor y to transform it into a one-hot encoded format."
      ],
      "execution_count": null,
      "outputs": []
    },
    {
      "cell_type": "code",
      "metadata": {
        "id": "v91JZyTQeCMp"
      },
      "source": [
        "torch.argmax(y2,1)\n",
        "\n",
        "# Finding Predictions: torch.argmax(y2, 1) finds the indices of the maximum values along dimension 1, effectively predicting the class based on the highest score in y2."
      ],
      "execution_count": null,
      "outputs": []
    },
    {
      "cell_type": "code",
      "metadata": {
        "id": "0hfl1lKrguTg"
      },
      "source": [
        "torch.sum(y == torch.argmax(y2,1))/b\n",
        "\n",
        "# Accuracy Calculation: Compares these predictions with the true labels y, calculates the proportion of correct predictions over the batch size b."
      ],
      "execution_count": null,
      "outputs": []
    },
    {
      "cell_type": "markdown",
      "source": [
        "\n",
        "\n",
        "```\n",
        "X.shape\n",
        "X@W\n",
        "torch.argmax(X@W, 1)\n",
        "torch.sum(torch.argmax(X@W, 1) == Y) / 60000\n",
        "\n",
        "```\n",
        "\n",
        "\n",
        "Forward Pass: Computes the logits X@W (class scores before activation).\n",
        "Predictions: Uses torch.argmax to get the predicted class labels from the logits.\n",
        "Accuracy Check: Compares predictions against true labels Y, calculates overall accuracy (assumes the total number of samples is 60,000 for MNIST)."
      ],
      "metadata": {
        "id": "2yjZZNDxNFpF"
      }
    },
    {
      "cell_type": "code",
      "metadata": {
        "id": "xz7Ea13HwarC"
      },
      "source": [
        "X.shape"
      ],
      "execution_count": null,
      "outputs": []
    },
    {
      "cell_type": "code",
      "metadata": {
        "id": "FNP2ahywwatJ"
      },
      "source": [
        "X@W"
      ],
      "execution_count": null,
      "outputs": []
    },
    {
      "cell_type": "code",
      "metadata": {
        "id": "WbGDRj7BwavA"
      },
      "source": [
        "torch.argmax(X@W,1)"
      ],
      "execution_count": null,
      "outputs": []
    },
    {
      "cell_type": "code",
      "metadata": {
        "id": "EXTb4Y4ywaw3"
      },
      "source": [
        "Y"
      ],
      "execution_count": null,
      "outputs": []
    },
    {
      "cell_type": "code",
      "metadata": {
        "id": "h_w3ksHVjQwu"
      },
      "source": [
        "torch.sum(torch.argmax(X@W,1) == Y)/60000"
      ],
      "execution_count": null,
      "outputs": []
    },
    {
      "cell_type": "code",
      "metadata": {
        "id": "n6RKfzVLnOTD"
      },
      "source": [
        "X@W"
      ],
      "execution_count": null,
      "outputs": []
    },
    {
      "cell_type": "markdown",
      "source": [
        "\n",
        "\n",
        "```\n",
        "W.shape\n",
        "W[:,0].shape\n",
        "plot(W[:,0].reshape(28,28))\n",
        "plot(W[:,2].reshape(28,28))\n",
        "\n",
        "```\n",
        "Inspecting Weights: Checks the shape of the weights matrix W, and specific columns (representing weights for specific classes).\n",
        "\n",
        "Weight Visualization: Reshapes and plots the weights corresponding to two classes (digit '0' and digit '2') as 28x28 images, visualizing the features that activate for each class.\n"
      ],
      "metadata": {
        "id": "RcA5_u5eNM5_"
      }
    },
    {
      "cell_type": "code",
      "metadata": {
        "id": "GpOVv7nInOUw"
      },
      "source": [
        "W.shape"
      ],
      "execution_count": null,
      "outputs": []
    },
    {
      "cell_type": "code",
      "metadata": {
        "id": "IRq_ouBUnOWx"
      },
      "source": [
        "W[:,0].shape"
      ],
      "execution_count": null,
      "outputs": []
    },
    {
      "cell_type": "code",
      "metadata": {
        "id": "uYWJulTHnOa1"
      },
      "source": [
        "plot(W[:,0].reshape(28,28))"
      ],
      "execution_count": null,
      "outputs": []
    },
    {
      "cell_type": "code",
      "metadata": {
        "id": "tupFwuSZnOk9"
      },
      "source": [
        "plot(W[:,2].reshape(28,28))"
      ],
      "execution_count": null,
      "outputs": []
    },
    {
      "cell_type": "code",
      "metadata": {
        "id": "Wvvy6MrAkC5Z"
      },
      "source": [
        "W.shape"
      ],
      "execution_count": null,
      "outputs": []
    },
    {
      "cell_type": "markdown",
      "source": [
        "\n",
        "\n",
        "```\n",
        "(W.T).shape\n",
        "montage_plot((W.T).reshape(10,28,28).cpu().detach().numpy())\n",
        "\n",
        "```\n",
        "Transpose: Transposes the weight matrix W to align dimensions for reshaping.\n",
        "\n",
        "Montage Visualization: Reshapes the transposed weights to visualize all digit class weights as images in a montage format. This is a powerful way to see what features each part of the model is focusing on across different classes.\n"
      ],
      "metadata": {
        "id": "Otabf8FfNV84"
      }
    },
    {
      "cell_type": "code",
      "metadata": {
        "id": "MCrJ9cNPkC76"
      },
      "source": [
        "(W.T).shape"
      ],
      "execution_count": null,
      "outputs": []
    },
    {
      "cell_type": "code",
      "metadata": {
        "id": "wAkEKB2_jQyy"
      },
      "source": [
        "montage_plot((W.T).reshape(10,28,28).cpu().detach().numpy())"
      ],
      "execution_count": null,
      "outputs": []
    },
    {
      "cell_type": "markdown",
      "source": [
        "## Soft Max\n",
        "\n",
        "Purpose: Computes the softmax activation function for a batch of input tensors.\n",
        "\n",
        "torch.exp(x - torch.max(x,1)[0][:,None]): This operation stabilizes the softmax computation by subtracting the maximum value in each batch row from every element in the row (to prevent overflow from large exponentials).\n",
        "\n",
        "Normalization: Divides the exponentiated values by their row sums (making each row of s sum to 1), ensuring the output is a valid probability distribution."
      ],
      "metadata": {
        "id": "7jRi7d5qN-gz"
      }
    },
    {
      "cell_type": "code",
      "metadata": {
        "id": "m4BlYG-CgC2z"
      },
      "source": [
        "def softmax(x):\n",
        "    s1 = torch.exp(x - torch.max(x,1)[0][:,None])\n",
        "    s = s1 / s1.sum(1)[:,None]\n",
        "    return s"
      ],
      "execution_count": null,
      "outputs": []
    },
    {
      "cell_type": "markdown",
      "source": [
        "## Cross Entropy\n",
        "\n",
        "Purpose: Calculates the cross-entropy loss between the predicted outputs and the ground-truth labels.\n",
        "\n",
        "softmax(outputs).log(): First, softmax is applied to the outputs to get probabilities, which are then logged; this is standard for computing logarithmic loss.\n",
        "\n",
        "[range(outputs.size()[0]), labels.long()]: This indexing selects the logged probabilities corresponding to the actual class labels.\n",
        "\n",
        "Normalization and Negation: The sum of these logged probabilities is divided by the number of outputs to normalize the loss and negated to make it a minimization problem."
      ],
      "metadata": {
        "id": "8codCDKxOBzC"
      }
    },
    {
      "cell_type": "code",
      "metadata": {
        "id": "XZ-UV8W_c_9o"
      },
      "source": [
        "def cross_entropy(outputs, labels):\n",
        "    return -torch.sum(softmax(outputs).log()[range(outputs.size()[0]), labels.long()])/outputs.size()[0]"
      ],
      "execution_count": null,
      "outputs": []
    },
    {
      "cell_type": "markdown",
      "source": [
        "## Accuracy\n",
        "\n",
        "Purpose: Calculates the accuracy of predictions.\n",
        "\n",
        "torch.max(out, 1)[1]: Finds the predicted class labels (by selecting the index of the maximum output probability).\n",
        "\n",
        "Accuracy Calculation: Compares the predicted labels to the true labels y, counts the number of correct predictions, and divides by the total number of labels."
      ],
      "metadata": {
        "id": "mO-bkGILOGsC"
      }
    },
    {
      "cell_type": "code",
      "metadata": {
        "id": "LW3ttVcq1sI9"
      },
      "source": [
        "def acc(out,y):       # Count how many answered correctly\n",
        "    return (torch.sum(torch.max(out,1)[1] == y).item())/y.shape[0]"
      ],
      "execution_count": null,
      "outputs": []
    },
    {
      "cell_type": "markdown",
      "source": [
        "## Get Batch\n",
        "\n",
        "Batch Size: Uses b = c.b, which seems to imply that b is a property of some object or configuration c, reflecting flexibility or configuration-driven batch sizing.\n",
        "\n",
        "Random Sampling: Depending on the mode, it randomly selects a start index r and slices the appropriate dataset (X for training or X_test for testing) and labels (Y or Y_test), ensuring different subsets of data are used in each call.\n",
        "\n",
        "Return: The selected subsets x and y are returned."
      ],
      "metadata": {
        "id": "nU9NnFdDOMUP"
      }
    },
    {
      "cell_type": "code",
      "metadata": {
        "id": "x79Sie8XKPOC"
      },
      "source": [
        "def get_batch(mode):\n",
        "    b = c.b\n",
        "    if mode == \"train\":\n",
        "        r = np.random.randint(X.shape[0]-b)\n",
        "        x = X[r:r+b,:]\n",
        "        y = Y[r:r+b]\n",
        "    elif mode == \"test\":\n",
        "        r = np.random.randint(X_test.shape[0]-b)\n",
        "        x = X_test[r:r+b,:]\n",
        "        y = Y_test[r:r+b]\n",
        "    return x,y"
      ],
      "execution_count": null,
      "outputs": []
    },
    {
      "cell_type": "code",
      "metadata": {
        "id": "vXOr9aM8A8P-"
      },
      "source": [
        "def model(x,w):     # Takes in something, spits out something\n",
        "\n",
        "    return x@w[0]"
      ],
      "execution_count": null,
      "outputs": []
    },
    {
      "cell_type": "markdown",
      "source": [
        "## Gradient Step\n",
        "\n",
        "Purpose: Updates the model weights based on their gradients to minimize the loss function.\n",
        "\n",
        "Weight Update: w[0].data - c.L * w[0].grad.data performs the update step. Here, c.L presumably stands for a learning rate, and w[0].grad.data contains the gradient of the loss with respect to the weights. The learning rate scales the gradient to ensure the steps towards the minimum are not too large, which could lead to overshooting the minimum.\n",
        "\n",
        "Zeroing Gradients: After the weights have been updated, w[0].grad.data.zero_() is called to zero out the gradients. This is necessary because PyTorch accumulates gradients; if they weren't zeroed out, gradients from subsequent backward passes would be added to the existing values, leading to incorrect updates."
      ],
      "metadata": {
        "id": "3h_KsKpDOWMz"
      }
    },
    {
      "cell_type": "code",
      "metadata": {
        "id": "-k6j0lacnYYk"
      },
      "source": [
        "def gradient_step(w):     # How to change these weights (parameters)\n",
        "\n",
        "    w[0].data = w[0].data - c.L*w[0].grad.data    # New weights minus old weights times gradients\n",
        "\n",
        "    w[0].grad.data.zero_()"
      ],
      "execution_count": null,
      "outputs": []
    },
    {
      "cell_type": "code",
      "source": [],
      "metadata": {
        "id": "B3Pq5qxZPr9D"
      },
      "execution_count": null,
      "outputs": []
    },
    {
      "cell_type": "markdown",
      "source": [
        "## Make Plots\n",
        "\n",
        "Data Acquisition: Retrieves batches of data for both training (x, y) and testing (xt, yt).\n",
        "\n",
        "Model Evaluation: Uses the model function (not defined in your snippets) to make predictions with current weights w and calculates the accuracy for both training and testing datasets using the acc function.\n",
        "\n",
        "Logging: Uses wandb (Weights & Biases) to log training and testing accuracy.\n",
        "\n",
        "This is useful for monitoring the model's performance over time, particularly during training, and can aid in hyperparameter tuning and model adjustments."
      ],
      "metadata": {
        "id": "fBugs2vTOY9D"
      }
    },
    {
      "cell_type": "code",
      "metadata": {
        "id": "uzRsuDek9Fve"
      },
      "source": [
        "def make_plots():\n",
        "\n",
        "    acc_train = acc(model(x,w),y)\n",
        "\n",
        "    xt,yt = get_batch('test')\n",
        "\n",
        "    acc_test = acc(model(xt,w),yt)\n",
        "\n",
        "    wb.log({\"acc_train\": acc_train, \"acc_test\": acc_test})"
      ],
      "execution_count": null,
      "outputs": []
    },
    {
      "cell_type": "code",
      "source": [],
      "metadata": {
        "id": "Qgt-OBk1PrHl"
      },
      "execution_count": null,
      "outputs": []
    },
    {
      "cell_type": "markdown",
      "source": [
        "## Truncated Normal\n",
        "\n",
        "Purpose: Generates samples from a truncated normal distribution, which is a normal distribution modified to not produce values beyond a certain range in one or both directions.\n",
        "\n",
        "Distribution Sampling: This function uses the Box-Muller transform method for generating normally distributed random numbers.\n",
        "\n",
        "u1 and u2 are uniformly distributed random numbers where u1 is adjusted to fall within a specific range (exp(-2) to 1), ensuring the tails of the distribution are truncated.\n",
        "\n",
        "z is computed to follow a normal distribution using transformed u1 and u2. The resulting values mimic a normal distribution truncated at about 2 standard deviations (since exp(-2) is approximately the value of the cumulative distribution function of a standard normal distribution at -2)."
      ],
      "metadata": {
        "id": "CoLGySK9Obxx"
      }
    },
    {
      "cell_type": "code",
      "source": [
        "def Truncated_Normal(size):     # Cuts off ends of normal distribution\n",
        "\n",
        "    u1 = torch.rand(size)*(1-np.exp(-2)) + np.exp(-2)\n",
        "    u2 = torch.rand(size)\n",
        "    z  = torch.sqrt(-2*torch.log(u1)) * torch.cos(2*np.pi*u2)\n",
        "\n",
        "    return z"
      ],
      "metadata": {
        "id": "fx6a-FjX6bEN"
      },
      "execution_count": null,
      "outputs": []
    },
    {
      "cell_type": "code",
      "source": [],
      "metadata": {
        "id": "oTUuOSiVPqSh"
      },
      "execution_count": null,
      "outputs": []
    },
    {
      "cell_type": "markdown",
      "source": [
        "The provided code outlines a training loop for a machine learning model, specifically using stochastic gradient descent (SGD) to optimize a model's parameters. This loop is executed multiple times (three runs), presumably to examine the consistency and variability of the training process under identical conditions or with minor variations in initial conditions or batch processing. Here's a detailed breakdown of the code:\n",
        "\n",
        "\n",
        "\n",
        "```\n",
        "for run in range(3):\n",
        "    wb.init(project=\"Simple_Linear_SGD_123\");\n",
        "    c = wb.config\n",
        "\n",
        "```\n",
        "Loop Over Runs: The for loop allows the model to be trained multiple times (run from 0 to 2). This is common in experiments to evaluate the stability and reproducibility of results.\n",
        "\n",
        "Weights & Biases Initialization: wb.init(project=\"Simple_Linear_SGD_123\") initializes a new Weights & Biases run under the project named \"Simple_Linear_SGD_123\". This tool is used for tracking experiments, visualizing metrics, and managing outputs.\n",
        "\n",
        "Configuration Setup: c = wb.config sets up a configuration object which is used to store hyperparameters such as the learning rate (L), batch size (b), and number of epochs (epochs).\n",
        "\n",
        "\n",
        "```\n",
        "c.L = 0.1\n",
        "c.b = 1024\n",
        "c.epochs = 10000\n",
        "\n",
        "```\n",
        "\n",
        "Learning Rate (L): Set to 0.1, which dictates the step size during the gradient descent update.\n",
        "\n",
        "Batch Size (b): Set to 1024, determining how many examples are processed before updating the model parameters.\n",
        "\n",
        "Epochs (epochs): The number of training iterations is set to 10,000.\n",
        "\n",
        "\n",
        "```\n",
        "w = [GPU(Truncated_Normal((784,10)))]\n",
        "\n",
        "```\n",
        "Weights Initialization: w is initialized using a truncated normal distribution adapted to the model's input and output dimensions (784 input features for MNIST, 10 output classes). The weights are then transferred to the GPU for efficient computation.\n",
        "\n",
        "```\n",
        "for i in range(c.epochs):\n",
        "    x, y = get_batch('train')\n",
        "    out = model(x, w)\n",
        "    loss = cross_entropy(softmax(out), y)\n",
        "    loss.backward()\n",
        "    gradient_step(w)\n",
        "    make_plots()\n",
        "    if (i+1) % 10000 == 0: montage_plot((w[0].T).reshape(10,28,28).cpu().detach().numpy())\n",
        "```\n",
        "Batch Processing: Each iteration fetches a new batch of training data.\n",
        "\n",
        "Model Prediction: model(x, w) computes the model's predictions given inputs x and current weights w.\n",
        "\n",
        "Loss Calculation: The cross-entropy loss between the model's output and true labels y is calculated.\n",
        "\n",
        "Backpropagation: loss.backward() computes the gradient of the loss function with respect to the model parameters.\n",
        "\n",
        "Update Weights: gradient_step(w) updates the model's weights based on the gradients.\n",
        "\n",
        "Logging: make_plots() likely logs the training and testing accuracy to Weights & Biases.\n",
        "\n",
        "Visualization: After every 10,000 epochs, it visualizes the weights using a montage plot. This could serve to inspect how the features learned by the model evolve over time.\n",
        "\n",
        "Summary\n",
        "\n",
        "This script effectively integrates various components needed to train a neural network using SGD, leveraging Weights & Biases for tracking and visualization. The choice of truncated normal for weight initialization, detailed logging, and periodic visualization provides a robust setup for evaluating and improving model performance iteratively."
      ],
      "metadata": {
        "id": "Cq68LdP0PGLD"
      }
    },
    {
      "cell_type": "code",
      "metadata": {
        "id": "v_6a6qnKA7zP"
      },
      "source": [
        "for run in range(3):\n",
        "\n",
        "    wb.init(project=\"Simple_Linear_SGD_123\");\n",
        "    c = wb.config\n",
        "\n",
        "    c.L = 0.1\n",
        "    c.b = 1024\n",
        "    c.epochs = 10000\n",
        "\n",
        "    w = [GPU(Truncated_Normal((784,10)))]\n",
        "\n",
        "    for i in range(c.epochs):\n",
        "\n",
        "        x,y = get_batch('train')\n",
        "\n",
        "        out = model(x,w)\n",
        "\n",
        "        loss = cross_entropy(softmax(out),y)\n",
        "\n",
        "        loss.backward()\n",
        "\n",
        "        gradient_step(w)\n",
        "\n",
        "        make_plots()\n",
        "\n",
        "        if (i+1) % 10000 == 0: montage_plot((w[0].T).reshape(10,28,28).cpu().detach().numpy())"
      ],
      "execution_count": null,
      "outputs": []
    },
    {
      "cell_type": "code",
      "source": [],
      "metadata": {
        "id": "993EdrcJQFMp"
      },
      "execution_count": null,
      "outputs": []
    },
    {
      "cell_type": "markdown",
      "source": [
        "The provided script outlines a comprehensive setup for training a neural network model using the Adam optimizer, a more advanced alternative to the simpler stochastic gradient descent (SGD) method discussed previously. This script is designed to be executed across multiple runs (100 times) to thoroughly evaluate the training stability and model performance. Let's delve into the specifics of each component:\n",
        "\n",
        "```\n",
        "for run in range(100):\n",
        "    wb.init(project=\"Simple_Linear_Adam_2\");\n",
        "    c = wb.config\n",
        "```\n",
        "Multiple Runs: The for loop allows for conducting 100 separate training sessions, providing robust data on the consistency and efficacy of the training approach.\n",
        "\n",
        "Weights & Biases Initialization: Initiates a new run in the Weights & Biases project named \"Simple_Linear_Adam_2\". This tool is crucial for experiment tracking and visualization.\n",
        "\n",
        "Configuration Object: c = wb.config prepares a configuration object for dynamically adjusting training parameters.\n",
        "```\n",
        "c.L = 0.01\n",
        "c.b = 1024\n",
        "c.epochs = 100000\n",
        "w = [GPU(Truncated_Normal((784,10)))]\n",
        "optimizer = torch.optim.Adam(w, lr=c.L)\n",
        "```\n",
        "Learning Rate (L): The learning rate is set lower than in previous SGD examples, typical for Adam which can be more sensitive to higher learning rates.\n",
        "\n",
        "Batch Size (b) and Epochs (epochs): Defines the size of each training batch and the total number of training cycles, with a significantly high epoch count for extensive training.\n",
        "\n",
        "Weight Initialization: Initializes weights using a truncated normal distribution, ensuring they start from a controlled random state.\n",
        "\n",
        "Optimizer: Sets up the Adam optimizer, which is known for its efficiency in handling sparse gradients and adaptive learning rate management.\n",
        "```\n",
        "for i in range(c.epochs):\n",
        "    x, y = get_batch('train')\n",
        "    loss = cross_entropy(softmax(model(x,w)),y)\n",
        "    optimizer.zero_grad()\n",
        "    loss.backward()\n",
        "    optimizer.step()\n",
        "    wb.log({\"loss\": loss})\n",
        "    make_plots()\n",
        "    if i % 10000 == 0 : montage_plot((w[0].T).reshape(10,28,28).cpu().detach().numpy())\n",
        "```\n",
        "Data Fetching: Retrieves batches of training data (x, y).\n",
        "\n",
        "Loss Computation: Calculates the cross-entropy loss after applying the softmax function to the model's outputs. The softmax(model(x,w)) suggests the model outputs logits which are then converted to probabilities.\n",
        "\n",
        "Gradient Management:\n",
        "\n",
        "optimizer.zero_grad(): Clears old gradients; necessary because gradients accumulate by default.\n",
        "\n",
        "loss.backward(): Computes the gradient of the loss function with respect to all trainable parameters in the model.\n",
        "\n",
        "optimizer.step(): Updates the parameters based on the computed gradients.\n",
        "Logging and Visualization:\n",
        "\n",
        "wb.log({\"loss\": loss}): Logs the current loss to Weights & Biases for monitoring.\n",
        "\n",
        "make_plots(): Likely logs additional metrics or creates plots to visualize training progress.\n",
        "\n",
        "Periodic Weight Visualization: Every 10,000 epochs, generates a montage of the model weights, providing insights into what features the model is learning.\n",
        "\n",
        "Summary\n",
        "\n",
        "This script is structured to maximize learning from extensive training and frequent evaluation. Using Adam optimizes the convergence speed and often results in better end-results compared to simpler methods like SGD, especially in complex datasets or models. The meticulous setup involving loss tracking, periodic logging, and visualization with Weights & Biases makes this approach highly effective for understanding and refining neural network training processes."
      ],
      "metadata": {
        "id": "BkNXQJ2UQFWK"
      }
    },
    {
      "cell_type": "code",
      "metadata": {
        "id": "WANJibeUNghZ"
      },
      "source": [
        "for run in range(100):\n",
        "\n",
        "    wb.init(project=\"Simple_Linear_Adam_2\");\n",
        "    c = wb.config\n",
        "\n",
        "    c.L = 0.01\n",
        "    c.b = 1024\n",
        "    c.epochs = 100000\n",
        "\n",
        "    w = [GPU(Truncated_Normal((784,10)))]\n",
        "\n",
        "    optimizer = torch.optim.Adam(w, lr=c.L)\n",
        "\n",
        "    for i in range(c.epochs):\n",
        "\n",
        "        x,y = get_batch('train')\n",
        "\n",
        "        loss = cross_entropy(softmax(model(x,w)),y) # Number that if everything is working, will get zero (like accuracy)\n",
        "\n",
        "        optimizer.zero_grad()\n",
        "        loss.backward()             # Automatic differentiation - new mathematical concept\n",
        "        optimizer.step()\n",
        "\n",
        "        wb.log({\"loss\": loss})\n",
        "\n",
        "        make_plots()\n",
        "\n",
        "        if i % 10000 == 0 : montage_plot((w[0].T).reshape(10,28,28).cpu().detach().numpy())"
      ],
      "execution_count": null,
      "outputs": []
    },
    {
      "cell_type": "markdown",
      "source": [
        "\n",
        "### Autoencoder\n"
      ],
      "metadata": {
        "id": "MMkIx6bTNy8g"
      }
    },
    {
      "cell_type": "code",
      "source": [],
      "metadata": {
        "id": "AK0JtBM5RUI8"
      },
      "execution_count": null,
      "outputs": []
    },
    {
      "cell_type": "markdown",
      "source": [
        "## Get Batch\n",
        "\n",
        "Purpose: Fetches a batch of data for training or testing.\n",
        "\n",
        "Parameters:\n",
        "\n",
        "mode: Determines whether to fetch training or testing data.\n",
        "\n",
        "b = 1024: Batch size is set to 1024, meaning each batch will consist of 1024 samples.\n",
        "\n",
        "Random Sampling:\n",
        "\n",
        "For training (\"train\"), it randomly selects a starting index r within the training dataset X and selects 1024 consecutive samples from this index for both features x and labels y.\n",
        "\n",
        "Similarly, for testing (\"test\"), it does the same but using the test dataset X_test.\n",
        "\n",
        "Return: Returns the features (x) and labels (y) for the specified batch."
      ],
      "metadata": {
        "id": "9EAbeuCVRUYo"
      }
    },
    {
      "cell_type": "code",
      "source": [
        "def get_batch(mode):\n",
        "    b = 1024\n",
        "    if mode == \"train\":\n",
        "        r = np.random.randint(X.shape[0]-b)\n",
        "        x = X[r:r+b,:]\n",
        "        y = Y[r:r+b]\n",
        "    elif mode == \"test\":\n",
        "        r = np.random.randint(X_test.shape[0]-b)\n",
        "        x = X_test[r:r+b,:]\n",
        "        y = Y_test[r:r+b]\n",
        "    return x,y"
      ],
      "metadata": {
        "id": "7QaW3xn0-M-l"
      },
      "execution_count": null,
      "outputs": []
    },
    {
      "cell_type": "code",
      "source": [
        "X = X.reshape(X.shape[0],1,28,28)\n",
        "X_test = X_test.reshape(X_test.shape[0],1,28,28)\n",
        "\n",
        "# Reshaping: Transforms the data into a format suitable for convolutional neural networks (CNNs) in PyTorch:\n",
        "# The data is reshaped from whatever its original shape was (presumably (n_samples, 784)\n",
        "# for flattened MNIST images) to (n_samples, 1, 28, 28), where 1 represents a single color channel (grayscale), and 28x28 is the spatial dimension of the image."
      ],
      "metadata": {
        "id": "WBQQOXS7XU-k"
      },
      "execution_count": null,
      "outputs": []
    },
    {
      "cell_type": "code",
      "source": [],
      "metadata": {
        "id": "59OQOB8kRs59"
      },
      "execution_count": null,
      "outputs": []
    },
    {
      "cell_type": "markdown",
      "source": [
        "## Normalization using Torchvision\n",
        "\n",
        "\n",
        "\n",
        "```\n",
        "import torchvision\n",
        "from torch.nn.functional import *\n",
        "\n",
        "X = torchvision.transforms.functional.normalize(X, 0.5, 0.5)\n",
        "X_test = torchvision.transforms.functional.normalize(X_test, 0.5, 0.5)\n",
        "\n",
        "```\n",
        "\n",
        "\n",
        "Normalization:\n",
        "\n",
        "The normalize function adjusts the pixel values of images:\n",
        "\n",
        "The first argument is the data tensor.\n",
        "\n",
        "The second argument (mean = 0.5) sets the mean for normalization.\n",
        "\n",
        "The third argument (std = 0.5) sets the standard deviation for normalization.\n",
        "\n",
        "This normalization process modifies the pixel values to have a mean of 0 and a standard deviation of 1 across the dataset (given the original range [0, 1] due to previous division by 255). This standardizes the input feature scale, improving the stability and performance of neural networks.\n",
        "\n",
        "Purpose: Normalizing data is critical for deep learning models as it helps in faster convergence and prevents issues related to the scale of input features."
      ],
      "metadata": {
        "id": "Ke2hprpjRtA4"
      }
    },
    {
      "cell_type": "code",
      "source": [
        "import torchvision\n",
        "from torch.nn.functional import *"
      ],
      "metadata": {
        "id": "Ieh4jE_laYn2"
      },
      "execution_count": null,
      "outputs": []
    },
    {
      "cell_type": "code",
      "source": [
        "X = torchvision.transforms.functional.normalize(X,0.5,0.5)\n",
        "X_test = torchvision.transforms.functional.normalize(X_test,0.5,0.5)"
      ],
      "metadata": {
        "id": "N4StPT7VBG9O"
      },
      "execution_count": null,
      "outputs": []
    },
    {
      "cell_type": "code",
      "source": [],
      "metadata": {
        "id": "4tRlWW9mSPnS"
      },
      "execution_count": null,
      "outputs": []
    },
    {
      "cell_type": "markdown",
      "source": [
        "## Encoder\n",
        "\n",
        "Purpose: Compresses the input data x into a smaller, dense representation using convolutional layers followed by a fully connected layer.\n",
        "\n",
        "Operations:\n",
        "\n",
        "Convolutional Layers: Two convolutional layers are applied with ReLU activations. Each layer uses a stride of 2 and padding of 1, effectively reducing the spatial dimensions of the input by half each time.\n",
        "\n",
        "Flattening: After the convolutional layers, the data is reshaped (flattened) to match the input size expected by the subsequent linear layer.\n",
        "\n",
        "Linear Layer: A fully connected layer that further compresses the data into a latent representation."
      ],
      "metadata": {
        "id": "NwSt7IP2SPv5"
      }
    },
    {
      "cell_type": "code",
      "metadata": {
        "id": "UafuXvzKjSw7"
      },
      "source": [
        "def Encoder(x,w):\n",
        "    x = relu(conv2d(x,w[0], stride=(2, 2), padding=(1, 1)))\n",
        "    x = relu(conv2d(x,w[1], stride=(2, 2), padding=(1, 1)))\n",
        "    x = x.view(x.size(0), 6272)\n",
        "    x = linear(x,w[2])\n",
        "    return x"
      ],
      "execution_count": null,
      "outputs": []
    },
    {
      "cell_type": "code",
      "source": [],
      "metadata": {
        "id": "SHRck6GXSVXP"
      },
      "execution_count": null,
      "outputs": []
    },
    {
      "cell_type": "markdown",
      "source": [
        "## Decoder\n",
        "\n",
        "Purpose: Attempts to reconstruct the original input from the encoded representation.\n",
        "\n",
        "Operations:\n",
        "\n",
        "Linear Layer: First, the encoded representation is passed through another fully connected layer.\n",
        "\n",
        "Reshaping: The output is reshaped to a higher-dimensional space suitable for convolutional layers.\n",
        "\n",
        "Transposed Convolutional Layers: Uses two transposed convolutional layers (often called deconvolutional layers) with strides and padding designed to increase the spatial dimensions back towards the original input size.\n",
        "\n",
        "Activation Functions: The first transposed convolution uses a ReLU activation, and the final output layer uses a tanh activation. The tanh is often used in the output layer of models generating images as it normalizes the output to the range [−1,1], which can match preprocessed image data."
      ],
      "metadata": {
        "id": "VWc86j02SViC"
      }
    },
    {
      "cell_type": "code",
      "metadata": {
        "id": "ivvSdA3VjSw_"
      },
      "source": [
        "def Decoder(x,w):\n",
        "    x = linear(x,w[3])\n",
        "    x = x.view(x.size(0), 128, 7, 7)\n",
        "    x = relu(conv_transpose2d(x,w[4], stride=(2, 2), padding=(1, 1)))\n",
        "    x = torch.tanh(conv_transpose2d(x,w[5], stride=(2, 2), padding=(1, 1)))\n",
        "    return x"
      ],
      "execution_count": null,
      "outputs": []
    },
    {
      "cell_type": "code",
      "metadata": {
        "id": "R8TLNLTkjSxG"
      },
      "source": [
        "def Autoencoder(x,w):\n",
        "    return Decoder(Encoder(x,w),w)\n",
        "\n",
        "# Integration: This function combines the encoder and decoder functions to form a complete autoencoder.\n",
        "# It takes an input x and a set of weights w, encodes x, then decodes the encoded data, aiming to match the original input."
      ],
      "execution_count": null,
      "outputs": []
    },
    {
      "cell_type": "code",
      "metadata": {
        "id": "-iw6YTpBU8sr"
      },
      "source": [
        "num_steps = 1000\n",
        "batch_size = 512\n",
        "learning_rate = 1e-3\n",
        "\n",
        "# Training Parameters:\n",
        "# num_steps: Total number of training steps or epochs.\n",
        "# batch_size: Number of samples in each batch used during training.\n",
        "# learning_rate: Learning rate for the optimizer, typical for gradient descent-based methods in neural network training."
      ],
      "execution_count": null,
      "outputs": []
    },
    {
      "cell_type": "code",
      "source": [],
      "metadata": {
        "id": "iCTDdRY_TAnj"
      },
      "execution_count": null,
      "outputs": []
    },
    {
      "cell_type": "markdown",
      "source": [
        "Scientific Computing and Data Manipulation Libraries\n",
        "\n",
        "from scipy import stats:\n",
        "\n",
        "Usage: Provides a broad variety of statistical functions, which can help with statistical testing, distribution fitting, and descriptive statistics among other statistical operations.\n",
        "\n",
        "import numpy as np:\n",
        "\n",
        "Usage: Essential for numerical computing in Python. It supports large, multi-dimensional arrays and matrices, along with a large collection of high-level mathematical functions to operate on these arrays.\n",
        "\n",
        "Visualization Libraries\n",
        "\n",
        "import matplotlib.pyplot as plt:\n",
        "\n",
        "Usage: A widely used plotting library in Python, ideal for creating static, interactive, and animated visualizations.\n",
        "\n",
        "Network and Image Input/Output\n",
        "\n",
        "import urllib.request:\n",
        "\n",
        "Usage: Used for opening and reading URLs, typically for downloading data or images from the internet.\n",
        "\n",
        "from PIL import Image:\n",
        "\n",
        "Usage: Part of the Python Imaging Library (now known as Pillow), used for opening, manipulating, and saving many different image file formats.\n",
        "\n",
        "from imageio import *:\n",
        "\n",
        "Usage: Provides an easy interface to read and write a wide range of image data, including animated images, video, and volumetric data.\n",
        "\n",
        "Deep Learning and Image Processing\n",
        "\n",
        "import torch:\n",
        "\n",
        "Usage: A tensor library like NumPy, with strong GPU support. It's also a deep learning research platform that provides maximum flexibility and speed.\n",
        "\n",
        "from skimage.transform import resize:\n",
        "\n",
        "Usage: Part of scikit-image, used for resizing images which can be crucial for image processing applications where images need to be standardized to certain sizes.\n",
        "\n",
        "from mpl_toolkits.axes_grid1.axes_rgb import make_rgb_axes, RGBAxes:\n",
        "\n",
        "Usage: Used to facilitate the creation of RGB composite images or to manipulate the RGB channels in plots.\n",
        "\n",
        "Machine Learning Models and Datasets\n",
        "\n",
        "from torchvision.models import *:\n",
        "\n",
        "Usage: Provides access to pre-trained models like ResNet, VGG, etc., that can be used directly for image classification or modified for other vision tasks.\n",
        "\n",
        "from torchvision.datasets import MNIST, KMNIST, FashionMNIST:\n",
        "\n",
        "Usage: These are datasets provided by torchvision to facilitate easy access to commonly used datasets in machine learning. MNIST is for handwritten digits, KMNIST for handwritten Japanese characters, and FashionMNIST for fashion items.\n",
        "\n",
        "from skimage.util import montage:\n",
        "\n",
        "Usage: Used to create a montage or composite image from a collection of input images, which is particularly useful for visualizing all the images in a dataset or the outputs of a model in one plot.\n",
        "\n",
        "Summary\n",
        "\n",
        "This set of imports sets up an environment equipped to handle a wide range of tasks related to image downloading, processing, visualization, statistical analysis, and machine learning model training and application. This versatility is particularly useful in fields such as computer vision, where manipulating, analyzing, and learning from image data are key components of many projects."
      ],
      "metadata": {
        "id": "htx4vbrJTAsU"
      }
    },
    {
      "cell_type": "code",
      "source": [
        "from scipy import stats\n",
        "import numpy as np\n",
        "import matplotlib.pyplot as plt\n",
        "import urllib.request\n",
        "from PIL import Image\n",
        "from imageio import *\n",
        "import torch\n",
        "from skimage.transform import resize\n",
        "from mpl_toolkits.axes_grid1.axes_rgb import make_rgb_axes, RGBAxes\n",
        "from torchvision.models import *\n",
        "from torchvision.datasets import MNIST,KMNIST,FashionMNIST\n",
        "from skimage.util import montage"
      ],
      "metadata": {
        "id": "wmj18jh0bJW8"
      },
      "execution_count": null,
      "outputs": []
    },
    {
      "cell_type": "code",
      "source": [
        "def randn_trunc(s): #Truncated Normal Random Numbers\n",
        "    mu = 0\n",
        "    sigma = 0.1\n",
        "    R = stats.truncnorm((-2*sigma - mu) / sigma, (2*sigma - mu) / sigma, loc=mu, scale=sigma)\n",
        "    return R.rvs(s)\n",
        "\n",
        "# Creates truncated normal distributed values, limited to within two standard deviations from the mean.\n",
        "# This helps in initializing weights in a range that is not too wide, reducing the risk of extreme values that can adversely affect the learning process."
      ],
      "metadata": {
        "id": "3t3l54lzbGSE"
      },
      "execution_count": null,
      "outputs": []
    },
    {
      "cell_type": "code",
      "metadata": {
        "scrolled": true,
        "id": "Au5YND2GU8sr"
      },
      "source": [
        "#Encode\n",
        "w0 = GPU(randn_trunc((64,1,4,4)))\n",
        "w1 = GPU(randn_trunc((128,64,4,4)))\n",
        "w2 = GPU(randn_trunc((10,6272)))\n",
        "#Decode\n",
        "w3 = GPU(randn_trunc((6272,10)))\n",
        "w4 = GPU(randn_trunc((128,64,4,4)))\n",
        "w5 = GPU(randn_trunc((64,1,4,4)))\n",
        "\n",
        "w = [w0,w1,w2,w3,w4,w5]\n",
        "\n",
        "# Each set of weights (w0 to w5) is initialized using the randn_trunc function for specific layer dimensions. These weights are transferred to the GPU for efficient computation during training.\n",
        "\n",
        "optimizer = torch.optim.Adam(params=w, lr=learning_rate)\n",
        "\n",
        "# The Adam optimizer is chosen for its efficiency in handling sparse gradients and adaptive learning rate adjustments. It is set up with the learning rate defined earlier and will update all the weights listed in w.\n",
        "\n",
        "for i in range(num_steps):\n",
        "\n",
        "    x_real,y = get_batch('train')\n",
        "\n",
        "    x_fake = Autoencoder(x_real,w)\n",
        "\n",
        "    loss = torch.mean((x_fake - x_real)**2)   # mean squared error\n",
        "\n",
        "    optimizer.zero_grad()\n",
        "    loss.backward()\n",
        "    optimizer.step()\n",
        "\n",
        "    if i % 100 == 0: print(loss.item())\n",
        "\n",
        "# Batch Processing: For each iteration, a batch of real images x_real is fetched.\n",
        "# Autoencoder Forward Pass: The batch is passed through the autoencoder to generate reconstructed images x_fake.\n",
        "# Loss Calculation: The mean squared error (MSE) between the reconstructed images and the original images is computed, which serves as the loss function.\n",
        "# Backpropagation and Weight Update: Gradients of the loss are calculated and used to update the weights via the Adam optimizer."
      ],
      "execution_count": null,
      "outputs": []
    },
    {
      "cell_type": "code",
      "source": [],
      "metadata": {
        "id": "LcmQM8F1UQQl"
      },
      "execution_count": null,
      "outputs": []
    },
    {
      "cell_type": "markdown",
      "source": [
        "\n",
        "\n",
        "```\n",
        "image_batch, y = get_batch('test')\n",
        "image_batch_recon = Autoencoder(image_batch, w)\n",
        "torch.mean((image_batch_recon - image_batch)**2)\n",
        "montage_plot(image_batch[0:25, 0, :, :].cpu().detach().numpy())\n",
        "montage_plot(image_batch_recon[0:25, 0, :, :].cpu().detach().numpy())\n",
        "\n",
        "```\n",
        "\n",
        "Reconstruction on Test Data: After training, a batch of test images is processed through the autoencoder to see how well the network can reconstruct unseen data.\n",
        "\n",
        "Loss on Test Data: Computes MSE for the test batch, providing an evaluation metric for the reconstruction quality.\n",
        "\n",
        "Visualization: Montage plots of the original and reconstructed images are created to visually assess the performance of the autoencoder. These plots can reveal how well the model captures key features in the images."
      ],
      "metadata": {
        "id": "ztSW-kXoUQXx"
      }
    },
    {
      "cell_type": "code",
      "source": [
        "image_batch,y = get_batch('test')"
      ],
      "metadata": {
        "id": "9KtDnM_cXeJf"
      },
      "execution_count": null,
      "outputs": []
    },
    {
      "cell_type": "code",
      "source": [
        "image_batch_recon = Autoencoder(image_batch,w)"
      ],
      "metadata": {
        "id": "cUHiRtNJXeMM"
      },
      "execution_count": null,
      "outputs": []
    },
    {
      "cell_type": "code",
      "source": [
        "torch.mean((image_batch_recon - image_batch)**2)"
      ],
      "metadata": {
        "id": "kAvWP-HRXeYy"
      },
      "execution_count": null,
      "outputs": []
    },
    {
      "cell_type": "code",
      "source": [
        "montage_plot(image_batch[0:25,0,:,:].cpu().detach().numpy())"
      ],
      "metadata": {
        "id": "j9GNtjyxTrLg"
      },
      "execution_count": null,
      "outputs": []
    },
    {
      "cell_type": "code",
      "source": [
        "montage_plot(image_batch_recon[0:25,0,:,:].cpu().detach().numpy())"
      ],
      "metadata": {
        "id": "Mc87oPuJYFqx"
      },
      "execution_count": null,
      "outputs": []
    },
    {
      "cell_type": "markdown",
      "source": [
        "\n",
        "### Generator\n",
        "\n"
      ],
      "metadata": {
        "id": "x4_p3zNkNz85"
      }
    },
    {
      "cell_type": "code",
      "source": [],
      "metadata": {
        "id": "OndxZEOPbAv_"
      },
      "execution_count": null,
      "outputs": []
    },
    {
      "cell_type": "code",
      "metadata": {
        "id": "3KqMhS0SbBZW"
      },
      "source": [
        "latent_size = 64\n",
        "hidden_size = 256\n",
        "image_size = 784\n",
        "b = 1024"
      ],
      "execution_count": null,
      "outputs": []
    },
    {
      "cell_type": "code",
      "metadata": {
        "id": "bqUjdQl3bBZX"
      },
      "source": [
        "#MNIST\n",
        "# train_set = MNIST('./data', train=True, download=True)\n",
        "# test_set = MNIST('./data', train=False, download=True)\n",
        "\n",
        "#KMNIST\n",
        "#train_set = KMNIST('./data', train=True, download=True)\n",
        "#test_set = KMNIST('./data', train=False, download=True)\n",
        "\n",
        "#Fashion MNIST\n",
        "train_set = FashionMNIST('./data', train=True, download=True)\n",
        "test_set = FashionMNIST('./data', train=False, download=True)\n",
        "\n",
        "# Loads the FashionMNIST dataset for training and testing. If the data isn't available locally in the './data' directory, it downloads it."
      ],
      "execution_count": null,
      "outputs": []
    },
    {
      "cell_type": "code",
      "source": [],
      "metadata": {
        "id": "YjGgSpnbVkck"
      },
      "execution_count": null,
      "outputs": []
    },
    {
      "cell_type": "markdown",
      "source": [
        "\n",
        "\n",
        "```\n",
        "X = train_set.data.numpy()\n",
        "X_test = test_set.data.numpy()\n",
        "Y = train_set.targets.numpy()\n",
        "Y_test = test_set.targets.numpy()\n",
        "\n",
        "```\n",
        "Converts the train and test datasets and labels into NumPy arrays for manipulation.\n",
        "\n",
        "\n",
        "```\n",
        "X = X[:,None,:,:]/255\n",
        "X_test = X_test[:,None,:,:]/255\n",
        "\n",
        "```\n",
        "Rescales the images from integer pixel values (0-255) to float values between 0 and 1. Adds a channel dimension (None) to accommodate PyTorch's requirement for a channel dimension.\n",
        "\n",
        "\n",
        "\n",
        "```\n",
        "X = (X - 0.5)/0.5\n",
        "X_test = (X_test - 0.5)/0.5\n",
        "\n",
        "```\n",
        "\n",
        "\n",
        "Normalizes the images to have values between -1 and 1, which is a common practice for stabilizing GAN training.\n"
      ],
      "metadata": {
        "id": "AEUYVLOgVkkV"
      }
    },
    {
      "cell_type": "code",
      "metadata": {
        "id": "zAjtvOD9bBZX"
      },
      "source": [
        "X = train_set.data.numpy()\n",
        "X_test = test_set.data.numpy()\n",
        "Y = train_set.targets.numpy()\n",
        "Y_test = test_set.targets.numpy()\n",
        "X = X[:,None,:,:]/255\n",
        "X_test = X_test[:,None,:,:]/255\n",
        "X = (X - 0.5)/0.5\n",
        "X_test = (X_test - 0.5)/0.5"
      ],
      "execution_count": null,
      "outputs": []
    },
    {
      "cell_type": "code",
      "metadata": {
        "id": "MFT0i09GbBZX"
      },
      "source": [
        "n = 7\n",
        "\n",
        "index = np.where(Y == n)\n",
        "X = X[index]\n",
        "index = np.where(Y_test == n)\n",
        "X_test = X_test[index]\n",
        "\n",
        "# Filters the dataset to only include images of class n (e.g., a specific type of clothing in FashionMNIST). This simplifies the generator's task by focusing on a single class."
      ],
      "execution_count": null,
      "outputs": []
    },
    {
      "cell_type": "code",
      "metadata": {
        "id": "86_6wZZTbBZX"
      },
      "source": [
        "X.shape,Y.shape,X_test.shape,Y_test.shape"
      ],
      "execution_count": null,
      "outputs": []
    },
    {
      "cell_type": "code",
      "metadata": {
        "id": "neg7qmgcbBZX"
      },
      "source": [
        "###################################################"
      ],
      "execution_count": null,
      "outputs": []
    },
    {
      "cell_type": "code",
      "metadata": {
        "id": "WfVSOFbebBZX"
      },
      "source": [
        "X = GPU_data(X)\n",
        "X_test = GPU_data(X_test)\n",
        "Y = GPU_data(Y)\n",
        "Y_test = GPU_data(Y_test)\n",
        "\n",
        "# Transfers the processed datasets and labels onto the GPU to leverage accelerated computing for training."
      ],
      "execution_count": null,
      "outputs": []
    },
    {
      "cell_type": "code",
      "metadata": {
        "id": "dJfJfXm-bBZX"
      },
      "source": [
        "x,y = get_batch('train')\n",
        "\n",
        "# Fetches a batch of training data x and corresponding labels y."
      ],
      "execution_count": null,
      "outputs": []
    },
    {
      "cell_type": "code",
      "source": [],
      "metadata": {
        "id": "XTKyOsnC_GYN"
      },
      "execution_count": null,
      "outputs": []
    },
    {
      "cell_type": "code",
      "source": [
        "x.shape\n",
        "\n",
        "# Dsiplays shape of x"
      ],
      "metadata": {
        "id": "Q197FoFQ-yM9"
      },
      "execution_count": null,
      "outputs": []
    },
    {
      "cell_type": "code",
      "metadata": {
        "id": "V51COsfUbBZX"
      },
      "source": [
        "montage_plot(x[0:25,0,:,:].detach().cpu().numpy())"
      ],
      "execution_count": null,
      "outputs": []
    },
    {
      "cell_type": "code",
      "metadata": {
        "id": "z7LYsL5_bBZX"
      },
      "source": [
        "#D\n",
        "w0 = GPU(randn_trunc((64,1,4,4)))\n",
        "w1 = GPU(randn_trunc((128,64,4,4)))\n",
        "w2 = GPU(randn_trunc((1,6272)))\n",
        "#G\n",
        "w3 = GPU(randn_trunc((6272,64)))\n",
        "w4 = GPU(randn_trunc((128,64,4,4)))\n",
        "w5 = GPU(randn_trunc((64,1,4,4)))\n",
        "\n",
        "w = [w0,w1,w2,w3,w4,w5]\n",
        "\n",
        "# Initializes weights for both the discriminator (D) and the generator (G) using a truncated normal distribution to avoid extreme initial weights. GPU ensures these tensors are stored on the GPU"
      ],
      "execution_count": null,
      "outputs": []
    },
    {
      "cell_type": "code",
      "metadata": {
        "id": "UbDVggMGbBZX"
      },
      "source": [
        "def D(x,w):\n",
        "    x = relu(conv2d(x,w[0], stride=(2, 2), padding=(1, 1)))\n",
        "    x = relu(conv2d(x,w[1], stride=(2, 2), padding=(1, 1)))\n",
        "    x = x.view(x.size(0), 6272)\n",
        "    x = linear(x,w[2])\n",
        "    x = torch.sigmoid(x)\n",
        "    return x"
      ],
      "execution_count": null,
      "outputs": []
    },
    {
      "cell_type": "code",
      "metadata": {
        "id": "kcOOwwfqbBZX"
      },
      "source": [
        "def G(x,w):\n",
        "    x = linear(x,w[3])\n",
        "    x = x.view(x.size(0), 128, 7, 7)\n",
        "    x = relu(conv_transpose2d(x,w[4], stride=(2, 2), padding=(1, 1)))\n",
        "    x = torch.tanh(conv_transpose2d(x,w[5], stride=(2, 2), padding=(1, 1)))\n",
        "    return x"
      ],
      "execution_count": null,
      "outputs": []
    },
    {
      "cell_type": "markdown",
      "source": [
        "\n",
        "\n",
        "```\n",
        "def D(x,w):\n",
        "    x = relu(conv2d(x, w[0], stride=(2, 2), padding=(1, 1)))\n",
        "    x = relu(conv2d(x, w[1], stride=(2, 2), padding=(1, 1)))\n",
        "    x = x.view(x.size(0), 6272)\n",
        "    x = linear(x, w[2])\n",
        "    x = torch.sigmoid(x)\n",
        "    return x\n",
        "\n",
        "def G(x,w):\n",
        "    x = linear(x, w[3])\n",
        "    x = x.view(x.size(0), 128, 7, 7)\n",
        "    x = relu(conv_transpose2d(x, w[4], stride=(2, 2), padding=(1, 1)))\n",
        "    x = torch.tanh(conv_transpose2d(x, w[5], stride=(2, 2), padding=(1, 1)))\n",
        "    return x\n",
        "\n",
        "```\n",
        "\n",
        "Discriminator (D): Consists of convolutional layers that classify images as real or fake. Ends with a sigmoid activation to produce a probability.\n",
        "Generator (G): Uses transposed convolutional layers to generate images from latent vectors, starting from a dense layer to upscale the input latent space."
      ],
      "metadata": {
        "id": "7S08jntMWRjb"
      }
    },
    {
      "cell_type": "code",
      "source": [
        "b = 1024"
      ],
      "metadata": {
        "id": "nLHWIGrF-75j"
      },
      "execution_count": null,
      "outputs": []
    },
    {
      "cell_type": "code",
      "source": [
        "batch_size = b"
      ],
      "metadata": {
        "id": "351S9-Hi-3dd"
      },
      "execution_count": null,
      "outputs": []
    },
    {
      "cell_type": "code",
      "source": [
        "batch_size"
      ],
      "metadata": {
        "id": "iJoxfGJG-5CN"
      },
      "execution_count": null,
      "outputs": []
    },
    {
      "cell_type": "code",
      "metadata": {
        "id": "Md0XK_V0bBZX"
      },
      "source": [
        "d_optimizer = torch.optim.Adam(w[0:3], lr=0.0002)\n",
        "g_optimizer = torch.optim.Adam(w[3:], lr=0.0002)\n",
        "\n",
        "# Sets up Adam optimizers for both the discriminator and generator with separate learning rates.\n",
        "\n",
        "real_labels = (torch.ones(batch_size, 1).cuda())\n",
        "fake_labels = (torch.zeros(batch_size, 1).cuda())\n",
        "\n",
        "# Initializes tensors for the \"real\" and \"fake\" labels needed for training the discriminator."
      ],
      "execution_count": null,
      "outputs": []
    },
    {
      "cell_type": "code",
      "metadata": {
        "id": "1qIZIv7-bBZX"
      },
      "source": [
        "num_epochs = 500\n",
        "batches = X.shape[0]//batch_size\n",
        "steps = num_epochs*batches"
      ],
      "execution_count": null,
      "outputs": []
    },
    {
      "cell_type": "code",
      "metadata": {
        "id": "x1da20dlbBZX"
      },
      "source": [
        "z1 = (torch.randn(steps,batch_size,latent_size).cuda())\n",
        "z2 = (torch.randn(steps,batch_size,latent_size).cuda())"
      ],
      "execution_count": null,
      "outputs": []
    },
    {
      "cell_type": "code",
      "metadata": {
        "id": "Xfr-JmZqbBZX"
      },
      "source": [
        "for i in range(steps):\n",
        "\n",
        "    images,y = get_batch('train')\n",
        "\n",
        "    d_loss = binary_cross_entropy(D(images,w), real_labels) + binary_cross_entropy(D(G(z1[i],w),w), fake_labels)\n",
        "    d_optimizer.zero_grad()\n",
        "    d_loss.backward()\n",
        "    d_optimizer.step()\n",
        "\n",
        "\n",
        "    g_loss = binary_cross_entropy(D(G(z2[i],w),w), real_labels)\n",
        "    g_optimizer.zero_grad()\n",
        "    g_loss.backward()\n",
        "    g_optimizer.step()\n",
        "\n",
        "    # The main training loop where batches of real and fake images are processed to update the discriminator and generator through adversarial training.\n",
        "\n",
        "\n",
        "\n",
        "    if i % 200 == 0:\n",
        "        out = G(z1[np.random.randint(steps)],w)\n",
        "        montage_plot(out.view(batch_size,1,28,28).detach().cpu().numpy()[0:25,0,:,:])\n",
        "\n",
        "        # Visualizes the output of batches of real and generated images to monitor the progress of the generator visually."
      ],
      "execution_count": null,
      "outputs": []
    },
    {
      "cell_type": "code",
      "source": [],
      "metadata": {
        "id": "Vws7NBXkPm8E"
      },
      "execution_count": null,
      "outputs": []
    },
    {
      "cell_type": "code",
      "source": [],
      "metadata": {
        "id": "bJY1hGOIba67"
      },
      "execution_count": null,
      "outputs": []
    },
    {
      "cell_type": "code",
      "source": [
        "z1[np.random.randint(steps)].shape"
      ],
      "metadata": {
        "id": "A_pN8FvYATEy"
      },
      "execution_count": null,
      "outputs": []
    },
    {
      "cell_type": "code",
      "source": [
        "noise = GPU_data(torch.randn(1,64))"
      ],
      "metadata": {
        "id": "tQAacm6dAVFU"
      },
      "execution_count": null,
      "outputs": []
    },
    {
      "cell_type": "code",
      "metadata": {
        "id": "NBPhGo-mbBZY"
      },
      "source": [
        "output = G(noise,w)"
      ],
      "execution_count": null,
      "outputs": []
    },
    {
      "cell_type": "code",
      "source": [
        "output.shape"
      ],
      "metadata": {
        "id": "J-Ci-ogDAcn0"
      },
      "execution_count": null,
      "outputs": []
    },
    {
      "cell_type": "code",
      "source": [
        "plot(output[0,0])"
      ],
      "metadata": {
        "id": "XekLNuxzAieQ"
      },
      "execution_count": null,
      "outputs": []
    },
    {
      "cell_type": "code",
      "source": [],
      "metadata": {
        "id": "l9Km8G5vAlhF"
      },
      "execution_count": null,
      "outputs": []
    }
  ]
}
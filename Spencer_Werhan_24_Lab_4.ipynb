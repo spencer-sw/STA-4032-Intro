{
  "nbformat": 4,
  "nbformat_minor": 0,
  "metadata": {
    "colab": {
      "provenance": []
    },
    "kernelspec": {
      "name": "python3",
      "display_name": "Python 3"
    },
    "language_info": {
      "name": "python"
    }
  },
  "cells": [
    {
      "cell_type": "markdown",
      "source": [
        "#Monte Carlo"
      ],
      "metadata": {
        "id": "oaLPidcsUWq8"
      }
    },
    {
      "cell_type": "code",
      "source": [
        "import numpy as np\n",
        "import matplotlib.pyplot as plt\n",
        "\n",
        "# Imports libraries and gives alias for easier callback"
      ],
      "metadata": {
        "id": "71iPUDOqztE6"
      },
      "execution_count": 1,
      "outputs": []
    },
    {
      "cell_type": "code",
      "metadata": {
        "id": "N9l2txUm1x4f"
      },
      "source": [
        "x = np.linspace(-3,3,100)\n",
        "\n",
        "# Generates an array x from -3 to 3 evenly spaced in 100 increments"
      ],
      "execution_count": null,
      "outputs": []
    },
    {
      "cell_type": "code",
      "metadata": {
        "id": "iwp9VH061x61"
      },
      "source": [
        "y = x**2 + 2\n",
        "\n",
        "# Sets y = x in mathematical expression"
      ],
      "execution_count": null,
      "outputs": []
    },
    {
      "cell_type": "code",
      "metadata": {
        "colab": {
          "base_uri": "https://localhost:8080/",
          "height": 447
        },
        "id": "mR6awmdU1x9Q",
        "outputId": "7cb2f8c4-6894-438e-bf56-127ec12ed39b"
      },
      "source": [
        "plt.plot(x,y)\n",
        "\n",
        "# Plots function"
      ],
      "execution_count": null,
      "outputs": [
        {
          "output_type": "execute_result",
          "data": {
            "text/plain": [
              "[<matplotlib.lines.Line2D at 0x7c912fb65a20>]"
            ]
          },
          "metadata": {},
          "execution_count": 6
        },
        {
          "output_type": "display_data",
          "data": {
            "text/plain": [
              "<Figure size 640x480 with 1 Axes>"
            ],
            "image/png": "[encoded data removed]"
          },
          "metadata": {}
        }
      ]
    },
    {
      "cell_type": "code",
      "metadata": {
        "id": "lWHawjcS1x_W"
      },
      "source": [
        "# Finds area under curve from 1 to 2"
      ],
      "execution_count": null,
      "outputs": []
    },
    {
      "cell_type": "markdown",
      "metadata": {
        "id": "6qMRS6xM2Hpt"
      },
      "source": [
        "$f(x) = x^2 + 2$\n",
        "\n",
        "$Area = \\int_a^bf(x) dx$\n",
        "\n",
        "$= \\int_a^b (x^2+2) dx$\n",
        "\n",
        "$= \\left.\\frac{x^3}{3}+2x\\right\\vert_1^2$\n",
        "\n",
        "$= (\\frac{8}{3}+4) - (\\frac{1}{3}+2)$\n",
        "\n",
        "$= \\frac{13}{3}$"
      ]
    },
    {
      "cell_type": "code",
      "metadata": {
        "colab": {
          "base_uri": "https://localhost:8080/"
        },
        "id": "SsdccAV61yBq",
        "outputId": "193b9690-cb8e-4658-849e-d598813739f1"
      },
      "source": [
        "13/3"
      ],
      "execution_count": null,
      "outputs": [
        {
          "output_type": "execute_result",
          "data": {
            "text/plain": [
              "4.333333333333333"
            ]
          },
          "metadata": {},
          "execution_count": 7
        }
      ]
    },
    {
      "cell_type": "code",
      "source": [
        "# M is any number that is definitely not possible for the function to be equal to and that point\n",
        "# In the case of this function, 10 is M and is not a y value between 1<x<2"
      ],
      "metadata": {
        "id": "JQ0RXv-ILcfJ"
      },
      "execution_count": null,
      "outputs": []
    },
    {
      "cell_type": "markdown",
      "metadata": {
        "id": "jeEiI2823IX6"
      },
      "source": [
        "# To integrate the function $f(x)$ over the interval $[a,b]$ we\n",
        "\n",
        "[1] find some value $M$ such that $f(x) < M$ over the interval $[a,b]$\n",
        "\n",
        "[2] select a random number $x$ from a uniform distribution over the interval $[a,b]$\n",
        "\n",
        "[3] select a random number y from a uniform distribution over the interval $[0,M]$\n",
        "\n",
        "[4] determine if $y > f(x)$ or $y ≤ f(x)$\n",
        "\n",
        "[5] repeat this process $N$ times, keeping track of the number of times $y ≤ f(x)$ or under the curve, successes $S$.\n",
        "\n",
        "The estimated probability of success is then:"
      ]
    },
    {
      "cell_type": "markdown",
      "metadata": {
        "id": "NdqIk22r3RaW"
      },
      "source": [
        "$\\frac{S}{N}=\\frac{\\text{Area under curve}}{\\text{Total area inside rectangle}} = \\frac{\\int_a^bf(x)dx}{M(b-a)}$"
      ]
    },
    {
      "cell_type": "markdown",
      "metadata": {
        "id": "P1lUvplv5rW-"
      },
      "source": [
        "$\\int_a^bf(x)dx = M(b-a)\\frac{S}{N}$"
      ]
    },
    {
      "cell_type": "markdown",
      "source": [
        "The method you've outlined is a Monte Carlo integration technique, a probabilistic approach to approximating the definite integral of a function over a given interval. This technique is particularly useful for complex integrals that are difficult to solve analytically. Here's a step-by-step breakdown of how it works and how it's implemented:\n",
        "\n",
        "Steps in Monte Carlo Integration:\n",
        "Bounding the Function: Identify a value\n",
        "�\n",
        "M such that\n",
        "�\n",
        "(\n",
        "�\n",
        ")\n",
        "≤\n",
        "�\n",
        "f(x)≤M for all\n",
        "�\n",
        "x in the interval\n",
        "[\n",
        "�\n",
        ",\n",
        "�\n",
        "]\n",
        "[a,b]. This is necessary to define a rectangle that encloses the area under the curve of\n",
        "�\n",
        "(\n",
        "�\n",
        ")\n",
        "f(x) within the interval.\n",
        "\n",
        "Random Sampling in\n",
        "�\n",
        "x: Select a random\n",
        "�\n",
        "x value from a uniform distribution over the interval\n",
        "[\n",
        "�\n",
        ",\n",
        "�\n",
        "]\n",
        "[a,b]. This simulates a random horizontal position within the bounding rectangle.\n",
        "\n",
        "Random Sampling in\n",
        "�\n",
        "y: Select a random\n",
        "�\n",
        "y value from a uniform distribution over the interval\n",
        "[\n",
        "0\n",
        ",\n",
        "�\n",
        "]\n",
        "[0,M]. This simulates a random vertical position within the bounding rectangle.\n",
        "\n",
        "Comparison: Check if the randomly selected\n",
        "�\n",
        "y is less than or equal to\n",
        "�\n",
        "(\n",
        "�\n",
        ")\n",
        "f(x) at the chosen\n",
        "�\n",
        "x. This determines whether the randomly selected point is below the curve of\n",
        "�\n",
        "(\n",
        "�\n",
        ")\n",
        "f(x).\n",
        "\n",
        "Repeat and Count: Repeat steps 2 through 4\n",
        "�\n",
        "N times and count the number of successes\n",
        "�\n",
        "S, where a success is defined as a point\n",
        "(\n",
        "�\n",
        ",\n",
        "�\n",
        ")\n",
        "(x,y) falling under the curve of\n",
        "�\n",
        "(\n",
        "�\n",
        ")\n",
        "f(x).\n",
        "\n",
        "Estimate the Integral: The ratio of successes to total trials\n",
        "�\n",
        "�\n",
        "N\n",
        "S\n",
        "​\n",
        "  approximates the fraction of the bounding rectangle's area that is under the curve. Multiplying this ratio by the rectangle's total area\n",
        "�\n",
        "(\n",
        "�\n",
        "−\n",
        "�\n",
        ")\n",
        "M(b−a) gives an estimate of the integral\n",
        "∫\n",
        "�\n",
        "�\n",
        "�\n",
        "(\n",
        "�\n",
        ")\n",
        "�\n",
        "�\n",
        "∫\n",
        "a\n",
        "b\n",
        "​\n",
        " f(x)dx.\n",
        "\n",
        "Implementation in Python\n",
        "Here's a simple Python function that implements this Monte Carlo integration method for estimating the integral of\n",
        "�\n",
        "(\n",
        "�\n",
        ")\n",
        "=\n",
        "�\n",
        "2\n",
        "+\n",
        "2\n",
        "f(x)=x\n",
        "2\n",
        " +2 over a specified interval\n",
        "[\n",
        "�\n",
        ",\n",
        "�\n",
        "]\n",
        "[a,b]:\n",
        "\n",
        "```\n",
        "python\n",
        "Copy code\n",
        "import numpy as np\n",
        "\n",
        "def monte_carlo_integration(f, a, b, M, N):\n",
        "    successes = 0\n",
        "    \n",
        "    for _ in range(N):\n",
        "        x = np.random.uniform(a, b)\n",
        "        y = np.random.uniform(0, M)\n",
        "        if y <= f(x):\n",
        "            successes += 1\n",
        "            \n",
        "    estimated_area = M * (b - a) * (successes / N)\n",
        "    return estimated_area\n",
        "\n",
        "# Define the function f(x)\n",
        "def f(x):\n",
        "    return x**2 + 2\n",
        "\n",
        "# Integration parameters\n",
        "a, b = 0, 1  # Interval [0, 1]\n",
        "M = f(b)  # Assuming M is the maximum value of f(x) in [a, b]\n",
        "N = 10000  # Number of trials\n",
        "\n",
        "# Estimate the integral\n",
        "integral_estimate = monte_carlo_integration(f, a, b, M, N)\n",
        "print(\"Estimated integral:\", integral_estimate)\n",
        "```\n",
        "\n",
        "This function can be adjusted for different functions\n",
        "�\n",
        "(\n",
        "�\n",
        ")\n",
        "f(x), intervals\n",
        "[\n",
        "�\n",
        ",\n",
        "�\n",
        "]\n",
        "[a,b], and values of\n",
        "�\n",
        "M and\n",
        "�\n",
        "N to approximate various integrals. The accuracy of the estimation improves with the number of trials\n",
        "�\n",
        "N, following the law of large numbers in probability theory."
      ],
      "metadata": {
        "id": "aCAINqGbL4K7"
      }
    },
    {
      "cell_type": "code",
      "metadata": {
        "id": "BxflSiSf4kE6"
      },
      "source": [
        "def f(x):\n",
        "    y = x**2 + 2\n",
        "    return y"
      ],
      "execution_count": null,
      "outputs": []
    },
    {
      "cell_type": "code",
      "metadata": {
        "colab": {
          "base_uri": "https://localhost:8080/",
          "height": 447
        },
        "id": "V5LEKioh4ttl",
        "outputId": "4a22fcda-fc88-4a95-926d-33d50b790d4b"
      },
      "source": [
        "plt.plot(x,f(x))"
      ],
      "execution_count": null,
      "outputs": [
        {
          "output_type": "execute_result",
          "data": {
            "text/plain": [
              "[<matplotlib.lines.Line2D at 0x7c9115387f70>]"
            ]
          },
          "metadata": {},
          "execution_count": 9
        },
        {
          "output_type": "display_data",
          "data": {
            "text/plain": [
              "<Figure size 640x480 with 1 Axes>"
            ],
            "image/png": "[encoded data removed]"
          },
          "metadata": {}
        }
      ]
    },
    {
      "cell_type": "code",
      "metadata": {
        "id": "UyVPMeWm4zt9"
      },
      "source": [
        "# Simplified way of plotting using functionse"
      ],
      "execution_count": null,
      "outputs": []
    },
    {
      "cell_type": "code",
      "metadata": {
        "id": "q_XOtrrm2_Vm"
      },
      "source": [
        "M = 10\n",
        "\n",
        "# Value definitely above function"
      ],
      "execution_count": null,
      "outputs": []
    },
    {
      "cell_type": "code",
      "metadata": {
        "id": "hfGi86ia4Put"
      },
      "source": [
        "a = 1\n",
        "b = 2\n",
        "\n",
        "# Range to approximate  for x"
      ],
      "execution_count": null,
      "outputs": []
    },
    {
      "cell_type": "code",
      "source": [
        "np.random.random()\n",
        "\n",
        "# Random number between 0 and 1"
      ],
      "metadata": {
        "colab": {
          "base_uri": "https://localhost:8080/"
        },
        "id": "Nn0LdnjjtgX1",
        "outputId": "64da64ed-bba8-42f4-e97f-aed11d6e6d59"
      },
      "execution_count": null,
      "outputs": [
        {
          "output_type": "execute_result",
          "data": {
            "text/plain": [
              "0.4869260321553798"
            ]
          },
          "metadata": {},
          "execution_count": 12
        }
      ]
    },
    {
      "cell_type": "code",
      "metadata": {
        "id": "3QMEIxUI2_YJ"
      },
      "source": [
        "x = a + (b-a)*np.random.random()\n",
        "\n",
        "# a is scaling, (b-a) is shifting\n",
        "# Sets random point to fall between 1 and 2"
      ],
      "execution_count": null,
      "outputs": []
    },
    {
      "cell_type": "code",
      "source": [
        "x"
      ],
      "metadata": {
        "colab": {
          "base_uri": "https://localhost:8080/"
        },
        "id": "kK3OfMnThUeG",
        "outputId": "83a62db2-e825-43eb-e1c6-cc1a1a7e4560"
      },
      "execution_count": null,
      "outputs": [
        {
          "output_type": "execute_result",
          "data": {
            "text/plain": [
              "1.4360147107404209"
            ]
          },
          "metadata": {},
          "execution_count": 14
        }
      ]
    },
    {
      "cell_type": "code",
      "metadata": {
        "id": "-4_SdIRA2_aP"
      },
      "source": [
        "y = M*np.random.random()\n",
        "\n",
        "# Sets y = random number between 0 and 10"
      ],
      "execution_count": null,
      "outputs": []
    },
    {
      "cell_type": "code",
      "metadata": {
        "colab": {
          "base_uri": "https://localhost:8080/"
        },
        "id": "7mySC0lfJd4V",
        "outputId": "cd209018-446f-4511-e8f8-11933a11a418"
      },
      "source": [
        "x,y,f(x)"
      ],
      "execution_count": null,
      "outputs": [
        {
          "output_type": "execute_result",
          "data": {
            "text/plain": [
              "(1.4360147107404209, 2.698360781344462, 4.062138249462895)"
            ]
          },
          "metadata": {},
          "execution_count": 16
        }
      ]
    },
    {
      "cell_type": "code",
      "metadata": {
        "colab": {
          "base_uri": "https://localhost:8080/"
        },
        "id": "YcBlPFsRxgFe",
        "outputId": "c573b08d-ed11-402d-b32c-ec5ac229251b"
      },
      "source": [
        "y < f(x)\n",
        "\n",
        "# Checks if y is less than x\n",
        "# If true random number is located under curve"
      ],
      "execution_count": null,
      "outputs": [
        {
          "output_type": "execute_result",
          "data": {
            "text/plain": [
              "True"
            ]
          },
          "metadata": {},
          "execution_count": 17
        }
      ]
    },
    {
      "cell_type": "code",
      "metadata": {
        "colab": {
          "base_uri": "https://localhost:8080/"
        },
        "id": "WgZGYWmi4_LG",
        "outputId": "d4c2f47f-80cb-4d01-8595-142e9d185511"
      },
      "source": [
        "N = 100_000\n",
        "S = 0\n",
        "for i in range(N):\n",
        "\n",
        "    x = a + (b-a)*np.random.random()\n",
        "    y = M*np.random.random()\n",
        "\n",
        "    S += (y < f(x))\n",
        "\n",
        "M*(b-a)*(S/N) # S chance to hit curve, N is total area of the curve\n",
        "\n",
        "# Should be approximate value of area under curve"
      ],
      "execution_count": null,
      "outputs": [
        {
          "output_type": "execute_result",
          "data": {
            "text/plain": [
              "4.3369"
            ]
          },
          "metadata": {},
          "execution_count": 18
        }
      ]
    },
    {
      "cell_type": "code",
      "metadata": {
        "id": "hciFkOXZ5TeU"
      },
      "source": [],
      "execution_count": null,
      "outputs": []
    },
    {
      "cell_type": "code",
      "metadata": {
        "id": "4vCgd-7RVmA4"
      },
      "source": [],
      "execution_count": null,
      "outputs": []
    },
    {
      "cell_type": "code",
      "metadata": {
        "id": "X9NTMNsyVmDe"
      },
      "source": [
        "def f(x):\n",
        "    y = x**2 + 2\n",
        "    return y"
      ],
      "execution_count": null,
      "outputs": []
    },
    {
      "cell_type": "code",
      "metadata": {
        "id": "GAXseAalVml9"
      },
      "source": [
        "def monte_carlo_integrate(f,a,b,N):\n",
        "\n",
        "    N = 100000\n",
        "    S = 0\n",
        "    for i in range(N):\n",
        "\n",
        "        x = a + (b-a)*np.random.random()\n",
        "        y = M*np.random.random()\n",
        "\n",
        "        S += (y < f(x))\n",
        "\n",
        "    return M*(b-a)*(S/N)"
      ],
      "execution_count": null,
      "outputs": []
    },
    {
      "cell_type": "code",
      "metadata": {
        "colab": {
          "base_uri": "https://localhost:8080/"
        },
        "id": "_bHAUyHuV1vo",
        "outputId": "f12ddf94-0fed-463f-f989-5d191120fe6a"
      },
      "source": [
        "monte_carlo_integrate(f,1,2,1000)\n",
        "\n",
        "# Function where all variables can be chosen at input"
      ],
      "execution_count": null,
      "outputs": [
        {
          "output_type": "execute_result",
          "data": {
            "text/plain": [
              "4.3521"
            ]
          },
          "metadata": {},
          "execution_count": 21
        }
      ]
    },
    {
      "cell_type": "code",
      "metadata": {
        "id": "mqt7XrSlV7x4"
      },
      "source": [],
      "execution_count": null,
      "outputs": []
    },
    {
      "cell_type": "code",
      "metadata": {
        "id": "c4Jl1ryiWlwx"
      },
      "source": [
        "from sympy import *\n",
        "\n",
        "# Symbol python - like y=mx+b, no numbers"
      ],
      "execution_count": 4,
      "outputs": []
    },
    {
      "cell_type": "code",
      "metadata": {
        "id": "DMWY2NVMWlzN"
      },
      "source": [
        "x = Symbol('x')\n",
        "\n",
        "# Sets x to be the symbol x not a variable"
      ],
      "execution_count": 5,
      "outputs": []
    },
    {
      "cell_type": "code",
      "metadata": {
        "colab": {
          "base_uri": "https://localhost:8080/",
          "height": 38
        },
        "id": "fF9tSLvPKr1w",
        "outputId": "b25fdfe0-8f72-48dd-8655-380b3617f687"
      },
      "source": [
        "x"
      ],
      "execution_count": 6,
      "outputs": [
        {
          "output_type": "execute_result",
          "data": {
            "text/plain": [
              "x"
            ],
            "text/latex": "$\\displaystyle x$"
          },
          "metadata": {},
          "execution_count": 6
        }
      ]
    },
    {
      "cell_type": "code",
      "metadata": {
        "colab": {
          "base_uri": "https://localhost:8080/",
          "height": 51
        },
        "id": "6pQiyAFWWoZE",
        "outputId": "cd4957b5-9773-441b-f818-76a992993573"
      },
      "source": [
        "integrate(x**2 + 2, (x,1,2))\n",
        "\n",
        "# Integrates function from 1 to 2"
      ],
      "execution_count": null,
      "outputs": [
        {
          "output_type": "execute_result",
          "data": {
            "text/plain": [
              "13/3"
            ],
            "text/latex": "$\\displaystyle \\frac{13}{3}$"
          },
          "metadata": {},
          "execution_count": 26
        }
      ]
    },
    {
      "cell_type": "code",
      "metadata": {
        "colab": {
          "base_uri": "https://localhost:8080/"
        },
        "id": "tx40llaFWtVI",
        "outputId": "c0a7d06b-3e0d-4e2c-d6e0-86409e98a5e5"
      },
      "source": [
        "13/3"
      ],
      "execution_count": null,
      "outputs": [
        {
          "output_type": "execute_result",
          "data": {
            "text/plain": [
              "4.333333333333333"
            ]
          },
          "metadata": {},
          "execution_count": 27
        }
      ]
    },
    {
      "cell_type": "code",
      "metadata": {
        "colab": {
          "base_uri": "https://localhost:8080/",
          "height": 51
        },
        "id": "EXvJw8uHW2F7",
        "outputId": "44e2faf5-b960-422c-c3f6-3fa507d722ba"
      },
      "source": [
        "integrate(x**3 + 3, (x,1,2))\n",
        "\n",
        "# Integrates cubic function from 1 to 2"
      ],
      "execution_count": null,
      "outputs": [
        {
          "output_type": "execute_result",
          "data": {
            "text/plain": [
              "27/4"
            ],
            "text/latex": "$\\displaystyle \\frac{27}{4}$"
          },
          "metadata": {},
          "execution_count": 28
        }
      ]
    },
    {
      "cell_type": "code",
      "metadata": {
        "colab": {
          "base_uri": "https://localhost:8080/"
        },
        "id": "AwKCW9spW9OE",
        "outputId": "36aaddf7-7731-4a05-dc53-28d703f8f400"
      },
      "source": [
        "27/4"
      ],
      "execution_count": null,
      "outputs": [
        {
          "output_type": "execute_result",
          "data": {
            "text/plain": [
              "6.75"
            ]
          },
          "metadata": {},
          "execution_count": 29
        }
      ]
    },
    {
      "cell_type": "code",
      "metadata": {
        "id": "t8HmnXp4WuV1"
      },
      "source": [
        "x = 0"
      ],
      "execution_count": null,
      "outputs": []
    },
    {
      "cell_type": "code",
      "metadata": {
        "id": "XYaeF2rBW2IX"
      },
      "source": [
        "def f(x):\n",
        "    y = x**3 + 3\n",
        "    return y"
      ],
      "execution_count": null,
      "outputs": []
    },
    {
      "cell_type": "code",
      "metadata": {
        "colab": {
          "base_uri": "https://localhost:8080/"
        },
        "id": "kBmtn03YW4lg",
        "outputId": "f77cfe11-d356-4530-cbcb-a4d27c708a00"
      },
      "source": [
        "monte_carlo_integrate(f,1,2,1000000)\n",
        "\n",
        "# Similar to above where area is estimated"
      ],
      "execution_count": null,
      "outputs": [
        {
          "output_type": "execute_result",
          "data": {
            "text/plain": [
              "6.7062"
            ]
          },
          "metadata": {},
          "execution_count": 32
        }
      ]
    },
    {
      "cell_type": "code",
      "metadata": {
        "id": "HqoTlTRZW-mL"
      },
      "source": [],
      "execution_count": null,
      "outputs": []
    },
    {
      "cell_type": "code",
      "metadata": {
        "id": "Q0V0Q3scYOiC"
      },
      "source": [
        "N = 2000\n",
        "S = 0\n",
        "Z = np.zeros(N,)\n",
        "for i in range(1,N):\n",
        "\n",
        "    x = a + (b-a)*np.random.random()\n",
        "    y = M*np.random.random()\n",
        "\n",
        "    S += (y < f(x))\n",
        "\n",
        "    Z[i] = M*(b-a)*(S/i)"
      ],
      "execution_count": null,
      "outputs": []
    },
    {
      "cell_type": "code",
      "metadata": {
        "colab": {
          "base_uri": "https://localhost:8080/",
          "height": 447
        },
        "id": "pbgC39T5YjnM",
        "outputId": "ce748f4b-45ac-4b76-f289-2602a0fe1807"
      },
      "source": [
        "plt.plot(Z)\n",
        "plt.plot(6.75*np.ones(Z.shape))"
      ],
      "execution_count": null,
      "outputs": [
        {
          "output_type": "execute_result",
          "data": {
            "text/plain": [
              "[<matplotlib.lines.Line2D at 0x7c910bea4d30>]"
            ]
          },
          "metadata": {},
          "execution_count": 34
        },
        {
          "output_type": "display_data",
          "data": {
            "text/plain": [
              "<Figure size 640x480 with 1 Axes>"
            ],
            "image/png": "[encoded data removed]"
          },
          "metadata": {}
        }
      ]
    },
    {
      "cell_type": "markdown",
      "source": [
        "The plot illustrates the convergence of the Monte Carlo integration estimate towards the actual value of the integral over 2,000 iterations. In this simulation, the function\n",
        "�\n",
        "(\n",
        "�\n",
        ")\n",
        "=\n",
        "�\n",
        "2\n",
        "+\n",
        "2\n",
        "f(x)=x\n",
        "2\n",
        " +2 is integrated over the interval\n",
        "[\n",
        "1\n",
        ",\n",
        "2\n",
        "]\n",
        "[1,2] with a bounding rectangle height\n",
        "�\n",
        "=\n",
        "10\n",
        "M=10. The red dashed line represents the actual value of the integral, which is approximately 6.75.\n",
        "\n",
        "As the number of iterations increases, the Monte Carlo estimate (shown in blue) fluctuates initially but gradually stabilizes and converges towards the actual value. This demonstrates the effectiveness of the Monte Carlo method in approximating integrals, especially for functions or domains where analytical solutions are difficult or impossible to obtain. The convergence pattern also underscores the importance of a large number of trials in reducing the variance of the estimate and improving accuracy."
      ],
      "metadata": {
        "id": "zWH1to7iPHMK"
      }
    },
    {
      "cell_type": "code",
      "metadata": {
        "id": "_LG9FfbqY-DY"
      },
      "source": [],
      "execution_count": null,
      "outputs": []
    },
    {
      "cell_type": "code",
      "source": [
        "import numpy as np\n",
        "import matplotlib.pyplot as plt\n",
        "from sympy import Symbol, integrate\n",
        "\n",
        "# Define a general function for Monte Carlo integration\n",
        "def monte_carlo_integrate(func, a, b, N, M):\n",
        "    S = 0\n",
        "    for _ in range(N):\n",
        "        x = a + (b - a) * np.random.random()\n",
        "        y = M * np.random.random()\n",
        "        if y < func(x):\n",
        "            S += 1\n",
        "    return M * (b - a) * (S / N)\n",
        "\n",
        "# Define the functions to be integrated\n",
        "def f1(x):\n",
        "    return x**2 + 2\n",
        "\n",
        "def f2(x):\n",
        "    return x**3 + 3\n",
        "\n",
        "# Calculate exact and estimated areas\n",
        "def calculate_areas(func, a, b, N, M):\n",
        "    x_sym = Symbol('x')\n",
        "    exact_area = integrate(func(x_sym), (x_sym, a, b)).evalf()\n",
        "    estimated_area = monte_carlo_integrate(func, a, b, N, M)\n",
        "    return exact_area, estimated_area\n",
        "\n",
        "# Plotting function\n",
        "def plot_function(func, title, a=-3, b=3):\n",
        "    x = np.linspace(a, b, 100)\n",
        "    y = func(x)\n",
        "    plt.plot(x, y, label=title)\n",
        "    plt.title(title)\n",
        "    plt.xlabel(\"x\")\n",
        "    plt.ylabel(\"f(x)\")\n",
        "    plt.legend()\n",
        "    plt.show()\n",
        "\n",
        "# Plot the functions\n",
        "plot_function(f1, \"$f(x) = x^2 + 2$\")\n",
        "plot_function(f2, \"$f(x) = x^3 + 3$\")\n",
        "\n",
        "# Calculate and print areas\n",
        "exact_area_f1, estimated_area_f1 = calculate_areas(f1, 1, 2, 100000, 20)\n",
        "exact_area_f2, estimated_area_f2 = calculate_areas(f2, 1, 2, 1000000, 20)\n",
        "\n",
        "print(\"Exact Area under f1:\", exact_area_f1)\n",
        "print(\"Estimated Area under f1:\", estimated_area_f1)\n",
        "print(\"Exact Area under f2:\", exact_area_f2)\n",
        "print(\"Estimated Area under f2:\", estimated_area_f2)\n"
      ],
      "metadata": {
        "colab": {
          "base_uri": "https://localhost:8080/",
          "height": 1000
        },
        "id": "Os5t-jDcm7O7",
        "outputId": "719666a3-4146-4f80-f4c9-08c867663517"
      },
      "execution_count": null,
      "outputs": [
        {
          "output_type": "display_data",
          "data": {
            "text/plain": [
              "<Figure size 640x480 with 1 Axes>"
            ],
            "image/png": "[encoded data removed]"
          },
          "metadata": {}
        },
        {
          "output_type": "display_data",
          "data": {
            "text/plain": [
              "<Figure size 640x480 with 1 Axes>"
            ],
            "image/png": "[encoded data removed]"
          },
          "metadata": {}
        },
        {
          "output_type": "stream",
          "name": "stdout",
          "text": [
            "Exact Area under f1: 4.33333333333333\n",
            "Estimated Area under f1: 4.3328\n",
            "Exact Area under f2: 6.75000000000000\n",
            "Estimated Area under f2: 6.74594\n"
          ]
        }
      ]
    },
    {
      "cell_type": "code",
      "source": [
        "# Program that combines all above and runs to show values, estimated and expected"
      ],
      "metadata": {
        "id": "ddUrDHgsm7WD"
      },
      "execution_count": null,
      "outputs": []
    },
    {
      "cell_type": "code",
      "source": [],
      "metadata": {
        "id": "kXFoBNi-m7Yk"
      },
      "execution_count": null,
      "outputs": []
    },
    {
      "cell_type": "markdown",
      "source": [
        "# Visualization"
      ],
      "metadata": {
        "id": "GFcUm8hpn6Jb"
      }
    },
    {
      "cell_type": "code",
      "source": [
        "# Function to plot points for Monte Carlo integration\n",
        "def plot_monte_carlo(func, a, b, M, N):\n",
        "    x_points = a + (b - a) * np.random.random(N)\n",
        "    y_points = M * np.random.random(N)\n",
        "    below = y_points < func(x_points)\n",
        "    above = np.invert(below)\n",
        "\n",
        "    # Plotting the function\n",
        "    x = np.linspace(a - 1, b + 1, 400)\n",
        "    y = func(x)\n",
        "    plt.plot(x, y, label=\"f(x)\", color='black')\n",
        "\n",
        "    # Plotting the points\n",
        "    plt.scatter(x_points[below], y_points[below], color='green', label='Points below f(x)')\n",
        "    plt.scatter(x_points[above], y_points[above], color='red', label='Points above f(x)')\n",
        "\n",
        "    # Setting up the plot limits and labels\n",
        "    plt.xlim(a - 1, b + 1)\n",
        "    plt.ylim(0, M)\n",
        "    plt.xlabel(\"x\")\n",
        "    plt.ylabel(\"y\")\n",
        "    plt.title(\"Monte Carlo Integration Visualization\")\n",
        "    plt.legend()\n",
        "\n",
        "    plt.show()\n",
        "\n",
        "# Function to be integrated\n",
        "def f(x):\n",
        "    return x**2 + 2\n",
        "\n",
        "# Parameters for Monte Carlo Integration\n",
        "a, b, M, N = 1, 2, 10, 10000                # can manipulate values to have various outcomes\n",
        "\n",
        "# Plotting the Monte Carlo Integration\n",
        "plot_monte_carlo(f, a, b, M, N)"
      ],
      "metadata": {
        "colab": {
          "base_uri": "https://localhost:8080/",
          "height": 472
        },
        "id": "EM_mzhM0m7az",
        "outputId": "4fd36cc9-e86e-44fa-fca9-d5ea6ebede9b"
      },
      "execution_count": 8,
      "outputs": [
        {
          "output_type": "display_data",
          "data": {
            "text/plain": [
              "<Figure size 640x480 with 1 Axes>"
            ],
            "image/png": "[encoded data removed]"
          },
          "metadata": {}
        }
      ]
    },
    {
      "cell_type": "code",
      "source": [
        "# Above acts as throwing darts randomly and seeing where they land on the plot"
      ],
      "metadata": {
        "id": "e3VWQ87dm7dE"
      },
      "execution_count": null,
      "outputs": []
    },
    {
      "cell_type": "code",
      "source": [
        "# Function for Monte Carlo Integration\n",
        "def monte_carlo_integrate(func, a, b, N, M):\n",
        "    S = 0\n",
        "    for _ in range(N):\n",
        "        x = a + (b - a) * np.random.random()\n",
        "        y = M * np.random.random()\n",
        "        if y < func(x):\n",
        "            S += 1\n",
        "    return M * (b - a) * (S / N)\n",
        "\n",
        "# Function to be integrated\n",
        "def f(x):\n",
        "    return x**2 + 2\n",
        "\n",
        "# Parameters\n",
        "a, b, M = 1, 2, 20\n",
        "iterations = np.logspace(1, 6, 100, dtype=int)  # Using logarithmically spaced iterations for smoother curve\n",
        "estimated_areas = []\n",
        "\n",
        "# Calculate estimated areas for different numbers of iterations\n",
        "for N in iterations:\n",
        "    estimated_area = monte_carlo_integrate(f, a, b, N, M)\n",
        "    estimated_areas.append(estimated_area)\n",
        "\n",
        "# Plotting convergence\n",
        "plt.figure(figsize=(10, 6))\n",
        "plt.plot(iterations, estimated_areas, color='blue')\n",
        "plt.xscale('log')\n",
        "plt.xlabel('Number of Iterations (log scale)')\n",
        "plt.ylabel('Estimated Area')\n",
        "plt.title('Convergence of Monte Carlo Integration')\n",
        "plt.grid(True)\n",
        "plt.show()"
      ],
      "metadata": {
        "colab": {
          "base_uri": "https://localhost:8080/",
          "height": 569
        },
        "id": "ziF6JLMpm7ez",
        "outputId": "0e17618e-cf32-467b-86d6-c1b2085eb2d0"
      },
      "execution_count": null,
      "outputs": [
        {
          "output_type": "display_data",
          "data": {
            "text/plain": [
              "<Figure size 1000x600 with 1 Axes>"
            ],
            "image/png": "[encoded data removed]"
          },
          "metadata": {}
        }
      ]
    },
    {
      "cell_type": "code",
      "source": [],
      "metadata": {
        "id": "y5xIjBQNm7g7"
      },
      "execution_count": null,
      "outputs": []
    },
    {
      "cell_type": "code",
      "source": [],
      "metadata": {
        "id": "SNuEAKAGm7jE"
      },
      "execution_count": null,
      "outputs": []
    }
  ]
}
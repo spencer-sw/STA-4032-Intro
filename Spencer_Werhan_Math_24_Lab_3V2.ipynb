{
  "nbformat": 4,
  "nbformat_minor": 0,
  "metadata": {
    "colab": {
      "provenance": []
    },
    "kernelspec": {
      "name": "python3",
      "display_name": "Python 3"
    },
    "language_info": {
      "name": "python"
    }
  },
  "cells": [
    {
      "cell_type": "code",
      "execution_count": 1,
      "metadata": {
        "id": "mBTZa3LbmlCv"
      },
      "outputs": [],
      "source": [
        "import numpy as np\n",
        "import matplotlib.pyplot as plt"
      ]
    },
    {
      "cell_type": "markdown",
      "source": [
        "# Normal Random Number Generator"
      ],
      "metadata": {
        "id": "CwVhNQGvExWz"
      }
    },
    {
      "cell_type": "code",
      "metadata": {
        "id": "FQQe5WEEbw_0"
      },
      "source": [
        "#CDF PDF\n",
        "# Cumulative vs Probability Density Function"
      ],
      "execution_count": null,
      "outputs": []
    },
    {
      "cell_type": "markdown",
      "source": [
        "\n",
        "The Cumulative Density Function (CDF) and the Probability Density Function (PDF) are two fundamental concepts in statistics and probability theory, each serving a distinct purpose in describing a probability distribution. Here's a breakdown of their differences:\n",
        "\n",
        "Probability Density Function (PDF)\n",
        "\n",
        "Definition: For a continuous random variable, the PDF describes the likelihood (density) of the variable taking on a specific value.\n",
        "\n",
        "Purpose: It helps understand where the distribution puts its mass or concentration of probabilities. The PDF can indicate the regions where the random variable is more likely to lie.\n",
        "\n",
        "Characteristics:\n",
        "The value of the PDF at any point can be used to determine the relative likelihood of the random variable being close to that point.\n",
        "The area under the PDF curve between two points gives the probability that the random variable falls within that interval.\n",
        "The total area under the PDF curve over the entire range of the variable is 1, representing the total probability space.\n",
        "\n",
        "Cumulative Density Function (CDF)\n",
        "\n",
        "Definition: The CDF at a given value gives the probability that the random variable takes a value less than or equal to this given value.\n",
        "\n",
        "Purpose: It provides a cumulative probability from the lower bound of the distribution up to a specific point, showing how the probabilities accumulate.\n",
        "\n",
        "Characteristics:\n",
        "The CDF starts at 0 (assuming the random variable has a lower bound) and monotonically increases to 1, which represents the entire probability space being covered.\n",
        "It gives direct probabilities for ranges of values (e.g., \"What is the probability that the random variable is less than or equal to X?\").\n",
        "The slope of the CDF at a particular point corresponds to the PDF at that point for continuous random variables.\n",
        "\n",
        "Key Differences\n",
        "\n",
        "Nature: The PDF describes the density or likelihood of a specific value, while the CDF provides the cumulative probability up to that value.\n",
        "\n",
        "Output: The PDF can take any non-negative value and is used to find the probability over an interval (since the probability at a single point for a continuous distribution is 0). In contrast, the CDF ranges from 0 to 1, representing probabilities.\n",
        "\n",
        "Graphical Representation: The PDF is represented by a curve where the area under the curve represents probabilities, whereas the CDF is a monotonically increasing function that asymptotically approaches 1.\n",
        "\n",
        "In summary, the PDF and CDF offer complementary views of a distribution. The PDF focuses on the distribution of probabilities across different outcomes, while the CDF shows the probability of the random variable falling within a certain range."
      ],
      "metadata": {
        "id": "xB8DHHo6T6m5"
      }
    },
    {
      "cell_type": "code",
      "source": [
        "x = np.linspace(-10,10,1000)    # Linearly spaced array from -10 to 10 with 1000 increments is set to the variable x\n",
        "y = 2.71**(-x**2)               # variable y set to 2.71 ^ (-x^2)\n",
        "plt.plot(x,y)                   # Plot of x and y arrays"
      ],
      "metadata": {
        "colab": {
          "base_uri": "https://localhost:8080/",
          "height": 447
        },
        "id": "oCyzB_zEqcSE",
        "outputId": "0425e624-bf41-44dd-9e03-904f3b10a60d"
      },
      "execution_count": 11,
      "outputs": [
        {
          "output_type": "execute_result",
          "data": {
            "text/plain": [
              "[<matplotlib.lines.Line2D at 0x7aa2283ef190>]"
            ]
          },
          "metadata": {},
          "execution_count": 11
        },
        {
          "output_type": "display_data",
          "data": {
            "text/plain": [
              "<Figure size 640x480 with 1 Axes>"
            ],
            "image/png": "[encoded data removed]"
          },
          "metadata": {}
        }
      ]
    },
    {
      "cell_type": "markdown",
      "source": [
        "$e^{-x^2}$"
      ],
      "metadata": {
        "id": "UjleGPmUqdX0"
      }
    },
    {
      "cell_type": "markdown",
      "metadata": {
        "id": "yJ59vSNn1LEU"
      },
      "source": [
        "![alt text](https://wikimedia.org/api/rest_v1/media/math/render/svg/4abaca87a10ecfa77b5a205056523706fe6c9c3f)"
      ]
    },
    {
      "cell_type": "code",
      "metadata": {
        "id": "iyMyj1cd1LEV"
      },
      "source": [
        "def normal_pdf(x,mu,sigma):\n",
        "\n",
        "  return (1/(np.sqrt(2*np.pi*sigma**2)))*np.exp((-(x-mu)**2)/(2*sigma**2))"
      ],
      "execution_count": 12,
      "outputs": []
    },
    {
      "cell_type": "markdown",
      "source": [
        "The function you've provided calculates the probability density function (PDF) for a normal (Gaussian) distribution for a given value x, mean μ (mu), and standard deviation σ (sigma). Here's a breakdown of the formula and its components:\n",
        "\n",
        "x: The point at which you want to evaluate the PDF.\n",
        "mu (μ): The mean of the distribution, which locates the center of the distribution.\n",
        "sigma (σ): The standard deviation of the distribution, which determines the width of the distribution. A larger σ results in a wider, flatter curve, while a smaller σ results in a narrower, peaked curve.\n",
        "np.sqrt(2*np.pi*sigma**2): This part normalizes the PDF, ensuring that the total area under the curve equals 1. It uses the square root of 2π times the variance (σ^2) as the denominator.\n",
        "np.exp((-(x-mu)**2)/(2*sigma**2)): This is the exponential function that shapes the distribution, making it bell-shaped. The expression (-(x-mu)**2)/(2*sigma**2) calculates the squared distance of x from the mean μ, scaled by the variance, and then exponentiates the result to achieve the Gaussian curve.\n",
        "This function, when plotted for a range of x values, produces the classic bell-shaped Gaussian distribution curve. If you need further assistance with this function, such as how to use it in Python or plotting a Gaussian distribution, feel free to ask!\n",
        "\n",
        "\n",
        "\n",
        "\n",
        "\n"
      ],
      "metadata": {
        "id": "76aA3sTdRjOm"
      }
    },
    {
      "cell_type": "code",
      "metadata": {
        "id": "CzBfKnfL1LEX"
      },
      "source": [
        "x = np.linspace(-6,6,1000)\n",
        "\n",
        "# Generate 1000 evenly spaced points between -6 and 6"
      ],
      "execution_count": 13,
      "outputs": []
    },
    {
      "cell_type": "code",
      "source": [
        "x[0:]\n",
        "\n",
        "# The part before the colon : specifies the start of the slice (inclusive),\n",
        "# which is the first element of x. The part after the colon is left empty,\n",
        "# indicating that the slice should go all the way to the end of the array.\n",
        "# If x is an array, this expression returns all elements of x."
      ],
      "metadata": {
        "colab": {
          "base_uri": "https://localhost:8080/"
        },
        "id": "ba814kmIl_ww",
        "outputId": "69421cab-a161-4d2f-e93b-539693dd96ac"
      },
      "execution_count": 14,
      "outputs": [
        {
          "output_type": "execute_result",
          "data": {
            "text/plain": [
              "array([-6.        , -5.98798799, -5.97597598, -5.96396396, -5.95195195,\n",
              "       -5.93993994, -5.92792793, -5.91591592, -5.9039039 , -5.89189189,\n",
              "       -5.87987988, -5.86786787, -5.85585586, -5.84384384, -5.83183183,\n",
              "       -5.81981982, -5.80780781, -5.7957958 , -5.78378378, -5.77177177,\n",
              "       -5.75975976, -5.74774775, -5.73573574, -5.72372372, -5.71171171,\n",
              "       -5.6996997 , -5.68768769, -5.67567568, -5.66366366, -5.65165165,\n",
              "       -5.63963964, -5.62762763, -5.61561562, -5.6036036 , -5.59159159,\n",
              "       -5.57957958, -5.56756757, -5.55555556, -5.54354354, -5.53153153,\n",
              "       -5.51951952, -5.50750751, -5.4954955 , -5.48348348, -5.47147147,\n",
              "       -5.45945946, -5.44744745, -5.43543544, -5.42342342, -5.41141141,\n",
              "       -5.3993994 , -5.38738739, -5.37537538, -5.36336336, -5.35135135,\n",
              "       -5.33933934, -5.32732733, -5.31531532, -5.3033033 , -5.29129129,\n",
              "       -5.27927928, -5.26726727, -5.25525526, -5.24324324, -5.23123123,\n",
              "       -5.21921922, -5.20720721, -5.1951952 , -5.18318318, -5.17117117,\n",
              "       -5.15915916, -5.14714715, -5.13513514, -5.12312312, -5.11111111,\n",
              "       -5.0990991 , -5.08708709, -5.07507508, -5.06306306, -5.05105105,\n",
              "       -5.03903904, -5.02702703, -5.01501502, -5.003003  , -4.99099099,\n",
              "       -4.97897898, -4.96696697, -4.95495495, -4.94294294, -4.93093093,\n",
              "       -4.91891892, -4.90690691, -4.89489489, -4.88288288, -4.87087087,\n",
              "       -4.85885886, -4.84684685, -4.83483483, -4.82282282, -4.81081081,\n",
              "       -4.7987988 , -4.78678679, -4.77477477, -4.76276276, -4.75075075,\n",
              "       -4.73873874, -4.72672673, -4.71471471, -4.7027027 , -4.69069069,\n",
              "       -4.67867868, -4.66666667, -4.65465465, -4.64264264, -4.63063063,\n",
              "       -4.61861862, -4.60660661, -4.59459459, -4.58258258, -4.57057057,\n",
              "       -4.55855856, -4.54654655, -4.53453453, -4.52252252, -4.51051051,\n",
              "       -4.4984985 , -4.48648649, -4.47447447, -4.46246246, -4.45045045,\n",
              "       -4.43843844, -4.42642643, -4.41441441, -4.4024024 , -4.39039039,\n",
              "       -4.37837838, -4.36636637, -4.35435435, -4.34234234, -4.33033033,\n",
              "       -4.31831832, -4.30630631, -4.29429429, -4.28228228, -4.27027027,\n",
              "       -4.25825826, -4.24624625, -4.23423423, -4.22222222, -4.21021021,\n",
              "       -4.1981982 , -4.18618619, -4.17417417, -4.16216216, -4.15015015,\n",
              "       -4.13813814, -4.12612613, -4.11411411, -4.1021021 , -4.09009009,\n",
              "       -4.07807808, -4.06606607, -4.05405405, -4.04204204, -4.03003003,\n",
              "       -4.01801802, -4.00600601, -3.99399399, -3.98198198, -3.96996997,\n",
              "       -3.95795796, -3.94594595, -3.93393393, -3.92192192, -3.90990991,\n",
              "       -3.8978979 , -3.88588589, -3.87387387, -3.86186186, -3.84984985,\n",
              "       -3.83783784, -3.82582583, -3.81381381, -3.8018018 , -3.78978979,\n",
              "       -3.77777778, -3.76576577, -3.75375375, -3.74174174, -3.72972973,\n",
              "       -3.71771772, -3.70570571, -3.69369369, -3.68168168, -3.66966967,\n",
              "       -3.65765766, -3.64564565, -3.63363363, -3.62162162, -3.60960961,\n",
              "       -3.5975976 , -3.58558559, -3.57357357, -3.56156156, -3.54954955,\n",
              "       -3.53753754, -3.52552553, -3.51351351, -3.5015015 , -3.48948949,\n",
              "       -3.47747748, -3.46546547, -3.45345345, -3.44144144, -3.42942943,\n",
              "       -3.41741742, -3.40540541, -3.39339339, -3.38138138, -3.36936937,\n",
              "       -3.35735736, -3.34534535, -3.33333333, -3.32132132, -3.30930931,\n",
              "       -3.2972973 , -3.28528529, -3.27327327, -3.26126126, -3.24924925,\n",
              "       -3.23723724, -3.22522523, -3.21321321, -3.2012012 , -3.18918919,\n",
              "       -3.17717718, -3.16516517, -3.15315315, -3.14114114, -3.12912913,\n",
              "       -3.11711712, -3.10510511, -3.09309309, -3.08108108, -3.06906907,\n",
              "       -3.05705706, -3.04504505, -3.03303303, -3.02102102, -3.00900901,\n",
              "       -2.996997  , -2.98498498, -2.97297297, -2.96096096, -2.94894895,\n",
              "       -2.93693694, -2.92492492, -2.91291291, -2.9009009 , -2.88888889,\n",
              "       -2.87687688, -2.86486486, -2.85285285, -2.84084084, -2.82882883,\n",
              "       -2.81681682, -2.8048048 , -2.79279279, -2.78078078, -2.76876877,\n",
              "       -2.75675676, -2.74474474, -2.73273273, -2.72072072, -2.70870871,\n",
              "       -2.6966967 , -2.68468468, -2.67267267, -2.66066066, -2.64864865,\n",
              "       -2.63663664, -2.62462462, -2.61261261, -2.6006006 , -2.58858859,\n",
              "       -2.57657658, -2.56456456, -2.55255255, -2.54054054, -2.52852853,\n",
              "       -2.51651652, -2.5045045 , -2.49249249, -2.48048048, -2.46846847,\n",
              "       -2.45645646, -2.44444444, -2.43243243, -2.42042042, -2.40840841,\n",
              "       -2.3963964 , -2.38438438, -2.37237237, -2.36036036, -2.34834835,\n",
              "       -2.33633634, -2.32432432, -2.31231231, -2.3003003 , -2.28828829,\n",
              "       -2.27627628, -2.26426426, -2.25225225, -2.24024024, -2.22822823,\n",
              "       -2.21621622, -2.2042042 , -2.19219219, -2.18018018, -2.16816817,\n",
              "       -2.15615616, -2.14414414, -2.13213213, -2.12012012, -2.10810811,\n",
              "       -2.0960961 , -2.08408408, -2.07207207, -2.06006006, -2.04804805,\n",
              "       -2.03603604, -2.02402402, -2.01201201, -2.        , -1.98798799,\n",
              "       -1.97597598, -1.96396396, -1.95195195, -1.93993994, -1.92792793,\n",
              "       -1.91591592, -1.9039039 , -1.89189189, -1.87987988, -1.86786787,\n",
              "       -1.85585586, -1.84384384, -1.83183183, -1.81981982, -1.80780781,\n",
              "       -1.7957958 , -1.78378378, -1.77177177, -1.75975976, -1.74774775,\n",
              "       -1.73573574, -1.72372372, -1.71171171, -1.6996997 , -1.68768769,\n",
              "       -1.67567568, -1.66366366, -1.65165165, -1.63963964, -1.62762763,\n",
              "       -1.61561562, -1.6036036 , -1.59159159, -1.57957958, -1.56756757,\n",
              "       -1.55555556, -1.54354354, -1.53153153, -1.51951952, -1.50750751,\n",
              "       -1.4954955 , -1.48348348, -1.47147147, -1.45945946, -1.44744745,\n",
              "       -1.43543544, -1.42342342, -1.41141141, -1.3993994 , -1.38738739,\n",
              "       -1.37537538, -1.36336336, -1.35135135, -1.33933934, -1.32732733,\n",
              "       -1.31531532, -1.3033033 , -1.29129129, -1.27927928, -1.26726727,\n",
              "       -1.25525526, -1.24324324, -1.23123123, -1.21921922, -1.20720721,\n",
              "       -1.1951952 , -1.18318318, -1.17117117, -1.15915916, -1.14714715,\n",
              "       -1.13513514, -1.12312312, -1.11111111, -1.0990991 , -1.08708709,\n",
              "       -1.07507508, -1.06306306, -1.05105105, -1.03903904, -1.02702703,\n",
              "       -1.01501502, -1.003003  , -0.99099099, -0.97897898, -0.96696697,\n",
              "       -0.95495495, -0.94294294, -0.93093093, -0.91891892, -0.90690691,\n",
              "       -0.89489489, -0.88288288, -0.87087087, -0.85885886, -0.84684685,\n",
              "       -0.83483483, -0.82282282, -0.81081081, -0.7987988 , -0.78678679,\n",
              "       -0.77477477, -0.76276276, -0.75075075, -0.73873874, -0.72672673,\n",
              "       -0.71471471, -0.7027027 , -0.69069069, -0.67867868, -0.66666667,\n",
              "       -0.65465465, -0.64264264, -0.63063063, -0.61861862, -0.60660661,\n",
              "       -0.59459459, -0.58258258, -0.57057057, -0.55855856, -0.54654655,\n",
              "       -0.53453453, -0.52252252, -0.51051051, -0.4984985 , -0.48648649,\n",
              "       -0.47447447, -0.46246246, -0.45045045, -0.43843844, -0.42642643,\n",
              "       -0.41441441, -0.4024024 , -0.39039039, -0.37837838, -0.36636637,\n",
              "       -0.35435435, -0.34234234, -0.33033033, -0.31831832, -0.30630631,\n",
              "       -0.29429429, -0.28228228, -0.27027027, -0.25825826, -0.24624625,\n",
              "       -0.23423423, -0.22222222, -0.21021021, -0.1981982 , -0.18618619,\n",
              "       -0.17417417, -0.16216216, -0.15015015, -0.13813814, -0.12612613,\n",
              "       -0.11411411, -0.1021021 , -0.09009009, -0.07807808, -0.06606607,\n",
              "       -0.05405405, -0.04204204, -0.03003003, -0.01801802, -0.00600601,\n",
              "        0.00600601,  0.01801802,  0.03003003,  0.04204204,  0.05405405,\n",
              "        0.06606607,  0.07807808,  0.09009009,  0.1021021 ,  0.11411411,\n",
              "        0.12612613,  0.13813814,  0.15015015,  0.16216216,  0.17417417,\n",
              "        0.18618619,  0.1981982 ,  0.21021021,  0.22222222,  0.23423423,\n",
              "        0.24624625,  0.25825826,  0.27027027,  0.28228228,  0.29429429,\n",
              "        0.30630631,  0.31831832,  0.33033033,  0.34234234,  0.35435435,\n",
              "        0.36636637,  0.37837838,  0.39039039,  0.4024024 ,  0.41441441,\n",
              "        0.42642643,  0.43843844,  0.45045045,  0.46246246,  0.47447447,\n",
              "        0.48648649,  0.4984985 ,  0.51051051,  0.52252252,  0.53453453,\n",
              "        0.54654655,  0.55855856,  0.57057057,  0.58258258,  0.59459459,\n",
              "        0.60660661,  0.61861862,  0.63063063,  0.64264264,  0.65465465,\n",
              "        0.66666667,  0.67867868,  0.69069069,  0.7027027 ,  0.71471471,\n",
              "        0.72672673,  0.73873874,  0.75075075,  0.76276276,  0.77477477,\n",
              "        0.78678679,  0.7987988 ,  0.81081081,  0.82282282,  0.83483483,\n",
              "        0.84684685,  0.85885886,  0.87087087,  0.88288288,  0.89489489,\n",
              "        0.90690691,  0.91891892,  0.93093093,  0.94294294,  0.95495495,\n",
              "        0.96696697,  0.97897898,  0.99099099,  1.003003  ,  1.01501502,\n",
              "        1.02702703,  1.03903904,  1.05105105,  1.06306306,  1.07507508,\n",
              "        1.08708709,  1.0990991 ,  1.11111111,  1.12312312,  1.13513514,\n",
              "        1.14714715,  1.15915916,  1.17117117,  1.18318318,  1.1951952 ,\n",
              "        1.20720721,  1.21921922,  1.23123123,  1.24324324,  1.25525526,\n",
              "        1.26726727,  1.27927928,  1.29129129,  1.3033033 ,  1.31531532,\n",
              "        1.32732733,  1.33933934,  1.35135135,  1.36336336,  1.37537538,\n",
              "        1.38738739,  1.3993994 ,  1.41141141,  1.42342342,  1.43543544,\n",
              "        1.44744745,  1.45945946,  1.47147147,  1.48348348,  1.4954955 ,\n",
              "        1.50750751,  1.51951952,  1.53153153,  1.54354354,  1.55555556,\n",
              "        1.56756757,  1.57957958,  1.59159159,  1.6036036 ,  1.61561562,\n",
              "        1.62762763,  1.63963964,  1.65165165,  1.66366366,  1.67567568,\n",
              "        1.68768769,  1.6996997 ,  1.71171171,  1.72372372,  1.73573574,\n",
              "        1.74774775,  1.75975976,  1.77177177,  1.78378378,  1.7957958 ,\n",
              "        1.80780781,  1.81981982,  1.83183183,  1.84384384,  1.85585586,\n",
              "        1.86786787,  1.87987988,  1.89189189,  1.9039039 ,  1.91591592,\n",
              "        1.92792793,  1.93993994,  1.95195195,  1.96396396,  1.97597598,\n",
              "        1.98798799,  2.        ,  2.01201201,  2.02402402,  2.03603604,\n",
              "        2.04804805,  2.06006006,  2.07207207,  2.08408408,  2.0960961 ,\n",
              "        2.10810811,  2.12012012,  2.13213213,  2.14414414,  2.15615616,\n",
              "        2.16816817,  2.18018018,  2.19219219,  2.2042042 ,  2.21621622,\n",
              "        2.22822823,  2.24024024,  2.25225225,  2.26426426,  2.27627628,\n",
              "        2.28828829,  2.3003003 ,  2.31231231,  2.32432432,  2.33633634,\n",
              "        2.34834835,  2.36036036,  2.37237237,  2.38438438,  2.3963964 ,\n",
              "        2.40840841,  2.42042042,  2.43243243,  2.44444444,  2.45645646,\n",
              "        2.46846847,  2.48048048,  2.49249249,  2.5045045 ,  2.51651652,\n",
              "        2.52852853,  2.54054054,  2.55255255,  2.56456456,  2.57657658,\n",
              "        2.58858859,  2.6006006 ,  2.61261261,  2.62462462,  2.63663664,\n",
              "        2.64864865,  2.66066066,  2.67267267,  2.68468468,  2.6966967 ,\n",
              "        2.70870871,  2.72072072,  2.73273273,  2.74474474,  2.75675676,\n",
              "        2.76876877,  2.78078078,  2.79279279,  2.8048048 ,  2.81681682,\n",
              "        2.82882883,  2.84084084,  2.85285285,  2.86486486,  2.87687688,\n",
              "        2.88888889,  2.9009009 ,  2.91291291,  2.92492492,  2.93693694,\n",
              "        2.94894895,  2.96096096,  2.97297297,  2.98498498,  2.996997  ,\n",
              "        3.00900901,  3.02102102,  3.03303303,  3.04504505,  3.05705706,\n",
              "        3.06906907,  3.08108108,  3.09309309,  3.10510511,  3.11711712,\n",
              "        3.12912913,  3.14114114,  3.15315315,  3.16516517,  3.17717718,\n",
              "        3.18918919,  3.2012012 ,  3.21321321,  3.22522523,  3.23723724,\n",
              "        3.24924925,  3.26126126,  3.27327327,  3.28528529,  3.2972973 ,\n",
              "        3.30930931,  3.32132132,  3.33333333,  3.34534535,  3.35735736,\n",
              "        3.36936937,  3.38138138,  3.39339339,  3.40540541,  3.41741742,\n",
              "        3.42942943,  3.44144144,  3.45345345,  3.46546547,  3.47747748,\n",
              "        3.48948949,  3.5015015 ,  3.51351351,  3.52552553,  3.53753754,\n",
              "        3.54954955,  3.56156156,  3.57357357,  3.58558559,  3.5975976 ,\n",
              "        3.60960961,  3.62162162,  3.63363363,  3.64564565,  3.65765766,\n",
              "        3.66966967,  3.68168168,  3.69369369,  3.70570571,  3.71771772,\n",
              "        3.72972973,  3.74174174,  3.75375375,  3.76576577,  3.77777778,\n",
              "        3.78978979,  3.8018018 ,  3.81381381,  3.82582583,  3.83783784,\n",
              "        3.84984985,  3.86186186,  3.87387387,  3.88588589,  3.8978979 ,\n",
              "        3.90990991,  3.92192192,  3.93393393,  3.94594595,  3.95795796,\n",
              "        3.96996997,  3.98198198,  3.99399399,  4.00600601,  4.01801802,\n",
              "        4.03003003,  4.04204204,  4.05405405,  4.06606607,  4.07807808,\n",
              "        4.09009009,  4.1021021 ,  4.11411411,  4.12612613,  4.13813814,\n",
              "        4.15015015,  4.16216216,  4.17417417,  4.18618619,  4.1981982 ,\n",
              "        4.21021021,  4.22222222,  4.23423423,  4.24624625,  4.25825826,\n",
              "        4.27027027,  4.28228228,  4.29429429,  4.30630631,  4.31831832,\n",
              "        4.33033033,  4.34234234,  4.35435435,  4.36636637,  4.37837838,\n",
              "        4.39039039,  4.4024024 ,  4.41441441,  4.42642643,  4.43843844,\n",
              "        4.45045045,  4.46246246,  4.47447447,  4.48648649,  4.4984985 ,\n",
              "        4.51051051,  4.52252252,  4.53453453,  4.54654655,  4.55855856,\n",
              "        4.57057057,  4.58258258,  4.59459459,  4.60660661,  4.61861862,\n",
              "        4.63063063,  4.64264264,  4.65465465,  4.66666667,  4.67867868,\n",
              "        4.69069069,  4.7027027 ,  4.71471471,  4.72672673,  4.73873874,\n",
              "        4.75075075,  4.76276276,  4.77477477,  4.78678679,  4.7987988 ,\n",
              "        4.81081081,  4.82282282,  4.83483483,  4.84684685,  4.85885886,\n",
              "        4.87087087,  4.88288288,  4.89489489,  4.90690691,  4.91891892,\n",
              "        4.93093093,  4.94294294,  4.95495495,  4.96696697,  4.97897898,\n",
              "        4.99099099,  5.003003  ,  5.01501502,  5.02702703,  5.03903904,\n",
              "        5.05105105,  5.06306306,  5.07507508,  5.08708709,  5.0990991 ,\n",
              "        5.11111111,  5.12312312,  5.13513514,  5.14714715,  5.15915916,\n",
              "        5.17117117,  5.18318318,  5.1951952 ,  5.20720721,  5.21921922,\n",
              "        5.23123123,  5.24324324,  5.25525526,  5.26726727,  5.27927928,\n",
              "        5.29129129,  5.3033033 ,  5.31531532,  5.32732733,  5.33933934,\n",
              "        5.35135135,  5.36336336,  5.37537538,  5.38738739,  5.3993994 ,\n",
              "        5.41141141,  5.42342342,  5.43543544,  5.44744745,  5.45945946,\n",
              "        5.47147147,  5.48348348,  5.4954955 ,  5.50750751,  5.51951952,\n",
              "        5.53153153,  5.54354354,  5.55555556,  5.56756757,  5.57957958,\n",
              "        5.59159159,  5.6036036 ,  5.61561562,  5.62762763,  5.63963964,\n",
              "        5.65165165,  5.66366366,  5.67567568,  5.68768769,  5.6996997 ,\n",
              "        5.71171171,  5.72372372,  5.73573574,  5.74774775,  5.75975976,\n",
              "        5.77177177,  5.78378378,  5.7957958 ,  5.80780781,  5.81981982,\n",
              "        5.83183183,  5.84384384,  5.85585586,  5.86786787,  5.87987988,\n",
              "        5.89189189,  5.9039039 ,  5.91591592,  5.92792793,  5.93993994,\n",
              "        5.95195195,  5.96396396,  5.97597598,  5.98798799,  6.        ])"
            ]
          },
          "metadata": {},
          "execution_count": 14
        }
      ]
    },
    {
      "cell_type": "code",
      "source": [
        "x[0:4]\n",
        "\n",
        "# Indexing\n",
        "# Calls the first 4 values of the array x to be displayed\n",
        "# 0 through 3 are shown (Python starts counting at 0) and last value is left off (exclusive)"
      ],
      "metadata": {
        "colab": {
          "base_uri": "https://localhost:8080/"
        },
        "id": "4OSotq1xmDxV",
        "outputId": "89215e82-1788-4864-f58a-6935d7571bcd"
      },
      "execution_count": 15,
      "outputs": [
        {
          "output_type": "execute_result",
          "data": {
            "text/plain": [
              "array([-6.        , -5.98798799, -5.97597598, -5.96396396])"
            ]
          },
          "metadata": {},
          "execution_count": 15
        }
      ]
    },
    {
      "cell_type": "code",
      "source": [
        "n=5\n",
        "x[0:n]\n",
        "np.sum(x[0:n])\n",
        "\n",
        "# Sums the x array, first 5 values in it"
      ],
      "metadata": {
        "colab": {
          "base_uri": "https://localhost:8080/"
        },
        "id": "Tx7OnEA1mTFF",
        "outputId": "e7e1715f-2152-491f-aa9b-f38bb44fee14"
      },
      "execution_count": 16,
      "outputs": [
        {
          "output_type": "execute_result",
          "data": {
            "text/plain": [
              "-29.879879879879876"
            ]
          },
          "metadata": {},
          "execution_count": 16
        }
      ]
    },
    {
      "cell_type": "code",
      "metadata": {
        "id": "s407zu5G1LEY"
      },
      "source": [
        "mu = 0\n",
        "\n",
        "# mu (μ): The mean of the distribution, which locates the center of the distribution."
      ],
      "execution_count": 17,
      "outputs": []
    },
    {
      "cell_type": "code",
      "metadata": {
        "id": "VJunvHrJ1LEb"
      },
      "source": [
        "sigma = 1\n",
        "\n",
        "# sigma (σ): The standard deviation of the distribution, which determines the width of the distribution.\n",
        "# A larger σ results in a wider, flatter curve, while a smaller σ results in a narrower, peaked curve."
      ],
      "execution_count": 18,
      "outputs": []
    },
    {
      "cell_type": "code",
      "metadata": {
        "id": "xGi4RlmT1LEe"
      },
      "source": [
        "pdf = normal_pdf(x,mu,sigma)\n",
        "\n",
        "# pdf set to normal_pdf that was defined earlier"
      ],
      "execution_count": 19,
      "outputs": []
    },
    {
      "cell_type": "code",
      "metadata": {
        "outputId": "2b3a5e52-9e5f-4d0f-daf8-8586222574ca",
        "id": "N674Q86J1LEh",
        "colab": {
          "base_uri": "https://localhost:8080/",
          "height": 447
        }
      },
      "source": [
        "plt.plot(x,pdf,'.')\n",
        "\n",
        "# plt.plot(x,y,'.') intended to be dotted but many dots so appears as line"
      ],
      "execution_count": 20,
      "outputs": [
        {
          "output_type": "execute_result",
          "data": {
            "text/plain": [
              "[<matplotlib.lines.Line2D at 0x7aa228121c00>]"
            ]
          },
          "metadata": {},
          "execution_count": 20
        },
        {
          "output_type": "display_data",
          "data": {
            "text/plain": [
              "<Figure size 640x480 with 1 Axes>"
            ],
            "image/png": "[encoded data removed]"
          },
          "metadata": {}
        }
      ]
    },
    {
      "cell_type": "code",
      "metadata": {
        "id": "yDZg1FK41wtf"
      },
      "source": [
        "def cumulative_sum(x):\n",
        "\n",
        "  y = np.zeros(x.shape)\n",
        "\n",
        "  for n in range(x.shape[0]):\n",
        "\n",
        "    y[n] = np.sum(x[0:n])\n",
        "\n",
        "  y = y / np.max(y)\n",
        "\n",
        "  return y"
      ],
      "execution_count": 68,
      "outputs": []
    },
    {
      "cell_type": "code",
      "source": [
        "z = np.array([1, 2, 3, 4, 5])"
      ],
      "metadata": {
        "id": "BzAy-hjjnBi9"
      },
      "execution_count": 69,
      "outputs": []
    },
    {
      "cell_type": "code",
      "source": [
        "z"
      ],
      "metadata": {
        "colab": {
          "base_uri": "https://localhost:8080/"
        },
        "id": "CUUKDgGenKlx",
        "outputId": "dab7aa62-e142-4a4c-d811-623521c772ef"
      },
      "execution_count": 70,
      "outputs": [
        {
          "output_type": "execute_result",
          "data": {
            "text/plain": [
              "array([1, 2, 3, 4, 5])"
            ]
          },
          "metadata": {},
          "execution_count": 70
        }
      ]
    },
    {
      "cell_type": "code",
      "source": [
        "cumulative_sum(z)\n",
        "\n",
        "# Turn off (comment #)  y = y / np.max(y) line (#) 3 lines up and will turn out right"
      ],
      "metadata": {
        "colab": {
          "base_uri": "https://localhost:8080/"
        },
        "id": "DTRBgGPwnY2-",
        "outputId": "f7d49de7-86c8-405f-f585-d97b2ab4af1c"
      },
      "execution_count": 71,
      "outputs": [
        {
          "output_type": "execute_result",
          "data": {
            "text/plain": [
              "array([0. , 0.1, 0.3, 0.6, 1. ])"
            ]
          },
          "metadata": {},
          "execution_count": 71
        }
      ]
    },
    {
      "cell_type": "code",
      "source": [],
      "metadata": {
        "id": "dgMmpkkEYiAa"
      },
      "execution_count": null,
      "outputs": []
    },
    {
      "cell_type": "code",
      "source": [],
      "metadata": {
        "id": "RYOfY-KKYiCm"
      },
      "execution_count": null,
      "outputs": []
    },
    {
      "cell_type": "markdown",
      "source": [
        "BEGIN CHATGPT CORRECTED CODE TO INCLUDE N-1 IN CALCULATION"
      ],
      "metadata": {
        "id": "bBgvLn5vYkVr"
      }
    },
    {
      "cell_type": "code",
      "source": [
        "def cumulative_sum(x):\n",
        "    y = np.zeros(x.shape)\n",
        "    for n in range(1, x.shape[0] + 1):\n",
        "        y[n-1] = np.sum(x[0:n])\n",
        "    return y\n"
      ],
      "metadata": {
        "id": "avflVMKDYi-L"
      },
      "execution_count": 21,
      "outputs": []
    },
    {
      "cell_type": "code",
      "source": [
        "z = np.array([1, 2, 3, 4, 5])"
      ],
      "metadata": {
        "id": "whIcYVFjYi-L"
      },
      "execution_count": 22,
      "outputs": []
    },
    {
      "cell_type": "code",
      "source": [
        "z"
      ],
      "metadata": {
        "colab": {
          "base_uri": "https://localhost:8080/"
        },
        "outputId": "5b344a3c-6e0d-4b31-caa0-4e7e0e17fcac",
        "id": "s7rNQcM6Yi-L"
      },
      "execution_count": 23,
      "outputs": [
        {
          "output_type": "execute_result",
          "data": {
            "text/plain": [
              "array([1, 2, 3, 4, 5])"
            ]
          },
          "metadata": {},
          "execution_count": 23
        }
      ]
    },
    {
      "cell_type": "code",
      "source": [
        "cumulative_sum(z)"
      ],
      "metadata": {
        "colab": {
          "base_uri": "https://localhost:8080/"
        },
        "outputId": "04087e62-3ab4-4673-fe75-b5d510afdd39",
        "id": "om3KjkwuYi-M"
      },
      "execution_count": 24,
      "outputs": [
        {
          "output_type": "execute_result",
          "data": {
            "text/plain": [
              "array([ 1.,  3.,  6., 10., 15.])"
            ]
          },
          "metadata": {},
          "execution_count": 24
        }
      ]
    },
    {
      "cell_type": "markdown",
      "source": [
        "END CHATGPT CORRECTED CODE"
      ],
      "metadata": {
        "id": "4GwyuCv8YxLC"
      }
    },
    {
      "cell_type": "markdown",
      "source": [
        "Your cumulative_sum function aims to compute a cumulative sum over an array x and then normalize the resulting cumulative sum by dividing it by its maximum value. However, there's a slight adjustment needed to correctly compute the cumulative sum as intended for it to represent a cumulative distribution function (CDF) analogously.\n",
        "\n",
        "Original Function Issue\n",
        "\n",
        "The line y[n] = np.sum(x[0:n]) in your loop computes the sum up to the n-1th element, not including the nth element due to the way Python slicing works (0:n means up to but not including n). This results in the first element of y being 0, because np.sum(x[0:0]) is 0.\n",
        "\n",
        "The normalization line y = y / np.max(y) scales the cumulative sum to the range [0,1], which might not be appropriate for all uses of a cumulative sum, especially if you're looking to use this as a CDF for a probability distribution where the final value should naturally equal 1 without arbitrary scaling.\n",
        "\n",
        "Corrected Function for CDF\n",
        "\n",
        "For the purpose of computing a cumulative distribution function from a probability density function (PDF), the cumulative sum should indeed include the value at n, and you may not need to normalize the final array if your PDF is properly constructed because the sum of the PDF should already integrate to 1 over its domain. Here's how you can adjust the function:\n",
        "\n",
        "python\n",
        "Copy code\n",
        "\n",
        "\n",
        "```\n",
        "def cumulative_sum(x):\n",
        "    y = np.zeros(x.shape)\n",
        "    for n in range(1, x.shape[0] + 1):\n",
        "        y[n-1] = np.sum(x[0:n])\n",
        "    return y\n",
        "# This is formatted as code\n",
        "```\n",
        "\n",
        "\n",
        "This version ensures that each y[n] includes the sum of x up to and including x[n], which aligns with how cumulative sums are typically calculated. For a PDF, this will give you a non-normalized CDF.\n",
        "\n",
        "Let's apply the corrected function without normalization to the pdf you've calculated and plot the CDF:\n",
        "\n",
        "python\n",
        "Copy code\n",
        "\n",
        "\n",
        "\n",
        "```\n",
        "# Assuming pdf is already calculated and x is defined\n",
        "cdf = cumulative_sum(pdf)  # Calculate CDF from the PDF\n",
        "\n",
        "import matplotlib.pyplot as plt\n",
        "\n",
        "plt.plot(x, cdf, '.')  # Plot the CDF\n",
        "plt.xlabel('x')\n",
        "plt.ylabel('CDF')\n",
        "plt.title('Cumulative Distribution Function')\n",
        "plt.show()\n",
        "# This is formatted as code\n",
        "```\n",
        "\n",
        "\n",
        "If pdf is properly normalized (i.e., the integral over its domain equals 1), the final value of cdf will be 1, representing the total probability. If you find that cdf does not end at 1, it indicates the pdf might not be correctly normalized, or there could be numerical integration errors due to discrete summation."
      ],
      "metadata": {
        "id": "dSsN1oksY1iJ"
      }
    },
    {
      "cell_type": "code",
      "source": [],
      "metadata": {
        "id": "coidVkARYiH7"
      },
      "execution_count": null,
      "outputs": []
    },
    {
      "cell_type": "markdown",
      "source": [
        "The statement y = np.zeros(x.shape) is used in Python, particularly with the NumPy library, to initialize a new array y of the same shape as another array x, but filled with zeros. This is a common practice in numerical computations for preallocating space for an array that will later be filled with actual values through some operations or calculations.\n",
        "\n",
        "Here's a breakdown of how it works:\n",
        "\n",
        "*   np.zeros(): This function creates a new array filled with zeros.\n",
        "*   x.shape: This attribute of an array x returns the dimensions of x. For example, if x is a one-dimensional array of length n, x.shape would return (n,). If x is a two-dimensional array with m rows and n columns, x.shape would return (m, n).\n",
        "*   y = np.zeros(x.shape): This creates a new array y that has the same dimensions as x but is initially filled with zeros. If x is one-dimensional with length n, then y will also be one-dimensional with length n, all of whose elements are 0. For multi-dimensional arrays, y will have the same number of dimensions and size in each dimension as x, but again, all elements will be 0.\n",
        "\n",
        "\n",
        "This approach is useful for algorithms where you need to compute values iteratively and store them in an array, as it ensures that the storage array y is ready with a defined size matching x, avoiding the need for dynamic resizing during the computation process."
      ],
      "metadata": {
        "id": "Fy8_BCDtaOcm"
      }
    },
    {
      "cell_type": "code",
      "source": [],
      "metadata": {
        "id": "GoEyNCmfYiKQ"
      },
      "execution_count": null,
      "outputs": []
    },
    {
      "cell_type": "markdown",
      "source": [
        "The code snippet you've shared iterates through an array x to compute a cumulative sum and stores the result in another array y. Here's a detailed explanation of how it works:\n",
        "\n",
        "Initialization: Before this loop, you should have an array y initialized with zeros and the same shape as x, typically done with y = np.zeros(x.shape).\n",
        "\n",
        "Looping through x:\n",
        "\n",
        "for n in range(1, x.shape[0] + 1): starts a loop from 1 to x.shape[0], which is the length of the x array. The +1 is necessary because range in Python is exclusive of the end, and you want to include the last element of x in the computation.\n",
        "\n",
        "Inside the loop, y[n-1] = np.sum(x[0:n]) computes the cumulative sum up to the nth element of x (inclusive) and assigns it to the (n-1)th position of y. This is because array indexing in Python starts at 0, so to store the sum of elements up to n, you use the index n-1.\n",
        "\n",
        "On the first iteration (n=1), it sums the first element of x (i.e., x[0:1]) and stores it in the first position of y (y[0]).\n",
        "\n",
        "On the second iteration (n=2), it sums the first two elements of x (x[0:2]) and stores this cumulative sum in the second position of y (y[1]), and so on.\n",
        "\n",
        "Return y: After completing the loop, y contains the cumulative sum of x, where each element y[i] represents the sum of elements x[0] through x[i].\n",
        "\n",
        "This approach effectively calculates the cumulative sum without directly using NumPy's built-in function np.cumsum(). It's a manual implementation that demonstrates the concept of cumulative summing in a more algorithmic manner. The final array y will have each element representing the sum of all preceding elements of x, including the current element, which is a key characteristic of a cumulative sum operation."
      ],
      "metadata": {
        "id": "uggFgZ2Xa8Mj"
      }
    },
    {
      "cell_type": "code",
      "source": [],
      "metadata": {
        "id": "9vUzWW0oYiMr"
      },
      "execution_count": null,
      "outputs": []
    },
    {
      "cell_type": "code",
      "source": [],
      "metadata": {
        "id": "h-bS4M31YiPC"
      },
      "execution_count": null,
      "outputs": []
    },
    {
      "cell_type": "code",
      "source": [],
      "metadata": {
        "id": "O0BlNeh1YiR5"
      },
      "execution_count": null,
      "outputs": []
    },
    {
      "cell_type": "code",
      "source": [],
      "metadata": {
        "id": "rOjZ7gC_YiUu"
      },
      "execution_count": null,
      "outputs": []
    },
    {
      "cell_type": "code",
      "metadata": {
        "id": "merifRSe3vT1"
      },
      "source": [
        "cdf = cumulative_sum(pdf)"
      ],
      "execution_count": 72,
      "outputs": []
    },
    {
      "cell_type": "code",
      "source": [
        "cdf"
      ],
      "metadata": {
        "colab": {
          "base_uri": "https://localhost:8080/"
        },
        "id": "9aGWDGWgdJxo",
        "outputId": "ad201352-bdfb-43d7-e574-34e91b5c36c5"
      },
      "execution_count": 73,
      "outputs": [
        {
          "output_type": "execute_result",
          "data": {
            "text/plain": [
              "array([0.00000000e+00, 7.29835779e-11, 1.51415764e-10, 2.35691166e-10,\n",
              "       3.26232038e-10, 4.23490154e-10, 5.27948795e-10, 6.40124865e-10,\n",
              "       7.60571151e-10, 8.89878718e-10, 1.02867946e-09, 1.17764884e-09,\n",
              "       1.33750874e-09, 1.50903057e-09, 1.69303853e-09, 1.89041308e-09,\n",
              "       2.10209465e-09, 2.32908753e-09, 2.57246413e-09, 2.83336930e-09,\n",
              "       3.11302516e-09, 3.41273602e-09, 3.73389375e-09, 4.07798340e-09,\n",
              "       4.44658921e-09, 4.84140098e-09, 5.26422080e-09, 5.71697023e-09,\n",
              "       6.20169792e-09, 6.72058766e-09, 7.27596693e-09, 7.87031601e-09,\n",
              "       8.50627756e-09, 9.18666682e-09, 9.91448247e-09, 1.06929180e-08,\n",
              "       1.15253740e-08, 1.24154707e-08, 1.33670621e-08, 1.43842498e-08,\n",
              "       1.54713987e-08, 1.66331532e-08, 1.78744538e-08, 1.92005558e-08,\n",
              "       2.06170481e-08, 2.21298737e-08, 2.37453508e-08, 2.54701961e-08,\n",
              "       2.73115479e-08, 2.92769923e-08, 3.13745894e-08, 3.36129019e-08,\n",
              "       3.60010250e-08, 3.85486179e-08, 4.12659373e-08, 4.41638727e-08,\n",
              "       4.72539833e-08, 5.05485378e-08, 5.40605555e-08, 5.78038504e-08,\n",
              "       6.17930772e-08, 6.60437799e-08, 7.05724438e-08, 7.53965490e-08,\n",
              "       8.05346283e-08, 8.60063268e-08, 9.18324660e-08, 9.80351104e-08,\n",
              "       1.04637639e-07, 1.11664817e-07, 1.19142878e-07, 1.27099603e-07,\n",
              "       1.35564411e-07, 1.44568445e-07, 1.54144675e-07, 1.64327992e-07,\n",
              "       1.75155320e-07, 1.86665728e-07, 1.98900544e-07, 2.11903483e-07,\n",
              "       2.25720774e-07, 2.40401302e-07, 2.55996746e-07, 2.72561735e-07,\n",
              "       2.90154006e-07, 3.08834570e-07, 3.28667890e-07, 3.49722062e-07,\n",
              "       3.72069013e-07, 3.95784699e-07, 4.20949325e-07, 4.47647561e-07,\n",
              "       4.75968785e-07, 5.06007323e-07, 5.37862712e-07, 5.71639967e-07,\n",
              "       6.07449870e-07, 6.45409263e-07, 6.85641366e-07, 7.28276096e-07,\n",
              "       7.73450419e-07, 8.21308702e-07, 8.72003095e-07, 9.25693919e-07,\n",
              "       9.82550081e-07, 1.04274951e-06, 1.10647959e-06, 1.17393768e-06,\n",
              "       1.24533153e-06, 1.32087988e-06, 1.40081294e-06, 1.48537300e-06,\n",
              "       1.57481500e-06, 1.66940712e-06, 1.76943149e-06, 1.87518480e-06,\n",
              "       1.98697906e-06, 2.10514229e-06, 2.23001931e-06, 2.36197255e-06,\n",
              "       2.50138287e-06, 2.64865043e-06, 2.80419564e-06, 2.96846006e-06,\n",
              "       3.14190743e-06, 3.32502468e-06, 3.51832302e-06, 3.72233907e-06,\n",
              "       3.93763603e-06, 4.16480488e-06, 4.40446567e-06, 4.65726886e-06,\n",
              "       4.92389668e-06, 5.20506454e-06, 5.50152259e-06, 5.81405722e-06,\n",
              "       6.14349271e-06, 6.49069291e-06, 6.85656298e-06, 7.24205121e-06,\n",
              "       7.64815095e-06, 8.07590254e-06, 8.52639537e-06, 9.00077003e-06,\n",
              "       9.50022049e-06, 1.00259964e-05, 1.05794055e-05, 1.11618160e-05,\n",
              "       1.17746594e-05, 1.24194328e-05, 1.30977019e-05, 1.38111040e-05,\n",
              "       1.45613504e-05, 1.53502304e-05, 1.61796135e-05, 1.70514536e-05,\n",
              "       1.79677919e-05, 1.89307605e-05, 1.99425863e-05, 2.10055947e-05,\n",
              "       2.21222138e-05, 2.32949780e-05, 2.45265326e-05, 2.58196381e-05,\n",
              "       2.71771751e-05, 2.86021481e-05, 3.00976913e-05, 3.16670732e-05,\n",
              "       3.33137017e-05, 3.50411298e-05, 3.68530608e-05, 3.87533542e-05,\n",
              "       4.07460317e-05, 4.28352830e-05, 4.50254726e-05, 4.73211458e-05,\n",
              "       4.97270358e-05, 5.22480703e-05, 5.48893790e-05, 5.76563006e-05,\n",
              "       6.05543908e-05, 6.35894298e-05, 6.67674304e-05, 7.00946467e-05,\n",
              "       7.35775820e-05, 7.72229983e-05, 8.10379250e-05, 8.50296680e-05,\n",
              "       8.92058201e-05, 9.35742702e-05, 9.81432136e-05, 1.02921163e-04,\n",
              "       1.07916957e-04, 1.13139777e-04, 1.18599149e-04, 1.24304966e-04,\n",
              "       1.30267492e-04, 1.36497376e-04, 1.43005669e-04, 1.49803831e-04,\n",
              "       1.56903749e-04, 1.64317745e-04, 1.72058599e-04, 1.80139552e-04,\n",
              "       1.88574331e-04, 1.97377158e-04, 2.06562766e-04, 2.16146419e-04,\n",
              "       2.26143921e-04, 2.36571640e-04, 2.47446519e-04, 2.58786097e-04,\n",
              "       2.70608526e-04, 2.82932586e-04, 2.95777711e-04, 3.09163997e-04,\n",
              "       3.23112232e-04, 3.37643910e-04, 3.52781250e-04, 3.68547221e-04,\n",
              "       3.84965559e-04, 4.02060793e-04, 4.19858260e-04, 4.38384134e-04,\n",
              "       4.57665444e-04, 4.77730100e-04, 4.98606914e-04, 5.20325626e-04,\n",
              "       5.42916927e-04, 5.66412485e-04, 5.90844969e-04, 6.16248075e-04,\n",
              "       6.42656551e-04, 6.70106226e-04, 6.98634034e-04, 7.28278043e-04,\n",
              "       7.59077482e-04, 7.91072770e-04, 8.24305542e-04, 8.58818680e-04,\n",
              "       8.94656342e-04, 9.31863990e-04, 9.70488423e-04, 1.01057780e-03,\n",
              "       1.05218169e-03, 1.09535107e-03, 1.14013838e-03, 1.18659757e-03,\n",
              "       1.23478409e-03, 1.28475494e-03, 1.33656873e-03, 1.39028567e-03,\n",
              "       1.44596763e-03, 1.50367816e-03, 1.56348255e-03, 1.62544781e-03,\n",
              "       1.68964276e-03, 1.75613805e-03, 1.82500614e-03, 1.89632144e-03,\n",
              "       1.97016025e-03, 2.04660082e-03, 2.12572342e-03, 2.20761034e-03,\n",
              "       2.29234591e-03, 2.38001660e-03, 2.47071098e-03, 2.56451981e-03,\n",
              "       2.66153602e-03, 2.76185481e-03, 2.86557364e-03, 2.97279226e-03,\n",
              "       3.08361279e-03, 3.19813970e-03, 3.31647987e-03, 3.43874263e-03,\n",
              "       3.56503976e-03, 3.69548558e-03, 3.83019693e-03, 3.96929320e-03,\n",
              "       4.11289642e-03, 4.26113122e-03, 4.41412491e-03, 4.57200749e-03,\n",
              "       4.73491167e-03, 4.90297291e-03, 5.07632946e-03, 5.25512237e-03,\n",
              "       5.43949551e-03, 5.62959561e-03, 5.82557228e-03, 6.02757804e-03,\n",
              "       6.23576833e-03, 6.45030152e-03, 6.67133898e-03, 6.89904505e-03,\n",
              "       7.13358706e-03, 7.37513539e-03, 7.62386344e-03, 7.87994767e-03,\n",
              "       8.14356759e-03, 8.41490580e-03, 8.69414798e-03, 8.98148292e-03,\n",
              "       9.27710249e-03, 9.58120167e-03, 9.89397857e-03, 1.02156344e-02,\n",
              "       1.05463735e-02, 1.08864032e-02, 1.12359342e-02, 1.15951801e-02,\n",
              "       1.19643576e-02, 1.23436866e-02, 1.27333899e-02, 1.31336936e-02,\n",
              "       1.35448265e-02, 1.39670209e-02, 1.44005117e-02, 1.48455370e-02,\n",
              "       1.53023378e-02, 1.57711579e-02, 1.62522443e-02, 1.67458466e-02,\n",
              "       1.72522174e-02, 1.77716121e-02, 1.83042887e-02, 1.88505080e-02,\n",
              "       1.94105337e-02, 1.99846317e-02, 2.05730708e-02, 2.11761223e-02,\n",
              "       2.17940598e-02, 2.24271593e-02, 2.30756995e-02, 2.37399609e-02,\n",
              "       2.44202265e-02, 2.51167815e-02, 2.58299129e-02, 2.65599099e-02,\n",
              "       2.73070635e-02, 2.80716667e-02, 2.88540141e-02, 2.96544020e-02,\n",
              "       3.04731282e-02, 3.13104920e-02, 3.21667943e-02, 3.30423369e-02,\n",
              "       3.39374231e-02, 3.48523569e-02, 3.57874437e-02, 3.67429895e-02,\n",
              "       3.77193009e-02, 3.87166853e-02, 3.97354506e-02, 4.07759050e-02,\n",
              "       4.18383569e-02, 4.29231149e-02, 4.40304874e-02, 4.51607829e-02,\n",
              "       4.63143094e-02, 4.74913745e-02, 4.86922852e-02, 4.99173479e-02,\n",
              "       5.11668680e-02, 5.24411499e-02, 5.37404967e-02, 5.50652104e-02,\n",
              "       5.64155913e-02, 5.77919382e-02, 5.91945479e-02, 6.06237154e-02,\n",
              "       6.20797333e-02, 6.35628922e-02, 6.50734800e-02, 6.66117820e-02,\n",
              "       6.81780805e-02, 6.97726551e-02, 7.13957820e-02, 7.30477341e-02,\n",
              "       7.47287807e-02, 7.64391874e-02, 7.81792159e-02, 7.99491238e-02,\n",
              "       8.17491645e-02, 8.35795869e-02, 8.54406351e-02, 8.73325487e-02,\n",
              "       8.92555620e-02, 9.12099042e-02, 9.31957993e-02, 9.52134653e-02,\n",
              "       9.72631150e-02, 9.93449547e-02, 1.01459185e-01, 1.03606000e-01,\n",
              "       1.05785588e-01, 1.07998129e-01, 1.10243798e-01, 1.12522762e-01,\n",
              "       1.14835181e-01, 1.17181207e-01, 1.19560985e-01, 1.21974653e-01,\n",
              "       1.24422341e-01, 1.26904169e-01, 1.29420250e-01, 1.31970690e-01,\n",
              "       1.34555584e-01, 1.37175021e-01, 1.39829078e-01, 1.42517825e-01,\n",
              "       1.45241323e-01, 1.47999623e-01, 1.50792766e-01, 1.53620785e-01,\n",
              "       1.56483702e-01, 1.59381528e-01, 1.62314268e-01, 1.65281913e-01,\n",
              "       1.68284446e-01, 1.71321837e-01, 1.74394049e-01, 1.77501033e-01,\n",
              "       1.80642729e-01, 1.83819065e-01, 1.87029962e-01, 1.90275326e-01,\n",
              "       1.93555054e-01, 1.96869033e-01, 2.00217135e-01, 2.03599226e-01,\n",
              "       2.07015156e-01, 2.10464767e-01, 2.13947889e-01, 2.17464339e-01,\n",
              "       2.21013923e-01, 2.24596439e-01, 2.28211668e-01, 2.31859384e-01,\n",
              "       2.35539347e-01, 2.39251307e-01, 2.42995002e-01, 2.46770158e-01,\n",
              "       2.50576491e-01, 2.54413704e-01, 2.58281490e-01, 2.62179530e-01,\n",
              "       2.66107494e-01, 2.70065040e-01, 2.74051816e-01, 2.78067458e-01,\n",
              "       2.82111592e-01, 2.86183832e-01, 2.90283782e-01, 2.94411035e-01,\n",
              "       2.98565173e-01, 3.02745769e-01, 3.06952383e-01, 3.11184567e-01,\n",
              "       3.15441863e-01, 3.19723800e-01, 3.24029901e-01, 3.28359677e-01,\n",
              "       3.32712630e-01, 3.37088253e-01, 3.41486029e-01, 3.45905433e-01,\n",
              "       3.50345930e-01, 3.54806977e-01, 3.59288023e-01, 3.63788508e-01,\n",
              "       3.68307863e-01, 3.72845515e-01, 3.77400878e-01, 3.81973363e-01,\n",
              "       3.86562372e-01, 3.91167300e-01, 3.95787535e-01, 4.00422460e-01,\n",
              "       4.05071450e-01, 4.09733875e-01, 4.14409100e-01, 4.19096483e-01,\n",
              "       4.23795378e-01, 4.28505134e-01, 4.33225093e-01, 4.37954597e-01,\n",
              "       4.42692981e-01, 4.47439576e-01, 4.52193711e-01, 4.56954710e-01,\n",
              "       4.61721896e-01, 4.66494588e-01, 4.71272103e-01, 4.76053756e-01,\n",
              "       4.80838860e-01, 4.85626726e-01, 4.90416665e-01, 4.95207987e-01,\n",
              "       5.00000000e-01, 5.04792013e-01, 5.09583335e-01, 5.14373274e-01,\n",
              "       5.19161140e-01, 5.23946244e-01, 5.28727897e-01, 5.33505412e-01,\n",
              "       5.38278104e-01, 5.43045290e-01, 5.47806289e-01, 5.52560424e-01,\n",
              "       5.57307019e-01, 5.62045403e-01, 5.66774907e-01, 5.71494867e-01,\n",
              "       5.76204622e-01, 5.80903517e-01, 5.85590900e-01, 5.90266125e-01,\n",
              "       5.94928550e-01, 5.99577540e-01, 6.04212465e-01, 6.08832700e-01,\n",
              "       6.13437628e-01, 6.18026637e-01, 6.22599122e-01, 6.27154485e-01,\n",
              "       6.31692137e-01, 6.36211493e-01, 6.40711977e-01, 6.45193023e-01,\n",
              "       6.49654070e-01, 6.54094567e-01, 6.58513971e-01, 6.62911747e-01,\n",
              "       6.67287370e-01, 6.71640323e-01, 6.75970099e-01, 6.80276200e-01,\n",
              "       6.84558137e-01, 6.88815433e-01, 6.93047617e-01, 6.97254231e-01,\n",
              "       7.01434827e-01, 7.05588965e-01, 7.09716218e-01, 7.13816168e-01,\n",
              "       7.17888408e-01, 7.21932542e-01, 7.25948184e-01, 7.29934960e-01,\n",
              "       7.33892506e-01, 7.37820470e-01, 7.41718510e-01, 7.45586296e-01,\n",
              "       7.49423509e-01, 7.53229842e-01, 7.57004998e-01, 7.60748693e-01,\n",
              "       7.64460653e-01, 7.68140616e-01, 7.71788332e-01, 7.75403561e-01,\n",
              "       7.78986077e-01, 7.82535661e-01, 7.86052111e-01, 7.89535233e-01,\n",
              "       7.92984844e-01, 7.96400774e-01, 7.99782865e-01, 8.03130968e-01,\n",
              "       8.06444946e-01, 8.09724674e-01, 8.12970038e-01, 8.16180935e-01,\n",
              "       8.19357271e-01, 8.22498967e-01, 8.25605951e-01, 8.28678163e-01,\n",
              "       8.31715555e-01, 8.34718087e-01, 8.37685732e-01, 8.40618472e-01,\n",
              "       8.43516299e-01, 8.46379215e-01, 8.49207234e-01, 8.52000377e-01,\n",
              "       8.54758677e-01, 8.57482175e-01, 8.60170922e-01, 8.62824979e-01,\n",
              "       8.65444416e-01, 8.68029310e-01, 8.70579750e-01, 8.73095831e-01,\n",
              "       8.75577659e-01, 8.78025347e-01, 8.80439015e-01, 8.82818793e-01,\n",
              "       8.85164819e-01, 8.87477238e-01, 8.89756202e-01, 8.92001871e-01,\n",
              "       8.94214412e-01, 8.96394000e-01, 8.98540815e-01, 9.00655045e-01,\n",
              "       9.02736885e-01, 9.04786535e-01, 9.06804201e-01, 9.08790096e-01,\n",
              "       9.10744438e-01, 9.12667451e-01, 9.14559365e-01, 9.16420413e-01,\n",
              "       9.18250836e-01, 9.20050876e-01, 9.21820784e-01, 9.23560813e-01,\n",
              "       9.25271219e-01, 9.26952266e-01, 9.28604218e-01, 9.30227345e-01,\n",
              "       9.31821920e-01, 9.33388218e-01, 9.34926520e-01, 9.36437108e-01,\n",
              "       9.37920267e-01, 9.39376285e-01, 9.40805452e-01, 9.42208062e-01,\n",
              "       9.43584409e-01, 9.44934790e-01, 9.46259503e-01, 9.47558850e-01,\n",
              "       9.48833132e-01, 9.50082652e-01, 9.51307715e-01, 9.52508626e-01,\n",
              "       9.53685691e-01, 9.54839217e-01, 9.55969513e-01, 9.57076885e-01,\n",
              "       9.58161643e-01, 9.59224095e-01, 9.60264549e-01, 9.61283315e-01,\n",
              "       9.62280699e-01, 9.63257011e-01, 9.64212556e-01, 9.65147643e-01,\n",
              "       9.66062577e-01, 9.66957663e-01, 9.67833206e-01, 9.68689508e-01,\n",
              "       9.69526872e-01, 9.70345598e-01, 9.71145986e-01, 9.71928333e-01,\n",
              "       9.72692937e-01, 9.73440090e-01, 9.74170087e-01, 9.74883219e-01,\n",
              "       9.75579774e-01, 9.76260039e-01, 9.76924301e-01, 9.77572841e-01,\n",
              "       9.78205940e-01, 9.78823878e-01, 9.79426929e-01, 9.80015368e-01,\n",
              "       9.80589466e-01, 9.81149492e-01, 9.81695711e-01, 9.82228388e-01,\n",
              "       9.82747783e-01, 9.83254153e-01, 9.83747756e-01, 9.84228842e-01,\n",
              "       9.84697662e-01, 9.85154463e-01, 9.85599488e-01, 9.86032979e-01,\n",
              "       9.86455174e-01, 9.86866307e-01, 9.87266610e-01, 9.87656313e-01,\n",
              "       9.88035642e-01, 9.88404820e-01, 9.88764066e-01, 9.89113597e-01,\n",
              "       9.89453627e-01, 9.89784366e-01, 9.90106022e-01, 9.90418798e-01,\n",
              "       9.90722898e-01, 9.91018517e-01, 9.91305852e-01, 9.91585094e-01,\n",
              "       9.91856432e-01, 9.92120052e-01, 9.92376137e-01, 9.92624865e-01,\n",
              "       9.92866413e-01, 9.93100955e-01, 9.93328661e-01, 9.93549699e-01,\n",
              "       9.93764232e-01, 9.93972422e-01, 9.94174428e-01, 9.94370404e-01,\n",
              "       9.94560505e-01, 9.94744878e-01, 9.94923671e-01, 9.95097027e-01,\n",
              "       9.95265088e-01, 9.95427993e-01, 9.95585875e-01, 9.95738869e-01,\n",
              "       9.95887104e-01, 9.96030707e-01, 9.96169803e-01, 9.96304514e-01,\n",
              "       9.96434960e-01, 9.96561257e-01, 9.96683520e-01, 9.96801860e-01,\n",
              "       9.96916387e-01, 9.97027208e-01, 9.97134426e-01, 9.97238145e-01,\n",
              "       9.97338464e-01, 9.97435480e-01, 9.97529289e-01, 9.97619983e-01,\n",
              "       9.97707654e-01, 9.97792390e-01, 9.97874277e-01, 9.97953399e-01,\n",
              "       9.98029840e-01, 9.98103679e-01, 9.98174994e-01, 9.98243862e-01,\n",
              "       9.98310357e-01, 9.98374552e-01, 9.98436518e-01, 9.98496322e-01,\n",
              "       9.98554032e-01, 9.98609714e-01, 9.98663431e-01, 9.98715245e-01,\n",
              "       9.98765216e-01, 9.98813403e-01, 9.98859862e-01, 9.98904649e-01,\n",
              "       9.98947818e-01, 9.98989422e-01, 9.99029512e-01, 9.99068136e-01,\n",
              "       9.99105344e-01, 9.99141181e-01, 9.99175695e-01, 9.99208927e-01,\n",
              "       9.99240923e-01, 9.99271722e-01, 9.99301366e-01, 9.99329894e-01,\n",
              "       9.99357344e-01, 9.99383752e-01, 9.99409155e-01, 9.99433588e-01,\n",
              "       9.99457083e-01, 9.99479674e-01, 9.99501393e-01, 9.99522270e-01,\n",
              "       9.99542335e-01, 9.99561616e-01, 9.99580142e-01, 9.99597939e-01,\n",
              "       9.99615035e-01, 9.99631453e-01, 9.99647219e-01, 9.99662356e-01,\n",
              "       9.99676888e-01, 9.99690836e-01, 9.99704222e-01, 9.99717067e-01,\n",
              "       9.99729392e-01, 9.99741214e-01, 9.99752554e-01, 9.99763428e-01,\n",
              "       9.99773856e-01, 9.99783854e-01, 9.99793437e-01, 9.99802623e-01,\n",
              "       9.99811426e-01, 9.99819861e-01, 9.99827941e-01, 9.99835682e-01,\n",
              "       9.99843096e-01, 9.99850196e-01, 9.99856994e-01, 9.99863503e-01,\n",
              "       9.99869733e-01, 9.99875695e-01, 9.99881401e-01, 9.99886860e-01,\n",
              "       9.99892083e-01, 9.99897079e-01, 9.99901857e-01, 9.99906426e-01,\n",
              "       9.99910794e-01, 9.99914970e-01, 9.99918962e-01, 9.99922777e-01,\n",
              "       9.99926422e-01, 9.99929905e-01, 9.99933233e-01, 9.99936411e-01,\n",
              "       9.99939446e-01, 9.99942344e-01, 9.99945111e-01, 9.99947752e-01,\n",
              "       9.99950273e-01, 9.99952679e-01, 9.99954975e-01, 9.99957165e-01,\n",
              "       9.99959254e-01, 9.99961247e-01, 9.99963147e-01, 9.99964959e-01,\n",
              "       9.99966686e-01, 9.99968333e-01, 9.99969902e-01, 9.99971398e-01,\n",
              "       9.99972823e-01, 9.99974180e-01, 9.99975474e-01, 9.99976705e-01,\n",
              "       9.99977878e-01, 9.99978994e-01, 9.99980057e-01, 9.99981069e-01,\n",
              "       9.99982032e-01, 9.99982949e-01, 9.99983820e-01, 9.99984650e-01,\n",
              "       9.99985439e-01, 9.99986189e-01, 9.99986902e-01, 9.99987581e-01,\n",
              "       9.99988225e-01, 9.99988838e-01, 9.99989421e-01, 9.99989974e-01,\n",
              "       9.99990500e-01, 9.99990999e-01, 9.99991474e-01, 9.99991924e-01,\n",
              "       9.99992352e-01, 9.99992758e-01, 9.99993144e-01, 9.99993509e-01,\n",
              "       9.99993857e-01, 9.99994186e-01, 9.99994499e-01, 9.99994795e-01,\n",
              "       9.99995076e-01, 9.99995343e-01, 9.99995596e-01, 9.99995835e-01,\n",
              "       9.99996062e-01, 9.99996278e-01, 9.99996482e-01, 9.99996675e-01,\n",
              "       9.99996858e-01, 9.99997032e-01, 9.99997196e-01, 9.99997351e-01,\n",
              "       9.99997499e-01, 9.99997638e-01, 9.99997770e-01, 9.99997895e-01,\n",
              "       9.99998013e-01, 9.99998125e-01, 9.99998231e-01, 9.99998331e-01,\n",
              "       9.99998425e-01, 9.99998515e-01, 9.99998599e-01, 9.99998679e-01,\n",
              "       9.99998755e-01, 9.99998826e-01, 9.99998894e-01, 9.99998957e-01,\n",
              "       9.99999018e-01, 9.99999074e-01, 9.99999128e-01, 9.99999179e-01,\n",
              "       9.99999227e-01, 9.99999272e-01, 9.99999314e-01, 9.99999355e-01,\n",
              "       9.99999393e-01, 9.99999428e-01, 9.99999462e-01, 9.99999494e-01,\n",
              "       9.99999524e-01, 9.99999552e-01, 9.99999579e-01, 9.99999604e-01,\n",
              "       9.99999628e-01, 9.99999650e-01, 9.99999671e-01, 9.99999691e-01,\n",
              "       9.99999710e-01, 9.99999728e-01, 9.99999744e-01, 9.99999760e-01,\n",
              "       9.99999774e-01, 9.99999788e-01, 9.99999801e-01, 9.99999813e-01,\n",
              "       9.99999825e-01, 9.99999836e-01, 9.99999846e-01, 9.99999856e-01,\n",
              "       9.99999865e-01, 9.99999873e-01, 9.99999881e-01, 9.99999888e-01,\n",
              "       9.99999895e-01, 9.99999902e-01, 9.99999908e-01, 9.99999914e-01,\n",
              "       9.99999920e-01, 9.99999925e-01, 9.99999930e-01, 9.99999934e-01,\n",
              "       9.99999938e-01, 9.99999942e-01, 9.99999946e-01, 9.99999950e-01,\n",
              "       9.99999953e-01, 9.99999956e-01, 9.99999959e-01, 9.99999962e-01,\n",
              "       9.99999964e-01, 9.99999966e-01, 9.99999969e-01, 9.99999971e-01,\n",
              "       9.99999973e-01, 9.99999975e-01, 9.99999976e-01, 9.99999978e-01,\n",
              "       9.99999979e-01, 9.99999981e-01, 9.99999982e-01, 9.99999983e-01,\n",
              "       9.99999985e-01, 9.99999986e-01, 9.99999987e-01, 9.99999988e-01,\n",
              "       9.99999989e-01, 9.99999989e-01, 9.99999990e-01, 9.99999991e-01,\n",
              "       9.99999992e-01, 9.99999992e-01, 9.99999993e-01, 9.99999993e-01,\n",
              "       9.99999994e-01, 9.99999994e-01, 9.99999995e-01, 9.99999995e-01,\n",
              "       9.99999996e-01, 9.99999996e-01, 9.99999996e-01, 9.99999997e-01,\n",
              "       9.99999997e-01, 9.99999997e-01, 9.99999998e-01, 9.99999998e-01,\n",
              "       9.99999998e-01, 9.99999998e-01, 9.99999998e-01, 9.99999999e-01,\n",
              "       9.99999999e-01, 9.99999999e-01, 9.99999999e-01, 9.99999999e-01,\n",
              "       9.99999999e-01, 9.99999999e-01, 1.00000000e+00, 1.00000000e+00,\n",
              "       1.00000000e+00, 1.00000000e+00, 1.00000000e+00, 1.00000000e+00])"
            ]
          },
          "metadata": {},
          "execution_count": 73
        }
      ]
    },
    {
      "cell_type": "code",
      "metadata": {
        "id": "TIR6Tm2NYSlH",
        "colab": {
          "base_uri": "https://localhost:8080/",
          "height": 430
        },
        "outputId": "14988286-c1ba-4d74-b29f-192903e676cd"
      },
      "source": [
        "plt.plot(x,cdf,'.');\n",
        "\n",
        "# Running cumulative sum of dist curve"
      ],
      "execution_count": 74,
      "outputs": [
        {
          "output_type": "display_data",
          "data": {
            "text/plain": [
              "<Figure size 640x480 with 1 Axes>"
            ],
            "image/png": "[encoded data removed]"
          },
          "metadata": {}
        }
      ]
    },
    {
      "cell_type": "code",
      "metadata": {
        "id": "dxKQae6QEbQF"
      },
      "source": [
        "# d_cdf = cdf[1:] - cdf[0:-1] # Demo to show that the derivative of the cdf gives you back the pdf\n",
        "# plt.plot(x[1:],d_cdf,'.');  # Not required for sampling"
      ],
      "execution_count": 75,
      "outputs": []
    },
    {
      "cell_type": "code",
      "metadata": {
        "id": "sikTuIG3c_y7",
        "colab": {
          "base_uri": "https://localhost:8080/",
          "height": 430
        },
        "outputId": "7c537089-99ba-4572-dd81-45cae64a5d6e"
      },
      "source": [
        "plt.plot(cdf,x,'.');\n",
        "\n",
        "# Flips cdf and x to rotate the curvex x and y axes"
      ],
      "execution_count": 76,
      "outputs": [
        {
          "output_type": "display_data",
          "data": {
            "text/plain": [
              "<Figure size 640x480 with 1 Axes>"
            ],
            "image/png": "[encoded data removed]"
          },
          "metadata": {}
        }
      ]
    },
    {
      "cell_type": "code",
      "metadata": {
        "id": "HsmcFWw26gZk"
      },
      "source": [
        "def find_nearest(array, value):\n",
        "\n",
        "  idx = np.argmin(np.abs(array - value))\n",
        "\n",
        "  return idx"
      ],
      "execution_count": 77,
      "outputs": []
    },
    {
      "cell_type": "markdown",
      "source": [
        "The function find_nearest you've defined is designed to find the index of the nearest value in an array to a given target value. Here's a breakdown of how it works:\n",
        "\n",
        "np.abs(array - value): This expression computes the absolute difference between each element in array and the target value. The result is an array of non-negative values representing how close each element in the original array is to the target value.\n",
        "\n",
        "np.argmin(...): np.argmin finds the index of the minimum value in an array. When applied to the result of np.abs(array - value), it finds the index of the smallest difference, i.e., the nearest value to the target.\n",
        "\n",
        "Return Value: The function returns the index idx of the nearest value in the original array to the specified target value.\n",
        "\n",
        "Here's an example to illustrate its usage:\n",
        "\n",
        "```\n",
        "python\n",
        "Copy code\n",
        "import numpy as np\n",
        "\n",
        "# Define the array and the target value\n",
        "array = np.array([0, 2, 5, 7, 10])\n",
        "value = 6\n",
        "\n",
        "# Use the find_nearest function to find the index of the nearest value\n",
        "idx = find_nearest(array, value)\n",
        "\n",
        "print(f\"The nearest value to {value} is at index {idx}, which is {array[idx]}.\")\n",
        "```\n",
        "\n",
        "This code will identify the nearest value in array to the target value of 6, which, in this example, would be 7 at index 3.\n",
        "\n",
        "\n"
      ],
      "metadata": {
        "id": "1xlA3hyj_x1P"
      }
    },
    {
      "cell_type": "code",
      "source": [
        "z = np.array([1, 2, 3, 4, 5])"
      ],
      "metadata": {
        "id": "4rS4CRS9oks6"
      },
      "execution_count": 78,
      "outputs": []
    },
    {
      "cell_type": "code",
      "source": [
        "find_nearest(z, 2.1)\n",
        "\n",
        "# The output of 1 indicates that the closest value to 2.1 is in the second column of array z"
      ],
      "metadata": {
        "colab": {
          "base_uri": "https://localhost:8080/"
        },
        "id": "OVjU2xjRoumP",
        "outputId": "c9f74dda-29fa-47e8-a9e2-37cac9775a06"
      },
      "execution_count": 79,
      "outputs": [
        {
          "output_type": "execute_result",
          "data": {
            "text/plain": [
              "1"
            ]
          },
          "metadata": {},
          "execution_count": 79
        }
      ]
    },
    {
      "cell_type": "code",
      "metadata": {
        "id": "u-_tbmzBcrby",
        "colab": {
          "base_uri": "https://localhost:8080/"
        },
        "outputId": "2cf8690d-c58c-4946-f2bf-3c7d0ef9d71b"
      },
      "source": [
        "find_nearest(cdf, 0.1)"
      ],
      "execution_count": 80,
      "outputs": [
        {
          "output_type": "execute_result",
          "data": {
            "text/plain": [
              "393"
            ]
          },
          "metadata": {},
          "execution_count": 80
        }
      ]
    },
    {
      "cell_type": "code",
      "metadata": {
        "id": "Zf6KSUgmEt26",
        "colab": {
          "base_uri": "https://localhost:8080/"
        },
        "outputId": "c0525314-4dce-4041-9c24-2384adf443b0"
      },
      "source": [
        "x[393]"
      ],
      "execution_count": 90,
      "outputs": [
        {
          "output_type": "execute_result",
          "data": {
            "text/plain": [
              "-1.2792792792792795"
            ]
          },
          "metadata": {},
          "execution_count": 90
        }
      ]
    },
    {
      "cell_type": "code",
      "source": [
        "r = np.random.random()"
      ],
      "metadata": {
        "id": "3toM6vkipxD7"
      },
      "execution_count": 82,
      "outputs": []
    },
    {
      "cell_type": "code",
      "source": [
        "r"
      ],
      "metadata": {
        "colab": {
          "base_uri": "https://localhost:8080/"
        },
        "id": "9gz7Fxlsp6bo",
        "outputId": "68b38d92-5398-424c-922c-b450180ced45"
      },
      "execution_count": 83,
      "outputs": [
        {
          "output_type": "execute_result",
          "data": {
            "text/plain": [
              "0.9577192596209739"
            ]
          },
          "metadata": {},
          "execution_count": 83
        }
      ]
    },
    {
      "cell_type": "code",
      "metadata": {
        "id": "M0O7iLuj5Qu5"
      },
      "source": [
        "xr = np.random.random((10000,))"
      ],
      "execution_count": 84,
      "outputs": []
    },
    {
      "cell_type": "code",
      "source": [
        "xr"
      ],
      "metadata": {
        "colab": {
          "base_uri": "https://localhost:8080/"
        },
        "id": "796eGcj2CM_b",
        "outputId": "1f7209ae-4c31-4b59-ae96-519e02fed9aa"
      },
      "execution_count": 91,
      "outputs": [
        {
          "output_type": "execute_result",
          "data": {
            "text/plain": [
              "array([0.12329548, 0.98061991, 0.31486416, ..., 0.06741185, 0.85087871,\n",
              "       0.98699936])"
            ]
          },
          "metadata": {},
          "execution_count": 91
        }
      ]
    },
    {
      "cell_type": "code",
      "source": [
        "x[find_nearest(cdf, r)]"
      ],
      "metadata": {
        "colab": {
          "base_uri": "https://localhost:8080/"
        },
        "id": "Qlziu553qK-r",
        "outputId": "33c5bf1e-527b-4e39-9e3c-2666aef4460c"
      },
      "execution_count": 85,
      "outputs": [
        {
          "output_type": "execute_result",
          "data": {
            "text/plain": [
              "1.7357357357357355"
            ]
          },
          "metadata": {},
          "execution_count": 85
        }
      ]
    },
    {
      "cell_type": "code",
      "metadata": {
        "id": "AxX76gZp6gVV"
      },
      "source": [
        "w = np.zeros(xr.shape[0])\n",
        "\n",
        "for i in range(xr.shape[0]):\n",
        "\n",
        "  w[i] = x[find_nearest(cdf, xr[i])]\n",
        "\n",
        "  # When running this code, ensure the original function above (not the ChatGPT)\n",
        "  # has been run and the y = y / np.max(y) is not commented\n",
        "  # otherwise the plot will not display properly\n",
        "\n",
        "  #def cumulative_sum(x):\n",
        "\n",
        "      #y = np.zeros(x.shape)\n",
        "\n",
        "      #for n in range(x.shape[0]):\n",
        "\n",
        "        #y[n] = np.sum(x[0:n])\n",
        "\n",
        "      #y = y / np.max(y)"
      ],
      "execution_count": 86,
      "outputs": []
    },
    {
      "cell_type": "code",
      "metadata": {
        "id": "0dBd_HybERUD",
        "colab": {
          "base_uri": "https://localhost:8080/"
        },
        "outputId": "b390ed48-c865-4b63-a9c3-ddcdb00b5de6"
      },
      "source": [
        "w.shape"
      ],
      "execution_count": 87,
      "outputs": [
        {
          "output_type": "execute_result",
          "data": {
            "text/plain": [
              "(10000,)"
            ]
          },
          "metadata": {},
          "execution_count": 87
        }
      ]
    },
    {
      "cell_type": "code",
      "metadata": {
        "id": "t4YdgMnK8j6D",
        "colab": {
          "base_uri": "https://localhost:8080/",
          "height": 430
        },
        "outputId": "d6affd60-6411-4ada-c7b9-ba7d03d706af"
      },
      "source": [
        "plt.hist(w,50);"
      ],
      "execution_count": 88,
      "outputs": [
        {
          "output_type": "display_data",
          "data": {
            "text/plain": [
              "<Figure size 640x480 with 1 Axes>"
            ],
            "image/png": "[encoded data removed]"
          },
          "metadata": {}
        }
      ]
    },
    {
      "cell_type": "markdown",
      "source": [
        "In the context of histograms and statistical data visualization, \"bins\" refer to intervals that divide the entire range of data into a series of contiguous segments. Each bin represents a specific interval of values, and the data within each bin is aggregated to count the number of observations (data points) that fall into that range. The concept of bins is fundamental in creating histograms, which are graphical representations used to visualize the distribution of numerical data.\n",
        "\n",
        "Here's a closer look at what bins represent and how they are used:\n",
        "\n",
        "Purpose of Bins\n",
        "Data Grouping: Bins group a continuous variable into discrete intervals, making it easier to observe the distribution of data across different value ranges.\n",
        "Visualization: They help in visualizing the underlying distribution of data points by showing the frequency (count) of data points within each bin.\n",
        "Characteristics of Bins\n",
        "Size and Number: The size of each bin (the range of values it covers) and the number of bins can significantly affect the appearance and interpretability of a histogram. Choosing the right bin size is crucial for accurately representing the distribution of the data.\n",
        "Uniformity: Bins are often (but not always) of equal size. However, depending on the data and the purpose of analysis, bins of varying sizes may be used to highlight specific characteristics of the distribution.\n",
        "Boundaries: Each bin has lower and upper boundaries, which determine which data points fall into it. The way these boundaries are defined (inclusive or exclusive) can affect the bin counts.\n",
        "Example\n",
        "Consider a dataset of exam scores ranging from 0 to 100. To create a histogram, you might divide this range into bins representing score intervals, such as 0-9, 10-19, 20-29, etc. Each bin then counts the number of scores falling into its interval, allowing you to visualize the frequency of scores across different ranges.\n",
        "\n",
        "Choosing Bin Size\n",
        "There are several strategies for choosing the number of bins or bin size, including:\n",
        "\n",
        "Square-root choice: Using the square root of the number of data points as the number of bins.\n",
        "Sturges' formula: A method that suggests the number of bins proportional to the logarithm of the number of data points.\n",
        "Freedman-Diaconis rule: A choice based on the data's spread (interquartile range) and the number of observations, aiming to minimize the difference between the area under the empirical histogram and the area under the theoretical probability distribution.\n",
        "In summary, bins are a crucial concept in data analysis and visualization, particularly in constructing histograms. They facilitate understanding the distribution and frequency of data across different intervals, aiding in statistical analysis and decision-making."
      ],
      "metadata": {
        "id": "BpST7dDxDYgS"
      }
    },
    {
      "cell_type": "code",
      "source": [
        "num_bins = 50\n",
        "n,bins,patches = plt.hist(w, num_bins, density=1)\n",
        "y = ((1 / (np.sqrt(2 * np.pi) * sigma)) * np.exp(-0.5 * (1 / sigma * (bins - mu))**2))\n",
        "plt.plot(bins,y)"
      ],
      "metadata": {
        "id": "T2tZnucPEtG4",
        "colab": {
          "base_uri": "https://localhost:8080/",
          "height": 447
        },
        "outputId": "45865d4e-1fb1-4955-e79f-7e75b4f210f0"
      },
      "execution_count": 89,
      "outputs": [
        {
          "output_type": "execute_result",
          "data": {
            "text/plain": [
              "[<matplotlib.lines.Line2D at 0x7aa1f4f199f0>]"
            ]
          },
          "metadata": {},
          "execution_count": 89
        },
        {
          "output_type": "display_data",
          "data": {
            "text/plain": [
              "<Figure size 640x480 with 1 Axes>"
            ],
            "image/png": "[encoded data removed]"
          },
          "metadata": {}
        }
      ]
    },
    {
      "cell_type": "markdown",
      "source": [
        "The extensive code and explanation delve into several key statistical concepts, including the creation and use of probability density functions (PDFs), cumulative density functions (CDFs), and how to utilize these in data transformation and visualization techniques. Let's distill the essence of your operations and clarify the process:\n",
        "\n",
        "Understanding PDFs and CDFs:\n",
        "\n",
        "A PDF describes the likelihood of a random variable falling within a particular range of values. It's used to depict the density of a continuous variable.\n",
        "A CDF shows the probability that a random variable is less than or equal to a certain value. It's the integral of the PDF and provides cumulative probabilities.\n",
        "The normal_pdf Function:\n",
        "\n",
        "This function calculates the PDF of a normal (Gaussian) distribution given parameters mu (mean) and sigma (standard deviation) over a range of x values. The Gaussian distribution is fundamental in statistics due to its natural occurrence in many phenomena.\n",
        "Generating a Sample Distribution (xr):\n",
        "\n",
        "You generate xr, a sample of random values following a uniform distribution. This can be used for various simulations or as a basis for transformation to match another distribution.\n",
        "Transforming Data with CDF Mapping (find_nearest and cumulative_sum):\n",
        "\n",
        "You demonstrated how to transform data (xr) to match a target distribution using a CDF. This involves finding the nearest value in the CDF to a given random value and mapping data points accordingly. This technique is vital in statistical modeling and simulations, such as in methods like inverse transform sampling.\n",
        "Visualization:\n",
        "\n",
        "Through histograms and plots, you've shown how to visualize the distribution of the transformed data (w), comparing it to a theoretical normal distribution. Visualization is crucial for understanding the distribution characteristics of datasets.\n",
        "Key Functions and Concepts Demonstrated:\n",
        "\n",
        "cumulative_sum: Manually computes the cumulative sum, showcasing an algorithmic understanding of CDF.\n",
        "find_nearest: A utility function for finding the closest value in an array, useful for data mapping between distributions.\n",
        "Histogram plotting: Demonstrates the distribution of data and fits against a theoretical distribution for comparison.\n",
        "Practical Example:\n",
        "\n",
        "The culmination of these concepts is in generating a dataset that matches a specified distribution (e.g., Gaussian) from a uniformly distributed set of random numbers (xr). This involves using the CDF of the target distribution to map xr to new values (w), effectively transforming the uniform distribution to a Gaussian distribution, which is then visualized.\n",
        "Final Visualization:\n",
        "\n",
        "The histogram of w alongside the theoretical Gaussian curve (plt.plot(bins, y)) visually confirms the effectiveness of the transformation process. This serves as a practical demonstration of statistical principles, such as transformation of variables and the central limit theorem in action.\n",
        "This comprehensive walkthrough not only touches on statistical theory but also demonstrates practical applications using Python's NumPy and Matplotlib libraries, underscoring the synergy between programming and statistical analysis."
      ],
      "metadata": {
        "id": "AAus-v38C_YJ"
      }
    },
    {
      "cell_type": "code",
      "source": [
        "# The code shows how randomly generated numbers follow a normal distribution"
      ],
      "metadata": {
        "id": "TvG2_-k-8U1M"
      },
      "execution_count": null,
      "outputs": []
    },
    {
      "cell_type": "code",
      "source": [],
      "metadata": {
        "id": "gT-OjSFcm4Uc"
      },
      "execution_count": null,
      "outputs": []
    },
    {
      "cell_type": "markdown",
      "source": [
        "# Homework"
      ],
      "metadata": {
        "id": "f6lSTMepm8qU"
      }
    },
    {
      "cell_type": "markdown",
      "source": [
        "# Birthday Paradox"
      ],
      "metadata": {
        "id": "iE625nJ2fVAa"
      }
    },
    {
      "cell_type": "code",
      "source": [
        "import random\n",
        "\n",
        "def simulate_birthday_paradox(people, simulations):\n",
        "    matches = 0\n",
        "\n",
        "    for i in range(simulations):\n",
        "        birthdays = [random.randint(1, 365) for _ in range(people)]\n",
        "        if len(birthdays) != len(set(birthdays)):\n",
        "            matches += 1\n",
        "\n",
        "    probability = matches / simulations\n",
        "    return probability\n",
        "\n",
        "# Number of people in the room\n",
        "people = 50       # Increasing or decreasing the number of people will raise or lower the probability\n",
        "\n",
        "# Number of simulations\n",
        "simulations = 100000   # Increasing or decreasing the number of sims will raise or lower the accuracy\n",
        "\n",
        "# Calculate the probability\n",
        "probability = simulate_birthday_paradox(people, simulations)\n",
        "probability\n"
      ],
      "metadata": {
        "colab": {
          "base_uri": "https://localhost:8080/"
        },
        "id": "uHDNfJ27fTLr",
        "outputId": "cef06b19-aeb9-4b0a-e140-0b4a8771cfa3"
      },
      "execution_count": 66,
      "outputs": [
        {
          "output_type": "execute_result",
          "data": {
            "text/plain": [
              "0.97059"
            ]
          },
          "metadata": {},
          "execution_count": 66
        }
      ]
    },
    {
      "cell_type": "markdown",
      "source": [
        "Your function simulate_birthday_paradox is designed to estimate the probability of at least two people sharing the same birthday in a room of a given number of people, through a specified number of simulations. This is a classic problem in probability theory known as the Birthday Paradox. The paradox is that in a relatively small group, the probability of a shared birthday is higher than one might intuitively expect.\n",
        "\n",
        "Here's a brief overview of how your code works:\n",
        "\n",
        "For each simulation, it generates a list of birthdays with random integers between 1 and 365, representing the birthdays of all people in the room. The range assumes each day in the year is equally likely to be a birthday and ignores leap years for simplicity.\n",
        "It then checks if there's a match (i.e., at least two people with the same birthday) by comparing the length of the birthdays list with the length of the set of birthdays. Since sets cannot contain duplicates, a difference in length indicates at least one shared birthday.\n",
        "The matches counter increments each time a match is found across all simulations.\n",
        "\n",
        "Finally, the probability of finding at least one match is calculated by dividing the number of matches by the total number of simulations.\n",
        "By setting people = 50 and simulations = 100000, you are aiming for a robust estimation of this probability for a room of 50 people over a large number of simulations to ensure accuracy.\n",
        "\n",
        "Let's execute your function with the given parameters and find out the probability:\n",
        "\n",
        "```\n",
        "python\n",
        "Copy code\n",
        "# Execute the function with specified parameters\n",
        "probability = simulate_birthday_paradox(50, 100000)\n",
        "\n",
        "# Output the calculated probability\n",
        "print(probability)\n",
        "```\n",
        "\n",
        "Given the setup of your function and the high number of simulations, you can expect a highly accurate approximation of the probability, which is known to be quite high for a group of 50 people. The Birthday Paradox tells us that even with 23 people, there's over a 50% chance that two people share the same birthday, and this probability increases significantly as the number of people grows, surpassing 99% well before reaching 50 people."
      ],
      "metadata": {
        "id": "Pd1e9ZALD-6x"
      }
    },
    {
      "cell_type": "code",
      "source": [],
      "metadata": {
        "id": "jJowCSRsnroR"
      },
      "execution_count": null,
      "outputs": []
    },
    {
      "cell_type": "markdown",
      "source": [
        "# Monty Hall"
      ],
      "metadata": {
        "id": "ZOjownaNntLY"
      }
    },
    {
      "cell_type": "code",
      "source": [
        "def simulate_monty_hall_final(simulations):\n",
        "    wins_switching = 0\n",
        "    wins_staying = 0\n",
        "\n",
        "    for _ in range(simulations):\n",
        "        # Randomly assign the car to a door (1, 2, or 3)\n",
        "        car_door = random.randint(1, 3)\n",
        "        # Player makes an initial choice\n",
        "        player_choice = random.randint(1, 3)\n",
        "\n",
        "        # Host opens a door, which is neither the player's choice nor the car door\n",
        "        for host_choice in [1, 2, 3]:\n",
        "            if host_choice != car_door and host_choice != player_choice:\n",
        "                break\n",
        "\n",
        "        # Find the remaining door for the player to switch to\n",
        "        for switch_choice in [1, 2, 3]:\n",
        "            if switch_choice != player_choice and switch_choice != host_choice:\n",
        "                break\n",
        "\n",
        "        # Count the number of wins for staying with the initial choice\n",
        "        if player_choice == car_door:\n",
        "            wins_staying += 1\n",
        "\n",
        "        # Count the number of wins for switching to the other door\n",
        "        if switch_choice == car_door:\n",
        "            wins_switching += 1\n",
        "\n",
        "    # Calculate the probabilities of winning by staying and switching\n",
        "    probability_staying = wins_staying / simulations\n",
        "    probability_switching = wins_switching / simulations\n",
        "\n",
        "    return probability_staying, probability_switching\n",
        "\n",
        "# Running the final version of the simulation\n",
        "final_probability_staying, final_probability_switching = simulate_monty_hall_final(simulations)\n",
        "final_probability_staying, final_probability_switching\n"
      ],
      "metadata": {
        "colab": {
          "base_uri": "https://localhost:8080/"
        },
        "id": "UagigVXQnrwI",
        "outputId": "abc48894-bab1-44ab-f3f2-9e8009f20429"
      },
      "execution_count": null,
      "outputs": [
        {
          "output_type": "execute_result",
          "data": {
            "text/plain": [
              "(0.326, 0.674)"
            ]
          },
          "metadata": {},
          "execution_count": 26
        }
      ]
    },
    {
      "cell_type": "markdown",
      "source": [
        "After running the Monty Hall simulation for 100,000 trials, the results are as follows:\n",
        "\n",
        "The probability of winning by staying with the initial choice is approximately 33.28%.\n",
        "The probability of winning by switching to the other door is approximately 66.72%.\n",
        "These results align with the well-documented conclusion of the Monty Hall problem: players who switch doors double their chances of winning compared to those who stick with their initial choice. This counterintuitive outcome highlights the importance of understanding probability theory in decision-making processes. ​​\n",
        "\n",
        "Why does switching doors increase chance of winning?\n",
        "\n",
        "The Monty Hall problem is a famous statistical puzzle that illustrates a counterintuitive aspect of probability theory. The setup involves a game show where a contestant is asked to choose one of three doors. Behind one door is a prize (e.g., a car), and behind the other two doors are goats. After the contestant makes their initial choice, the host, who knows what's behind each door, opens one of the other two doors to reveal a goat. The contestant is then given the option to stick with their original choice or switch to the other unopened door. The question is: Is the contestant better off switching their choice?\n",
        "\n",
        "Explanation\n",
        "The key to understanding why switching doors increases the chance of winning lies in the probabilities associated with each choice:\n",
        "\n",
        "Initial Choice: When the contestant chooses a door, the probability of the car being behind that door is 1/3, and the probability of it being behind one of the other two doors combined is 2/3.\n",
        "\n",
        "Host's Action: The host then reveals a goat behind one of the other two doors. Importantly, the host's action is not random; they will always open a door that has a goat behind it, which doesn't change the initial probabilities. The crucial insight is that the initial choice had a 1/3 chance of being correct, and this probability does not change after the host opens a door to reveal a goat.\n",
        "\n",
        "Switching: If the contestant switches their choice after the host reveals a goat, they are essentially choosing the two doors they didn't initially pick (knowing one is now definitely a goat, thanks to the host). Since the initial probability that the car was behind one of these two doors was 2/3, and one door has now been shown to contain a goat, switching doors means the contestant now has a 2/3 chance of winning the car.\n",
        "\n",
        "Intuitive Understanding\n",
        "An intuitive way to grasp why switching is beneficial involves imagining the same game with 100 doors instead of just three. If you choose one door and then the host, who knows what's behind each door, opens 98 doors to show they all have goats behind them, it becomes more intuitive why the one remaining door you didn't choose (out of the 99 you didn't initially pick) is much more likely to have the car behind it.\n",
        "\n",
        "Summary\n",
        "The Monty Hall problem demonstrates that the contestant's initial choice has a 1/3 chance of being correct, and nothing the host does changes this probability. Since the host's actions effectively consolidate the 2/3 probability of winning onto the one remaining unchosen door, switching doors doubles the contestant's chances of winning from 1/3 to 2/3. This outcome highlights the importance of updating one's strategy based on new information, a principle applicable in various decision-making processes beyond just game shows."
      ],
      "metadata": {
        "id": "KXQu0dkiFU9f"
      }
    },
    {
      "cell_type": "code",
      "source": [],
      "metadata": {
        "id": "S_zodvhJpkkH"
      },
      "execution_count": null,
      "outputs": []
    },
    {
      "cell_type": "markdown",
      "source": [
        "# Simple Craps"
      ],
      "metadata": {
        "id": "553F2D_eqyh9"
      }
    },
    {
      "cell_type": "code",
      "source": [
        "def simulate_dice_game(simulations):\n",
        "    wins = 0\n",
        "\n",
        "    for _ in range(simulations):\n",
        "        # Roll two six-sided dice\n",
        "        roll = random.randint(1, 6) + random.randint(1, 6)\n",
        "\n",
        "        # Check for immediate win or loss\n",
        "        if roll in [7, 11]:\n",
        "            wins += 1\n",
        "            continue\n",
        "        elif roll in [2, 3, 12]:\n",
        "            continue\n",
        "\n",
        "        # Save the initial roll\n",
        "        initial_roll = roll\n",
        "\n",
        "        # Re-roll phase\n",
        "        while True:\n",
        "            roll = random.randint(1, 6) + random.randint(1, 6)\n",
        "            if roll == 7:  # Loss condition\n",
        "                break\n",
        "            elif roll == initial_roll:  # Win condition\n",
        "                wins += 1\n",
        "                break\n",
        "\n",
        "    probability_of_winning = wins / simulations\n",
        "    return probability_of_winning\n",
        "\n",
        "# Number of simulations\n",
        "simulations = 10000\n",
        "\n",
        "# Calculate the probability\n",
        "probability_of_winning = simulate_dice_game(simulations)\n",
        "probability_of_winning\n"
      ],
      "metadata": {
        "colab": {
          "base_uri": "https://localhost:8080/"
        },
        "id": "Uez6Ycj5qxmO",
        "outputId": "66af0857-46b7-425a-f45a-0b2abccbf15b"
      },
      "execution_count": null,
      "outputs": [
        {
          "output_type": "execute_result",
          "data": {
            "text/plain": [
              "0.4894"
            ]
          },
          "metadata": {},
          "execution_count": 27
        }
      ]
    },
    {
      "cell_type": "markdown",
      "source": [
        "The dice game simulated in the function you provided is a simplified version of a gambling game, often resembling parts of the game of craps. Here's a breakdown of the game logic as implemented in the simulation and an explanation of the resulting probability of winning:\n",
        "\n",
        "Game Rules Implemented in the Simulation:\n",
        "Initial Roll: The player rolls two six-sided dice.\n",
        "\n",
        "If the sum of the dice is 7 or 11, the player wins immediately.\n",
        "If the sum is 2, 3, or 12, the player loses immediately.\n",
        "For any other sum (4, 5, 6, 8, 9, 10), that sum becomes the player's \"point.\"\n",
        "Subsequent Rolls (if the initial roll is a point):\n",
        "\n",
        "The player continues to roll two dice.\n",
        "If the player rolls their point again before rolling a 7, they win.\n",
        "If the player rolls a 7 before rolling their point again, they lose.\n",
        "Simulation Logic:\n",
        "The simulation repeats this game process for a specified number of trials (simulations), tracking the number of wins.\n",
        "The probability of winning is calculated by dividing the total number of wins by the total number of simulations.\n",
        "Explanation of Results:\n",
        "Balanced Outcome: The simulation resulted in a probability of winning of approximately 49.75%. This indicates that under the rules defined in the simulation, the game is quite balanced, with the chances of winning nearly equal to the chances of losing. This balance is reflective of the nature of the game's design, where the initial roll significantly influences the outcome.\n",
        "Impact of Rules on Probability: The specific probabilities of winning on the initial roll (22.22% for rolling a 7 or 11, and 33.33% for rolling a 2, 3, or 12) combined with the probabilities associated with establishing and successfully rolling a point contribute to the overall probability of winning. The probability of rolling a 7 (the most common outcome with two dice) during the re-roll phase influences the balanced nature of the game's outcome.\n",
        "Considerations:\n",
        "Real-World Craps: In actual craps, there are more betting options and rules, but the simulated game focuses on the basic mechanic of rolling for a point after the initial roll. The nearly 50% win rate in this simplified simulation highlights how the mix of immediate win/loss outcomes and the point mechanism contribute to the game's fairness.\n",
        "Statistical Variation: The simulated probability of winning is subject to statistical variation, especially with a finite number of simulations. More simulations would provide a more accurate estimate, but the result from 10,000 simulations gives a good indication of the game's balanced nature.\n",
        "In summary, the simulation effectively models a fair game where the player's chances of winning are close to even, demonstrating the inherent probabilities of dice rolling and the specific rules of the game as implemented."
      ],
      "metadata": {
        "id": "S59P7NsSGmCK"
      }
    },
    {
      "cell_type": "markdown",
      "source": [
        "# Collector's Card Paradox\n"
      ],
      "metadata": {
        "id": "8c3x54_kx91f"
      }
    },
    {
      "cell_type": "code",
      "source": [
        "def simulate_card_collectors_problem(n, simulations):\n",
        "    total_card_packs_bought = 0\n",
        "\n",
        "    for _ in range(simulations):\n",
        "        collected_characters = set()\n",
        "        card_packs_bought = 0\n",
        "\n",
        "        # Buy card packs until all characters are collected\n",
        "        while len(collected_characters) < n:\n",
        "            new_card = random.randint(1, n)\n",
        "            collected_characters.add(new_card)\n",
        "            card_packs_bought += 1\n",
        "\n",
        "        total_card_packs_bought += card_packs_bought\n",
        "\n",
        "    # Calculate the average number of card packs needed\n",
        "    average_card_packs_needed = total_card_packs_bought / simulations\n",
        "    return average_card_packs_needed\n",
        "\n",
        "# Number of different characters\n",
        "n = 10\n",
        "\n",
        "# Calculate the expected number of card packs\n",
        "expected_card_packs = simulate_card_collectors_problem(n, simulations)\n",
        "expected_card_packs\n"
      ],
      "metadata": {
        "id": "No2Z-6FRq3n8",
        "colab": {
          "base_uri": "https://localhost:8080/"
        },
        "outputId": "bccdc6ff-6ab5-4425-9b51-3a20ba328aa2"
      },
      "execution_count": 92,
      "outputs": [
        {
          "output_type": "execute_result",
          "data": {
            "text/plain": [
              "29.33516"
            ]
          },
          "metadata": {},
          "execution_count": 92
        }
      ]
    },
    {
      "cell_type": "markdown",
      "source": [
        "The simulation of the card collector's problem with 10 different characters and 10,000 simulations resulted in an average of approximately 29.47 card packs needed to collect all characters.\n",
        "\n",
        "Explanation of the Card Collector's Problem:\n",
        "This problem is a classic example of the \"coupon collector's problem,\" a scenario in probability theory that seeks to determine how many items you need to draw at random from a set of\n",
        "�\n",
        "n unique items before you have collected at least one of each item. The problem highlights a fundamental principle in probability and combinatorics, showing how the expected number of trials to complete a collection grows with the size of the collection.\n",
        "\n",
        "Why the Number is Around 29.47 for n=10:\n",
        "Initially, when you have no cards, the probability of getting a new card is 1, but as you collect more cards, the probability of getting a new card decreases.\n",
        "The last card, when you've already collected n−1 out of n cards, is the hardest to get. The probability of getting that last card is 1/n, which means you might need on average n attempts just to get the last card.\n",
        "The mathematical expectation for the coupon collector's problem to collect all n items is approximately $$\\sum_{k=1}^{n} \\frac{k}{n}$$\n",
        "\n",
        "\n",
        " , which grows with the number of items. For n=10, this expectation sums to a number close to what the simulation found.\n",
        "\n",
        "Implications:\n",
        "The result from the simulation provides an empirical confirmation of the mathematical expectation for the coupon collector's problem. It demonstrates how, even for a relatively small set of 10 items, the average number of purchases required to complete a collection can be significantly larger than the number of items in the collection itself. This outcome is due to the increasing likelihood of purchasing duplicates as the collection nears completion.\n",
        "\n",
        "This problem and its solution are relevant in various real-world scenarios, including marketing strategies (e.g., collectible toys in fast-food meals), designing trading card game packs, and understanding sampling methods in statistical surveys. ​"
      ],
      "metadata": {
        "id": "8gpJs36VG-Mw"
      }
    },
    {
      "cell_type": "code",
      "source": [],
      "metadata": {
        "id": "AUkmiRElj7kL"
      },
      "execution_count": null,
      "outputs": []
    },
    {
      "cell_type": "code",
      "source": [
        "import random\n",
        "\n",
        "def simulate_sock_drawer_problem(n, simulations):\n",
        "    total_draws = 0\n",
        "\n",
        "    for _ in range(simulations):\n",
        "        socks = {}\n",
        "        draws = 0\n",
        "\n",
        "        while True:\n",
        "            # Randomly draw a sock\n",
        "            sock_color = random.randint(1, n)\n",
        "            draws += 1\n",
        "\n",
        "            # Update the count for this color\n",
        "            if sock_color in socks:\n",
        "                socks[sock_color] += 1\n",
        "            else:\n",
        "                socks[sock_color] = 1\n",
        "\n",
        "            # Check for a pair\n",
        "            if socks[sock_color] == 2:\n",
        "                break\n",
        "\n",
        "        total_draws += draws\n",
        "\n",
        "    # Calculate the average number of draws needed\n",
        "    average_draws_needed = total_draws / simulations\n",
        "    return average_draws_needed\n",
        "\n",
        "# Number of pairs of socks\n",
        "n = 10\n",
        "\n",
        "# Number of simulations\n",
        "simulations = 10000\n",
        "\n",
        "# Calculate the expected number of draws\n",
        "expected_draws = simulate_sock_drawer_problem(n, simulations)\n",
        "expected_draws\n"
      ],
      "metadata": {
        "colab": {
          "base_uri": "https://localhost:8080/"
        },
        "id": "aKEfCochj7qD",
        "outputId": "7772cf39-8fc2-41f6-ccd2-2dc2d853992a"
      },
      "execution_count": null,
      "outputs": [
        {
          "output_type": "execute_result",
          "data": {
            "text/plain": [
              "4.6864"
            ]
          },
          "metadata": {},
          "execution_count": 4
        }
      ]
    },
    {
      "cell_type": "markdown",
      "source": [
        "\n",
        "After running the simulation for the sock drawer problem with 10 pairs of socks and 10,000 simulations, the expected number of draws needed to get a matching pair of socks is approximately 4.66.\n",
        "\n",
        "This result illustrates that, on average, you would need to draw slightly more than four socks from the drawer to find a matching pair when there are 10 distinct pairs of socks available. This outcome provides an intuitive understanding of probability and combinatorics in everyday scenarios, demonstrating that the likelihood of drawing a matching pair increases with each additional draw from the sock drawer. ​​\n",
        "\n",
        "The sock drawer problem simulates a scenario where you have a drawer full of socks, each pair of a unique color, and you're drawing socks randomly without looking. The objective is to find out how many socks you need to draw to get a matching pair. This problem illustrates concepts in probability and combinatorics, particularly the idea of the \"pigeonhole principle\" and the randomness of matching events.\n",
        "\n",
        "In the simulation with 10 pairs of socks (20 individual socks, each pair of a distinct color) and running 10,000 simulations to average out the results, we found that approximately 4.66 draws are needed on average to get a matching pair. Here's why the number of draws makes sense intuitively:\n",
        "\n",
        "First Draw: The first sock you draw could be of any color, so it doesn't get you a matching pair but sets the stage by removing one possible match from the pool.\n",
        "\n",
        "Second Draw: On the second draw, there's a chance you could draw the matching pair to the first sock, but given that there are 19 socks left and only 1 of them is a match, the probability is relatively low (1/19).\n",
        "\n",
        "Subsequent Draws: With each additional sock drawn, the probability of drawing a matching pair increases because the pool of remaining socks decreases while the variety of single socks you've already drawn increases. This means that, although it's possible to get a matching pair on the second draw, it's more likely to require a few more draws.\n",
        "\n",
        "Pigeonhole Principle: This principle states that if you have more \"pigeons\" (in this case, draws) than \"pigeonholes\" (in this case, pairs of socks), you will end up with at least one pigeonhole containing two or more pigeons. Applied here, once you've drawn more than 10 socks (the number of pairs), you're guaranteed to have a pair because there are only 10 different colors.\n",
        "\n",
        "Average Draws: The result of approximately 4.66 draws on average to find a matching pair accounts for the randomness of the process. Sometimes you might get lucky and draw a pair within the first few draws; other times, it might take longer. The average reflects a balance over many trials, demonstrating that while it's relatively unlikely to match on the very first few draws, you typically won't need to draw many socks before finding a match.\n",
        "\n",
        "This simulation and its result provide an insightful look into how probability plays out in practical scenarios, offering a balance between the certainty of theoretical principles (like the pigeonhole principle) and the variability of real-world randomness."
      ],
      "metadata": {
        "id": "8Ck8fc2_Iq7n"
      }
    },
    {
      "cell_type": "code",
      "source": [],
      "metadata": {
        "id": "2Bu01yERIA2t"
      },
      "execution_count": null,
      "outputs": []
    },
    {
      "cell_type": "code",
      "source": [],
      "metadata": {
        "id": "npO5QO5uIA7N"
      },
      "execution_count": null,
      "outputs": []
    },
    {
      "cell_type": "code",
      "source": [],
      "metadata": {
        "id": "CJytUWGSIA9j"
      },
      "execution_count": null,
      "outputs": []
    },
    {
      "cell_type": "code",
      "source": [],
      "metadata": {
        "id": "SubtzXpsIBHP"
      },
      "execution_count": null,
      "outputs": []
    },
    {
      "cell_type": "code",
      "source": [
        "def cumulative_sum(x):\n",
        "    y = np.zeros(x.shape)\n",
        "    for n in range(1, x.shape[0] + 1):\n",
        "        y[n-1] = np.sum(x[0:n])\n",
        "    return y\n"
      ],
      "metadata": {
        "id": "FK23h5FuYJh3"
      },
      "execution_count": 6,
      "outputs": []
    },
    {
      "cell_type": "code",
      "source": [
        "z = np.array([1, 2, 3, 4, 5])"
      ],
      "metadata": {
        "id": "JFHWf9KDYQBD"
      },
      "execution_count": 7,
      "outputs": []
    },
    {
      "cell_type": "code",
      "source": [
        "z"
      ],
      "metadata": {
        "colab": {
          "base_uri": "https://localhost:8080/"
        },
        "outputId": "ecaeaf7f-da22-4d48-9881-d40f55299046",
        "id": "SSWj_uHfYQBK"
      },
      "execution_count": 8,
      "outputs": [
        {
          "output_type": "execute_result",
          "data": {
            "text/plain": [
              "array([1, 2, 3, 4, 5])"
            ]
          },
          "metadata": {},
          "execution_count": 8
        }
      ]
    },
    {
      "cell_type": "code",
      "source": [
        "cumulative_sum(z)\n",
        "\n",
        "# Turn off (comment #)  y = y / np.max(y) line (#) 3 lines up and will turn out right"
      ],
      "metadata": {
        "colab": {
          "base_uri": "https://localhost:8080/"
        },
        "outputId": "8cecff78-c23e-48c4-b49b-0f566bad8b62",
        "id": "XZuLA1wDYQBK"
      },
      "execution_count": 9,
      "outputs": [
        {
          "output_type": "execute_result",
          "data": {
            "text/plain": [
              "array([ 1.,  3.,  6., 10., 15.])"
            ]
          },
          "metadata": {},
          "execution_count": 9
        }
      ]
    },
    {
      "cell_type": "code",
      "source": [],
      "metadata": {
        "id": "_A22O_8mYJok"
      },
      "execution_count": null,
      "outputs": []
    },
    {
      "cell_type": "code",
      "source": [],
      "metadata": {
        "id": "Qc-KPCoyYJqy"
      },
      "execution_count": null,
      "outputs": []
    },
    {
      "cell_type": "code",
      "source": [],
      "metadata": {
        "id": "e9QaHNP5YJzO"
      },
      "execution_count": null,
      "outputs": []
    }
  ]
}